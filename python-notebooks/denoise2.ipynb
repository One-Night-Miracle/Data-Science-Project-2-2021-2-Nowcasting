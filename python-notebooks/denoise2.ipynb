{
 "cells": [
  {
   "cell_type": "code",
   "execution_count": 1,
   "metadata": {},
   "outputs": [],
   "source": [
    "import cv2\n",
    "import numpy as np\n",
    "import pandas as pd\n",
    "from tqdm import tqdm\n",
    "import matplotlib as mpl\n",
    "import matplotlib.pyplot as plt\n",
    "# from scipy.spatial.distance import mahalanobis"
   ]
  },
  {
   "cell_type": "code",
   "execution_count": 2,
   "metadata": {},
   "outputs": [],
   "source": [
    "import sys, os\n",
    "sys.path.insert(0, '/content/Data-Science-Project-2-2021-2-Nowcasting')"
   ]
  },
  {
   "cell_type": "markdown",
   "metadata": {},
   "source": [
    "### Load raw_tuple (numpy array)"
   ]
  },
  {
   "cell_type": "code",
   "execution_count": 5,
   "metadata": {},
   "outputs": [],
   "source": [
    "raw_tuple = np.load(\"../data/raw_tuple.npy\")\n",
    "raw_tuple_loc = np.load(\"../data/raw_tuple_loc.npy\")"
   ]
  },
  {
   "cell_type": "markdown",
   "metadata": {},
   "source": [
    "#### raw_tuple (n_imgs, (pixel_value, counts))"
   ]
  },
  {
   "cell_type": "code",
   "execution_count": 6,
   "metadata": {},
   "outputs": [
    {
     "data": {
      "text/plain": [
       "(10, 2)"
      ]
     },
     "execution_count": 6,
     "metadata": {},
     "output_type": "execute_result"
    }
   ],
   "source": [
    "raw_tuple.shape"
   ]
  },
  {
   "cell_type": "code",
   "execution_count": 18,
   "metadata": {},
   "outputs": [
    {
     "data": {
      "text/plain": [
       "array([[   188,  84796],\n",
       "       [   103,  61226],\n",
       "       [   160, 521425],\n",
       "       [   222, 435809],\n",
       "       [   171,  24435],\n",
       "       [   154,  24233],\n",
       "       [   120,   6495],\n",
       "       [    86,   1002],\n",
       "       [    69,     17],\n",
       "       [   205, 247380]], dtype=int64)"
      ]
     },
     "execution_count": 18,
     "metadata": {},
     "output_type": "execute_result"
    }
   ],
   "source": [
    "raw_tuple"
   ]
  },
  {
   "cell_type": "code",
   "execution_count": 36,
   "metadata": {},
   "outputs": [],
   "source": [
    "features = np.zeros((255,))\n",
    "for key, val in raw_tuple:\n",
    "  features[key] = key*val"
   ]
  },
  {
   "cell_type": "code",
   "execution_count": 43,
   "metadata": {},
   "outputs": [
    {
     "data": {
      "text/plain": [
       "(255,)"
      ]
     },
     "execution_count": 43,
     "metadata": {},
     "output_type": "execute_result"
    }
   ],
   "source": [
    "mu = features/(2034*2048)\n",
    "mu.shape"
   ]
  },
  {
   "cell_type": "markdown",
   "metadata": {},
   "source": [
    "#### raw_tuple_loc (?, (location_x, location_y, pixel_value, count))"
   ]
  },
  {
   "cell_type": "code",
   "execution_count": 20,
   "metadata": {},
   "outputs": [
    {
     "data": {
      "text/plain": [
       "(899683, 4)"
      ]
     },
     "execution_count": 20,
     "metadata": {},
     "output_type": "execute_result"
    }
   ],
   "source": [
    "raw_tuple_loc.shape"
   ]
  },
  {
   "cell_type": "code",
   "execution_count": 23,
   "metadata": {},
   "outputs": [
    {
     "data": {
      "text/plain": [
       "array([[1312,   10,  103,   10],\n",
       "       [1431,   16,  103,   10]], dtype=int64)"
      ]
     },
     "execution_count": 23,
     "metadata": {},
     "output_type": "execute_result"
    }
   ],
   "source": [
    "raw_tuple_loc[:2]"
   ]
  },
  {
   "cell_type": "code",
   "execution_count": 33,
   "metadata": {},
   "outputs": [],
   "source": [
    "features_wloc = np.zeros((2034,2048,255))"
   ]
  },
  {
   "cell_type": "code",
   "execution_count": 34,
   "metadata": {},
   "outputs": [],
   "source": [
    "for loc_x, loc_y, key, val in raw_tuple_loc:\n",
    "  features_wloc[loc_x][loc_y][key] = val"
   ]
  },
  {
   "cell_type": "code",
   "execution_count": 35,
   "metadata": {},
   "outputs": [
    {
     "data": {
      "text/plain": [
       "(2034, 2048, 255)"
      ]
     },
     "execution_count": 35,
     "metadata": {},
     "output_type": "execute_result"
    }
   ],
   "source": [
    "features_wloc.shape"
   ]
  },
  {
   "cell_type": "code",
   "execution_count": 45,
   "metadata": {},
   "outputs": [
    {
     "data": {
      "text/plain": [
       "(1, 1, 255)"
      ]
     },
     "execution_count": 45,
     "metadata": {},
     "output_type": "execute_result"
    }
   ],
   "source": [
    "mu_2dim = np.expand_dims(mu, axis=0)\n",
    "mu_3dim = np.expand_dims(mu_2dim, axis=0)\n",
    "mu_3dim.shape"
   ]
  },
  {
   "cell_type": "code",
   "execution_count": 46,
   "metadata": {},
   "outputs": [],
   "source": [
    "diff = features_wloc - mu_3dim"
   ]
  },
  {
   "cell_type": "code",
   "execution_count": 54,
   "metadata": {},
   "outputs": [
    {
     "data": {
      "text/plain": [
       "(4165632, 255)"
      ]
     },
     "execution_count": 54,
     "metadata": {},
     "output_type": "execute_result"
    }
   ],
   "source": [
    "diff.shape"
   ]
  },
  {
   "cell_type": "code",
   "execution_count": 53,
   "metadata": {},
   "outputs": [],
   "source": [
    "diff = diff.reshape(-1, 255)"
   ]
  },
  {
   "cell_type": "code",
   "execution_count": 51,
   "metadata": {},
   "outputs": [],
   "source": [
    "gram = np.matmul(diff.T, diff)/(2034*2048-1)"
   ]
  },
  {
   "cell_type": "code",
   "execution_count": 56,
   "metadata": {},
   "outputs": [],
   "source": [
    "eig_value, eig_vector = np.linalg.eigh(gram)\n",
    "eig_value, eig_vector = eig_value[::-1], eig_vector[:, ::-1]"
   ]
  },
  {
   "cell_type": "code",
   "execution_count": 57,
   "metadata": {},
   "outputs": [],
   "source": [
    "small_value =  1e-10\n",
    "mask = eig_value > 1e-10"
   ]
  },
  {
   "cell_type": "code",
   "execution_count": 58,
   "metadata": {},
   "outputs": [
    {
     "name": "stdout",
     "output_type": "stream",
     "text": [
      "Non-zero eigenvalues: 10\n",
      "Shape of Gram Matrix: (255, 255)\n"
     ]
    }
   ],
   "source": [
    "print(\"Non-zero eigenvalues:\", mask.sum())\n",
    "print(\"Shape of Gram Matrix:\", gram.shape)"
   ]
  },
  {
   "cell_type": "code",
   "execution_count": 62,
   "metadata": {},
   "outputs": [
    {
     "data": {
      "text/plain": [
       "(255,)"
      ]
     },
     "execution_count": 62,
     "metadata": {},
     "output_type": "execute_result"
    }
   ],
   "source": [
    "eig_vector.shape"
   ]
  },
  {
   "cell_type": "code",
   "execution_count": 69,
   "metadata": {},
   "outputs": [
    {
     "ename": "MemoryError",
     "evalue": "Unable to allocate 126. TiB for an array with shape (4165632, 4165632) and data type float64",
     "output_type": "error",
     "traceback": [
      "\u001b[1;31m---------------------------------------------------------------------------\u001b[0m",
      "\u001b[1;31mMemoryError\u001b[0m                               Traceback (most recent call last)",
      "\u001b[1;32mc:\\Users\\FACT-PC\\Desktop\\git_workspace\\Data-Science-Project-2-2021-2-Nowcasting\\python-notebooks\\spark_denoise2.ipynb Cell 25'\u001b[0m in \u001b[0;36m<cell line: 3>\u001b[1;34m()\u001b[0m\n\u001b[0;32m      <a href='vscode-notebook-cell:/c%3A/Users/FACT-PC/Desktop/git_workspace/Data-Science-Project-2-2021-2-Nowcasting/python-notebooks/spark_denoise2.ipynb#ch0000022?line=0'>1</a>\u001b[0m S \u001b[39m=\u001b[39m gram\u001b[39m/\u001b[39m(\u001b[39m2034\u001b[39m\u001b[39m*\u001b[39m\u001b[39m2048\u001b[39m\u001b[39m-\u001b[39m\u001b[39m1\u001b[39m)\n\u001b[0;32m      <a href='vscode-notebook-cell:/c%3A/Users/FACT-PC/Desktop/git_workspace/Data-Science-Project-2-2021-2-Nowcasting/python-notebooks/spark_denoise2.ipynb#ch0000022?line=1'>2</a>\u001b[0m D \u001b[39m=\u001b[39m np\u001b[39m.\u001b[39mmatmul(diff, S\u001b[39m.\u001b[39mT)\n\u001b[1;32m----> <a href='vscode-notebook-cell:/c%3A/Users/FACT-PC/Desktop/git_workspace/Data-Science-Project-2-2021-2-Nowcasting/python-notebooks/spark_denoise2.ipynb#ch0000022?line=2'>3</a>\u001b[0m D \u001b[39m=\u001b[39m np\u001b[39m.\u001b[39msqrt(np\u001b[39m.\u001b[39;49mmatmul(D, diff\u001b[39m.\u001b[39;49mT))\n",
      "\u001b[1;31mMemoryError\u001b[0m: Unable to allocate 126. TiB for an array with shape (4165632, 4165632) and data type float64"
     ]
    }
   ],
   "source": [
    "S = gram/(2034*2048-1)\n",
    "S_pinv = S.T\n",
    "D = np.sqrt(diff @ S_pinv @ diff.T)"
   ]
  }
 ],
 "metadata": {
  "interpreter": {
   "hash": "eb1796cbf25d2108f32d5db083036b25e583e4721264bccb55031d3096240637"
  },
  "kernelspec": {
   "display_name": "Python 3.8.13 ('torch')",
   "language": "python",
   "name": "python3"
  },
  "language_info": {
   "codemirror_mode": {
    "name": "ipython",
    "version": 3
   },
   "file_extension": ".py",
   "mimetype": "text/x-python",
   "name": "python",
   "nbconvert_exporter": "python",
   "pygments_lexer": "ipython3",
   "version": "3.8.13"
  },
  "orig_nbformat": 4
 },
 "nbformat": 4,
 "nbformat_minor": 2
}

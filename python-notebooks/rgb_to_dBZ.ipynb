{
  "cells": [
    {
      "cell_type": "code",
      "execution_count": 2,
      "metadata": {},
      "outputs": [],
      "source": [
        "import numpy as np\n",
        "import pandas as pd\n",
        "import matplotlib as mpl\n",
        "import matplotlib.pyplot as plt\n",
        "import torch\n",
        "from PIL import Image\n",
        "import torchvision.transforms as T\n",
        "from tqdm import tqdm"
      ]
    },
    {
      "cell_type": "code",
      "execution_count": 3,
      "metadata": {},
      "outputs": [],
      "source": [
        "import os, sys\n",
        "sys.path.insert(0,os.path.realpath(os.path.pardir))"
      ]
    },
    {
      "cell_type": "code",
      "execution_count": null,
      "metadata": {},
      "outputs": [],
      "source": [
        "from utils.config import cfg\n",
        "device = cfg.GLOBAL.DEVICE\n",
        "\n",
        "from utils.utils import *\n",
        "rebuild_bkk_pkl()"
      ]
    },
    {
      "cell_type": "code",
      "execution_count": 4,
      "metadata": {},
      "outputs": [],
      "source": [
        "def radar_colormap():\n",
        "    nws_reflectivity_colors = np.array([\n",
        "    (165, 151, 95), # ND\n",
        "    (0, 255, 128), # 5.5\n",
        "    (0, 255, 0), # 10\n",
        "    (0, 175, 0), # 15\n",
        "    (0, 150, 50), # 20\n",
        "    (255, 255, 0), # 25\n",
        "    (255, 200, 0), # 30\n",
        "    (255, 170, 0), # 35\n",
        "    (255, 85, 0), # 40\n",
        "    (255, 0, 0), # 45\n",
        "    (255, 0, 100), # 50\n",
        "    (255, 0, 255), # 55\n",
        "    (255, 128, 255), # 60\n",
        "    (255, 200, 255), # 65\n",
        "    (255, 225, 255), # 70\n",
        "    (255, 255, 255) # 75\n",
        "    ])\n",
        "    return torch.tensor(nws_reflectivity_colors).to(device)\n",
        "    # return mpl.colors.ListedColormap(nws_reflectivity_colors)\n",
        "\n",
        "dBZmap = torch.tensor([0,5.5,10,15,20,25,30,35,40,45,50,55,60,65,70,75]).to(device)\n",
        "dBZmap = dBZmap * 255. / 75."
      ]
    },
    {
      "cell_type": "code",
      "execution_count": 5,
      "metadata": {},
      "outputs": [
        {
          "data": {
            "image/png": "[encoded data removed]",
            "text/html": [
              "<div style=\"vertical-align: middle;\"><strong>from_list</strong> </div><div class=\"cmap\"><img alt=\"from_list colormap\" title=\"from_list\" style=\"border: 1px solid #555;\" src=\"data:image/png;base64,iVBORw0KGgoAAAANSUhEUgAAAgAAAABACAYAAABsv8+/AAAAGHRFWHRUaXRsZQBmcm9tX2xpc3QgY29sb3JtYXBDL89FAAAAHnRFWHREZXNjcmlwdGlvbgBmcm9tX2xpc3QgY29sb3JtYXABtCnOAAAAMHRFWHRBdXRob3IATWF0cGxvdGxpYiB2My41LjIsIGh0dHBzOi8vbWF0cGxvdGxpYi5vcmfCWnicAAAAMnRFWHRTb2Z0d2FyZQBNYXRwbG90bGliIHYzLjUuMiwgaHR0cHM6Ly9tYXRwbG90bGliLm9yZ+z857sAAAFtSURBVHic7dYhVQMAFEDRP1pgOIcKpKADYgYBLdYCgUZhqIFZiJnF2GJ88e4t8Ow7/Hwdb7Po7eN5Mz8zp938325+ri+r+dvnebU//7v5uSz3f+P9eV/uf+/mT7v5eV3uPy73n3bzD7t5AGCDAQCAIAMAAEEGAACCDAAABBkAAAgyAAAQZAAAIMgAAECQAQCAIAMAAEEGAACCDAAABBkAAAgyAAAQZAAAIMgAAECQAQCAIAMAAEEGAACCDAAABBkAAAgyAAAQZAAAIMgAAECQAQCAIAMAAEEGAACCDAAABBkAAAgyAAAQZAAAIMgAAECQAQCAIAMAAEEGAACCDAAABBkAAAgyAAAQZAAAIMgAAECQAQCAIAMAAEEGAACCDAAABBkAAAgyAAAQZAAAIMgAAECQAQCAIAMAAEEGAACCDAAABBkAAAgyAAAQZAAAIMgAAECQAQCAIAMAAEEGAACCDAAABBkAAAgyAAAQdAc+zA18EgkooAAAAABJRU5ErkJggg==\"></div><div style=\"vertical-align: middle; max-width: 514px; display: flex; justify-content: space-between;\"><div style=\"float: left;\"><div title=\"#a5975fff\" style=\"display: inline-block; width: 1em; height: 1em; margin: 0; vertical-align: middle; border: 1px solid #555; background-color: #a5975fff;\"></div> under</div><div style=\"margin: 0 auto; display: inline-block;\">bad <div title=\"#00000000\" style=\"display: inline-block; width: 1em; height: 1em; margin: 0; vertical-align: middle; border: 1px solid #555; background-color: #00000000;\"></div></div><div style=\"float: right;\">over <div title=\"#ffffffff\" style=\"display: inline-block; width: 1em; height: 1em; margin: 0; vertical-align: middle; border: 1px solid #555; background-color: #ffffffff;\"></div></div>"
            ],
            "text/plain": [
              "<matplotlib.colors.ListedColormap at 0x2928f0b5ca0>"
            ]
          },
          "execution_count": 5,
          "metadata": {},
          "output_type": "execute_result"
        }
      ],
      "source": [
        "mpl.colors.ListedColormap(radar_colormap().cpu().numpy()/255)"
      ]
    },
    {
      "cell_type": "code",
      "execution_count": 6,
      "metadata": {},
      "outputs": [],
      "source": [
        "def color2dBZ(rgb, dBZmap):\n",
        "    w, h, c = rgb.shape\n",
        "    rgb = rgb.reshape(-1, c)[:,:3]\n",
        "    rgb = torch.Tensor(rgb).to(device)\n",
        "    cmap = radar_colormap().unsqueeze(0).to(device)\n",
        "    repeated_rgb = rgb.unsqueeze(1).repeat(1,16,1).to(device)\n",
        "    # print(repeated_rgb.shape, cmap.shape)\n",
        "    rgb_diff2 = ((repeated_rgb - cmap)**2).mean(axis=2)\n",
        "    return dBZmap[torch.argmin(rgb_diff2,axis=1).to(device)].reshape(w, h, 1)\n",
        "\n",
        "transform = T.ToPILImage()\n",
        "\n",
        "def convert_n_save(df, path, idx):\n",
        "    data = df.iloc[idx]\n",
        "    rgb_img = Image.open(f\"..{data.FolderPath}{data.FileName}\")\n",
        "    rgb_img = np.asarray(rgb_img)\n",
        "    dBZ_img = color2dBZ(rgb_img, dBZmap)\n",
        "    dBZ_img = transform(dBZ_img.permute(2,0,1))\n",
        "    dBZ_img.save(f\"{path}{data.FileName}\")"
      ]
    },
    {
      "cell_type": "code",
      "execution_count": 11,
      "metadata": {},
      "outputs": [],
      "source": [
        "filenames = pd.read_pickle(cfg.ONM_PD.FOLDER_ALL)"
      ]
    },
    {
      "cell_type": "code",
      "execution_count": 12,
      "metadata": {},
      "outputs": [
        {
          "data": {
            "text/html": [
              "<div>\n",
              "<style scoped>\n",
              "    .dataframe tbody tr th:only-of-type {\n",
              "        vertical-align: middle;\n",
              "    }\n",
              "\n",
              "    .dataframe tbody tr th {\n",
              "        vertical-align: top;\n",
              "    }\n",
              "\n",
              "    .dataframe thead th {\n",
              "        text-align: right;\n",
              "    }\n",
              "</style>\n",
              "<table border=\"1\" class=\"dataframe\">\n",
              "  <thead>\n",
              "    <tr style=\"text-align: right;\">\n",
              "      <th></th>\n",
              "      <th>FileName</th>\n",
              "      <th>RADAR_RGB_PNG_PATH</th>\n",
              "      <th>RADAR_dBZ_PNG_PATH</th>\n",
              "      <th>RADAR_MASK_PATH</th>\n",
              "    </tr>\n",
              "    <tr>\n",
              "      <th>DateTime</th>\n",
              "      <th></th>\n",
              "      <th></th>\n",
              "      <th></th>\n",
              "      <th></th>\n",
              "    </tr>\n",
              "  </thead>\n",
              "  <tbody>\n",
              "    <tr>\n",
              "      <th>2020-06-18 06:30:00</th>\n",
              "      <td>1592461954</td>\n",
              "      <td>bkk_radar_images_1</td>\n",
              "      <td>bkk_radar_images_dBZ_1</td>\n",
              "      <td>bkk_radar_images_mask_1</td>\n",
              "    </tr>\n",
              "    <tr>\n",
              "      <th>2020-06-18 06:35:00</th>\n",
              "      <td>1592462136</td>\n",
              "      <td>bkk_radar_images_1</td>\n",
              "      <td>bkk_radar_images_dBZ_1</td>\n",
              "      <td>bkk_radar_images_mask_1</td>\n",
              "    </tr>\n",
              "    <tr>\n",
              "      <th>2020-06-18 06:45:00</th>\n",
              "      <td>1592462768</td>\n",
              "      <td>bkk_radar_images_1</td>\n",
              "      <td>bkk_radar_images_dBZ_1</td>\n",
              "      <td>bkk_radar_images_mask_1</td>\n",
              "    </tr>\n",
              "    <tr>\n",
              "      <th>2020-06-18 06:50:00</th>\n",
              "      <td>1592463068</td>\n",
              "      <td>bkk_radar_images_1</td>\n",
              "      <td>bkk_radar_images_dBZ_1</td>\n",
              "      <td>bkk_radar_images_mask_1</td>\n",
              "    </tr>\n",
              "    <tr>\n",
              "      <th>2020-06-18 06:55:00</th>\n",
              "      <td>1592463277</td>\n",
              "      <td>bkk_radar_images_1</td>\n",
              "      <td>bkk_radar_images_dBZ_1</td>\n",
              "      <td>bkk_radar_images_mask_1</td>\n",
              "    </tr>\n",
              "    <tr>\n",
              "      <th>...</th>\n",
              "      <td>...</td>\n",
              "      <td>...</td>\n",
              "      <td>...</td>\n",
              "      <td>...</td>\n",
              "    </tr>\n",
              "    <tr>\n",
              "      <th>2021-06-28 20:05:00</th>\n",
              "      <td>1624910840</td>\n",
              "      <td>bkk_radar_images_13</td>\n",
              "      <td>bkk_radar_images_dBZ_13</td>\n",
              "      <td>bkk_radar_images_mask_13</td>\n",
              "    </tr>\n",
              "    <tr>\n",
              "      <th>2021-06-28 20:35:00</th>\n",
              "      <td>1624912646</td>\n",
              "      <td>bkk_radar_images_13</td>\n",
              "      <td>bkk_radar_images_dBZ_13</td>\n",
              "      <td>bkk_radar_images_mask_13</td>\n",
              "    </tr>\n",
              "    <tr>\n",
              "      <th>2021-06-28 20:45:00</th>\n",
              "      <td>1624913244</td>\n",
              "      <td>bkk_radar_images_13</td>\n",
              "      <td>bkk_radar_images_dBZ_13</td>\n",
              "      <td>bkk_radar_images_mask_13</td>\n",
              "    </tr>\n",
              "    <tr>\n",
              "      <th>2021-06-28 21:15:00</th>\n",
              "      <td>1624915046</td>\n",
              "      <td>bkk_radar_images_13</td>\n",
              "      <td>bkk_radar_images_dBZ_13</td>\n",
              "      <td>bkk_radar_images_mask_13</td>\n",
              "    </tr>\n",
              "    <tr>\n",
              "      <th>2021-06-28 21:20:00</th>\n",
              "      <td>1624915346</td>\n",
              "      <td>bkk_radar_images_13</td>\n",
              "      <td>bkk_radar_images_dBZ_13</td>\n",
              "      <td>bkk_radar_images_mask_13</td>\n",
              "    </tr>\n",
              "  </tbody>\n",
              "</table>\n",
              "<p>85389 rows × 4 columns</p>\n",
              "</div>"
            ],
            "text/plain": [
              "                       FileName   RADAR_RGB_PNG_PATH       RADAR_dBZ_PNG_PATH  \\\n",
              "DateTime                                                                        \n",
              "2020-06-18 06:30:00  1592461954   bkk_radar_images_1   bkk_radar_images_dBZ_1   \n",
              "2020-06-18 06:35:00  1592462136   bkk_radar_images_1   bkk_radar_images_dBZ_1   \n",
              "2020-06-18 06:45:00  1592462768   bkk_radar_images_1   bkk_radar_images_dBZ_1   \n",
              "2020-06-18 06:50:00  1592463068   bkk_radar_images_1   bkk_radar_images_dBZ_1   \n",
              "2020-06-18 06:55:00  1592463277   bkk_radar_images_1   bkk_radar_images_dBZ_1   \n",
              "...                         ...                  ...                      ...   \n",
              "2021-06-28 20:05:00  1624910840  bkk_radar_images_13  bkk_radar_images_dBZ_13   \n",
              "2021-06-28 20:35:00  1624912646  bkk_radar_images_13  bkk_radar_images_dBZ_13   \n",
              "2021-06-28 20:45:00  1624913244  bkk_radar_images_13  bkk_radar_images_dBZ_13   \n",
              "2021-06-28 21:15:00  1624915046  bkk_radar_images_13  bkk_radar_images_dBZ_13   \n",
              "2021-06-28 21:20:00  1624915346  bkk_radar_images_13  bkk_radar_images_dBZ_13   \n",
              "\n",
              "                              RADAR_MASK_PATH  \n",
              "DateTime                                       \n",
              "2020-06-18 06:30:00   bkk_radar_images_mask_1  \n",
              "2020-06-18 06:35:00   bkk_radar_images_mask_1  \n",
              "2020-06-18 06:45:00   bkk_radar_images_mask_1  \n",
              "2020-06-18 06:50:00   bkk_radar_images_mask_1  \n",
              "2020-06-18 06:55:00   bkk_radar_images_mask_1  \n",
              "...                                       ...  \n",
              "2021-06-28 20:05:00  bkk_radar_images_mask_13  \n",
              "2021-06-28 20:35:00  bkk_radar_images_mask_13  \n",
              "2021-06-28 20:45:00  bkk_radar_images_mask_13  \n",
              "2021-06-28 21:15:00  bkk_radar_images_mask_13  \n",
              "2021-06-28 21:20:00  bkk_radar_images_mask_13  \n",
              "\n",
              "[85389 rows x 4 columns]"
            ]
          },
          "execution_count": 12,
          "metadata": {},
          "output_type": "execute_result"
        }
      ],
      "source": [
        "filenames"
      ]
    },
    {
      "cell_type": "markdown",
      "metadata": {},
      "source": [
        "### Set folder_i to bkk_radar_images_{i} in order to convert from RGB to dBZ"
      ]
    },
    {
      "cell_type": "code",
      "execution_count": null,
      "metadata": {},
      "outputs": [],
      "source": [
        "folder_i = 8\n",
        "\n",
        "df = None\n",
        "newPath = None\n",
        "exec(f\"df = filenames_{folder_i}\")\n",
        "exec(f\"newPath = os.path.join(cfg.RADAR_dBZ_PNG_PATH, 'bkk_radar_images_dBZ_{folder_i}')\")\n",
        "\n",
        "for idx in tqdm(range(df.shape[0])):\n",
        "    convert_n_save(df, newPath, idx)"
      ]
    }
  ],
  "metadata": {
    "interpreter": {
      "hash": "eb1796cbf25d2108f32d5db083036b25e583e4721264bccb55031d3096240637"
    },
    "kernelspec": {
      "display_name": "Python 3.8.13 ('torch')",
      "language": "python",
      "name": "python3"
    },
    "language_info": {
      "codemirror_mode": {
        "name": "ipython",
        "version": 3
      },
      "file_extension": ".py",
      "mimetype": "text/x-python",
      "name": "python",
      "nbconvert_exporter": "python",
      "pygments_lexer": "ipython3",
      "version": "3.8.13"
    },
    "orig_nbformat": 4
  },
  "nbformat": 4,
  "nbformat_minor": 2
}

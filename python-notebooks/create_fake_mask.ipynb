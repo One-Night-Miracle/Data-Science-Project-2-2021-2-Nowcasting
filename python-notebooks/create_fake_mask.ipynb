{
 "cells": [
  {
   "cell_type": "code",
   "execution_count": 7,
   "metadata": {},
   "outputs": [],
   "source": [
    "import cv2\n",
    "import numpy as np\n",
    "import pandas as pd\n",
    "from tqdm import tqdm\n",
    "import matplotlib as mpl\n",
    "import matplotlib.pyplot as plt"
   ]
  },
  {
   "cell_type": "code",
   "execution_count": 8,
   "metadata": {},
   "outputs": [],
   "source": [
    "import os, sys\n",
    "sys.path.insert(0, os.path.realpath(os.path.pardir))"
   ]
  },
  {
   "cell_type": "code",
   "execution_count": 9,
   "metadata": {},
   "outputs": [],
   "source": [
    "from utils.config import cfg\n",
    "from utils.tools import mask"
   ]
  },
  {
   "cell_type": "code",
   "execution_count": 10,
   "metadata": {},
   "outputs": [
    {
     "name": "stderr",
     "output_type": "stream",
     "text": [
      "C:\\Users\\FACT-PC\\Desktop\\git_workspace\\Data-Science-Project-2-2021-2-Nowcasting\\utils\\utils.py:166: FutureWarning: The default value of regex will change from True to False in a future version.\n",
      "  filenames['FileName'] = filenames['FileName'].str.replace(\".png\",\"\")\n"
     ]
    }
   ],
   "source": [
    "from utils.utils import *\n",
    "rebuild_bkk_pkl()"
   ]
  },
  {
   "cell_type": "code",
   "execution_count": 11,
   "metadata": {},
   "outputs": [
    {
     "data": {
      "image/png": "[encoded data removed]",
      "text/plain": [
       "<Figure size 432x288 with 1 Axes>"
      ]
     },
     "metadata": {
      "needs_background": "light"
     },
     "output_type": "display_data"
    }
   ],
   "source": [
    "x, y, z = np.ogrid[:480, :480, :1]\n",
    "\n",
    "circle_mask = np.where((x-480/2)**2 + (y-480/2)**2 <= (480/2)**2, 0, 1)\n",
    "\n",
    "plt.axis('off')\n",
    "plt.imshow(circle_mask, cmap='gray')\n",
    "plt.show()"
   ]
  },
  {
   "cell_type": "code",
   "execution_count": 12,
   "metadata": {},
   "outputs": [
    {
     "data": {
      "text/html": [
       "<div>\n",
       "<style scoped>\n",
       "    .dataframe tbody tr th:only-of-type {\n",
       "        vertical-align: middle;\n",
       "    }\n",
       "\n",
       "    .dataframe tbody tr th {\n",
       "        vertical-align: top;\n",
       "    }\n",
       "\n",
       "    .dataframe thead th {\n",
       "        text-align: right;\n",
       "    }\n",
       "</style>\n",
       "<table border=\"1\" class=\"dataframe\">\n",
       "  <thead>\n",
       "    <tr style=\"text-align: right;\">\n",
       "      <th></th>\n",
       "      <th>FileName</th>\n",
       "      <th>RADAR_RGB_PNG_PATH</th>\n",
       "      <th>RADAR_dBZ_PNG_PATH</th>\n",
       "      <th>RADAR_MASK_PATH</th>\n",
       "    </tr>\n",
       "    <tr>\n",
       "      <th>DateTime</th>\n",
       "      <th></th>\n",
       "      <th></th>\n",
       "      <th></th>\n",
       "      <th></th>\n",
       "    </tr>\n",
       "  </thead>\n",
       "  <tbody>\n",
       "    <tr>\n",
       "      <th>2020-06-18 06:30:00</th>\n",
       "      <td>1592461954</td>\n",
       "      <td>bkk_radar_images_1</td>\n",
       "      <td>bkk_radar_images_dBZ_1</td>\n",
       "      <td>bkk_radar_images_mask_1</td>\n",
       "    </tr>\n",
       "    <tr>\n",
       "      <th>2020-06-18 06:35:00</th>\n",
       "      <td>1592462136</td>\n",
       "      <td>bkk_radar_images_1</td>\n",
       "      <td>bkk_radar_images_dBZ_1</td>\n",
       "      <td>bkk_radar_images_mask_1</td>\n",
       "    </tr>\n",
       "    <tr>\n",
       "      <th>2020-06-18 06:45:00</th>\n",
       "      <td>1592462768</td>\n",
       "      <td>bkk_radar_images_1</td>\n",
       "      <td>bkk_radar_images_dBZ_1</td>\n",
       "      <td>bkk_radar_images_mask_1</td>\n",
       "    </tr>\n",
       "    <tr>\n",
       "      <th>2020-06-18 06:50:00</th>\n",
       "      <td>1592463068</td>\n",
       "      <td>bkk_radar_images_1</td>\n",
       "      <td>bkk_radar_images_dBZ_1</td>\n",
       "      <td>bkk_radar_images_mask_1</td>\n",
       "    </tr>\n",
       "    <tr>\n",
       "      <th>2020-06-18 06:55:00</th>\n",
       "      <td>1592463277</td>\n",
       "      <td>bkk_radar_images_1</td>\n",
       "      <td>bkk_radar_images_dBZ_1</td>\n",
       "      <td>bkk_radar_images_mask_1</td>\n",
       "    </tr>\n",
       "    <tr>\n",
       "      <th>...</th>\n",
       "      <td>...</td>\n",
       "      <td>...</td>\n",
       "      <td>...</td>\n",
       "      <td>...</td>\n",
       "    </tr>\n",
       "    <tr>\n",
       "      <th>2021-06-28 20:05:00</th>\n",
       "      <td>1624910840</td>\n",
       "      <td>bkk_radar_images_13</td>\n",
       "      <td>bkk_radar_images_dBZ_13</td>\n",
       "      <td>bkk_radar_images_mask_13</td>\n",
       "    </tr>\n",
       "    <tr>\n",
       "      <th>2021-06-28 20:35:00</th>\n",
       "      <td>1624912646</td>\n",
       "      <td>bkk_radar_images_13</td>\n",
       "      <td>bkk_radar_images_dBZ_13</td>\n",
       "      <td>bkk_radar_images_mask_13</td>\n",
       "    </tr>\n",
       "    <tr>\n",
       "      <th>2021-06-28 20:45:00</th>\n",
       "      <td>1624913244</td>\n",
       "      <td>bkk_radar_images_13</td>\n",
       "      <td>bkk_radar_images_dBZ_13</td>\n",
       "      <td>bkk_radar_images_mask_13</td>\n",
       "    </tr>\n",
       "    <tr>\n",
       "      <th>2021-06-28 21:15:00</th>\n",
       "      <td>1624915046</td>\n",
       "      <td>bkk_radar_images_13</td>\n",
       "      <td>bkk_radar_images_dBZ_13</td>\n",
       "      <td>bkk_radar_images_mask_13</td>\n",
       "    </tr>\n",
       "    <tr>\n",
       "      <th>2021-06-28 21:20:00</th>\n",
       "      <td>1624915346</td>\n",
       "      <td>bkk_radar_images_13</td>\n",
       "      <td>bkk_radar_images_dBZ_13</td>\n",
       "      <td>bkk_radar_images_mask_13</td>\n",
       "    </tr>\n",
       "  </tbody>\n",
       "</table>\n",
       "<p>85389 rows × 4 columns</p>\n",
       "</div>"
      ],
      "text/plain": [
       "                       FileName   RADAR_RGB_PNG_PATH       RADAR_dBZ_PNG_PATH  \\\n",
       "DateTime                                                                        \n",
       "2020-06-18 06:30:00  1592461954   bkk_radar_images_1   bkk_radar_images_dBZ_1   \n",
       "2020-06-18 06:35:00  1592462136   bkk_radar_images_1   bkk_radar_images_dBZ_1   \n",
       "2020-06-18 06:45:00  1592462768   bkk_radar_images_1   bkk_radar_images_dBZ_1   \n",
       "2020-06-18 06:50:00  1592463068   bkk_radar_images_1   bkk_radar_images_dBZ_1   \n",
       "2020-06-18 06:55:00  1592463277   bkk_radar_images_1   bkk_radar_images_dBZ_1   \n",
       "...                         ...                  ...                      ...   \n",
       "2021-06-28 20:05:00  1624910840  bkk_radar_images_13  bkk_radar_images_dBZ_13   \n",
       "2021-06-28 20:35:00  1624912646  bkk_radar_images_13  bkk_radar_images_dBZ_13   \n",
       "2021-06-28 20:45:00  1624913244  bkk_radar_images_13  bkk_radar_images_dBZ_13   \n",
       "2021-06-28 21:15:00  1624915046  bkk_radar_images_13  bkk_radar_images_dBZ_13   \n",
       "2021-06-28 21:20:00  1624915346  bkk_radar_images_13  bkk_radar_images_dBZ_13   \n",
       "\n",
       "                              RADAR_MASK_PATH  \n",
       "DateTime                                       \n",
       "2020-06-18 06:30:00   bkk_radar_images_mask_1  \n",
       "2020-06-18 06:35:00   bkk_radar_images_mask_1  \n",
       "2020-06-18 06:45:00   bkk_radar_images_mask_1  \n",
       "2020-06-18 06:50:00   bkk_radar_images_mask_1  \n",
       "2020-06-18 06:55:00   bkk_radar_images_mask_1  \n",
       "...                                       ...  \n",
       "2021-06-28 20:05:00  bkk_radar_images_mask_13  \n",
       "2021-06-28 20:35:00  bkk_radar_images_mask_13  \n",
       "2021-06-28 20:45:00  bkk_radar_images_mask_13  \n",
       "2021-06-28 21:15:00  bkk_radar_images_mask_13  \n",
       "2021-06-28 21:20:00  bkk_radar_images_mask_13  \n",
       "\n",
       "[85389 rows x 4 columns]"
      ]
     },
     "execution_count": 12,
     "metadata": {},
     "output_type": "execute_result"
    }
   ],
   "source": [
    "filenames = pd.read_pickle(cfg.ONM_PD.FOLDER_ALL)\n",
    "filenames"
   ]
  },
  {
   "cell_type": "code",
   "execution_count": 17,
   "metadata": {},
   "outputs": [
    {
     "name": "stderr",
     "output_type": "stream",
     "text": [
      "100%|██████████| 85389/85389 [04:11<00:00, 338.90it/s]\n"
     ]
    }
   ],
   "source": [
    "from tqdm import tqdm\n",
    "\n",
    "for idx in tqdm(range(filenames.shape[0])):\n",
    "    mask_path = os.path.join(cfg.RADAR_MASK_PATH, filenames.iloc[idx].RADAR_MASK_PATH, filenames.iloc[idx].FileName + \".mask\")\n",
    "    mask.save_mask_file(circle_mask, mask_path)"
   ]
  },
  {
   "cell_type": "code",
   "execution_count": 8,
   "metadata": {},
   "outputs": [],
   "source": [
    "list_path = [os.path.join(cfg.RADAR_MASK_PATH, filenames.iloc[i].RADAR_MASK_PATH, filenames.iloc[i].FileName + \".mask\") for i in range(45000,45002)]\n",
    "mask_file2 = mask.quick_read_masks(list_path)"
   ]
  },
  {
   "cell_type": "code",
   "execution_count": 9,
   "metadata": {},
   "outputs": [
    {
     "data": {
      "image/png": "[encoded data removed]",
      "text/plain": [
       "<Figure size 432x288 with 1 Axes>"
      ]
     },
     "metadata": {
      "needs_background": "light"
     },
     "output_type": "display_data"
    }
   ],
   "source": [
    "plt.axis('off')\n",
    "plt.imshow(mask_file2[0][0], cmap='gray')\n",
    "plt.show()"
   ]
  },
  {
   "cell_type": "code",
   "execution_count": 11,
   "metadata": {},
   "outputs": [
    {
     "data": {
      "text/plain": [
       "array([[ True,  True,  True, ...,  True,  True,  True],\n",
       "       [ True,  True,  True, ...,  True,  True,  True],\n",
       "       [ True,  True,  True, ...,  True,  True,  True],\n",
       "       ...,\n",
       "       [ True,  True,  True, ...,  True,  True,  True],\n",
       "       [ True,  True,  True, ...,  True,  True,  True],\n",
       "       [ True,  True,  True, ...,  True,  True,  True]])"
      ]
     },
     "execution_count": 11,
     "metadata": {},
     "output_type": "execute_result"
    }
   ],
   "source": [
    "mask_file2[0][0]"
   ]
  },
  {
   "cell_type": "code",
   "execution_count": 11,
   "metadata": {},
   "outputs": [],
   "source": [
    "import zlib"
   ]
  },
  {
   "cell_type": "code",
   "execution_count": 13,
   "metadata": {},
   "outputs": [],
   "source": [
    "f = open(list_path[0], 'rb')\n",
    "dat = zlib.decompress(f.read())\n",
    "\n",
    "out = np.frombuffer(dat, dtype=int).reshape((2034, 2048)).astype(bool)\n",
    "f.close()"
   ]
  },
  {
   "cell_type": "code",
   "execution_count": 15,
   "metadata": {},
   "outputs": [
    {
     "data": {
      "image/png": "[encoded data removed]",
      "text/plain": [
       "<Figure size 432x288 with 1 Axes>"
      ]
     },
     "metadata": {
      "needs_background": "light"
     },
     "output_type": "display_data"
    }
   ],
   "source": [
    "plt.axis('off')\n",
    "plt.imshow(out, cmap='gray')\n",
    "plt.show()"
   ]
  },
  {
   "cell_type": "code",
   "execution_count": null,
   "metadata": {},
   "outputs": [],
   "source": []
  }
 ],
 "metadata": {
  "interpreter": {
   "hash": "eb1796cbf25d2108f32d5db083036b25e583e4721264bccb55031d3096240637"
  },
  "kernelspec": {
   "display_name": "Python 3.8.13 ('torch')",
   "language": "python",
   "name": "python3"
  },
  "language_info": {
   "codemirror_mode": {
    "name": "ipython",
    "version": 3
   },
   "file_extension": ".py",
   "mimetype": "text/x-python",
   "name": "python",
   "nbconvert_exporter": "python",
   "pygments_lexer": "ipython3",
   "version": "3.8.13"
  },
  "orig_nbformat": 4
 },
 "nbformat": 4,
 "nbformat_minor": 2
}

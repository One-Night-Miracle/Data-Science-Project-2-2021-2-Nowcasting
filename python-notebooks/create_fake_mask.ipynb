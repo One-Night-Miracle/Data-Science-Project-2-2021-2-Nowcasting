{
 "cells": [
  {
   "cell_type": "code",
   "execution_count": 1,
   "metadata": {},
   "outputs": [],
   "source": [
    "import cv2\n",
    "import numpy as np\n",
    "import pandas as pd\n",
    "from tqdm import tqdm\n",
    "import matplotlib as mpl\n",
    "import matplotlib.pyplot as plt"
   ]
  },
  {
   "cell_type": "code",
   "execution_count": 2,
   "metadata": {},
   "outputs": [],
   "source": [
    "import os, sys\n",
    "sys.path.insert(0, os.path.realpath(os.path.pardir))"
   ]
  },
  {
   "cell_type": "code",
   "execution_count": 3,
   "metadata": {},
   "outputs": [],
   "source": [
    "from utils.config import cfg\n",
    "from utils.tools import mask"
   ]
  },
  {
   "cell_type": "code",
   "execution_count": 4,
   "metadata": {},
   "outputs": [
    {
     "data": {
      "image/png": "[encoded data removed]",
      "text/plain": [
       "<Figure size 432x288 with 1 Axes>"
      ]
     },
     "metadata": {
      "needs_background": "light"
     },
     "output_type": "display_data"
    }
   ],
   "source": [
    "x, y, z = np.ogrid[:2034, :2048, :1]\n",
    "\n",
    "circle_mask = np.where((x-2034/2)**2 + (y-2048/2)**2 <= (2034/2)**2, 0, 1)\n",
    "\n",
    "plt.axis('off')\n",
    "plt.imshow(circle_mask, cmap='gray')\n",
    "plt.show()"
   ]
  },
  {
   "cell_type": "code",
   "execution_count": 5,
   "metadata": {},
   "outputs": [
    {
     "data": {
      "text/html": [
       "<div>\n",
       "<style scoped>\n",
       "    .dataframe tbody tr th:only-of-type {\n",
       "        vertical-align: middle;\n",
       "    }\n",
       "\n",
       "    .dataframe tbody tr th {\n",
       "        vertical-align: top;\n",
       "    }\n",
       "\n",
       "    .dataframe thead th {\n",
       "        text-align: right;\n",
       "    }\n",
       "</style>\n",
       "<table border=\"1\" class=\"dataframe\">\n",
       "  <thead>\n",
       "    <tr style=\"text-align: right;\">\n",
       "      <th></th>\n",
       "      <th>FileName</th>\n",
       "      <th>RADAR_RGB_PNG_PATH</th>\n",
       "      <th>RADAR_dBZ_PNG_PATH</th>\n",
       "      <th>RADAR_MASK_PATH</th>\n",
       "    </tr>\n",
       "    <tr>\n",
       "      <th>DateTime</th>\n",
       "      <th></th>\n",
       "      <th></th>\n",
       "      <th></th>\n",
       "      <th></th>\n",
       "    </tr>\n",
       "  </thead>\n",
       "  <tbody>\n",
       "    <tr>\n",
       "      <th>2020-06-18 06:30:00</th>\n",
       "      <td>1592461954</td>\n",
       "      <td>bkk_radar_images_1</td>\n",
       "      <td>bkk_radar_images_dBZ_1</td>\n",
       "      <td>bkk_radar_images_mask_1</td>\n",
       "    </tr>\n",
       "    <tr>\n",
       "      <th>2020-06-18 06:35:00</th>\n",
       "      <td>1592462136</td>\n",
       "      <td>bkk_radar_images_1</td>\n",
       "      <td>bkk_radar_images_dBZ_1</td>\n",
       "      <td>bkk_radar_images_mask_1</td>\n",
       "    </tr>\n",
       "    <tr>\n",
       "      <th>2020-06-18 06:45:00</th>\n",
       "      <td>1592462768</td>\n",
       "      <td>bkk_radar_images_1</td>\n",
       "      <td>bkk_radar_images_dBZ_1</td>\n",
       "      <td>bkk_radar_images_mask_1</td>\n",
       "    </tr>\n",
       "    <tr>\n",
       "      <th>2020-06-18 06:50:00</th>\n",
       "      <td>1592463068</td>\n",
       "      <td>bkk_radar_images_1</td>\n",
       "      <td>bkk_radar_images_dBZ_1</td>\n",
       "      <td>bkk_radar_images_mask_1</td>\n",
       "    </tr>\n",
       "    <tr>\n",
       "      <th>2020-06-18 06:55:00</th>\n",
       "      <td>1592463277</td>\n",
       "      <td>bkk_radar_images_1</td>\n",
       "      <td>bkk_radar_images_dBZ_1</td>\n",
       "      <td>bkk_radar_images_mask_1</td>\n",
       "    </tr>\n",
       "    <tr>\n",
       "      <th>...</th>\n",
       "      <td>...</td>\n",
       "      <td>...</td>\n",
       "      <td>...</td>\n",
       "      <td>...</td>\n",
       "    </tr>\n",
       "    <tr>\n",
       "      <th>2021-06-28 20:05:00</th>\n",
       "      <td>1624910840</td>\n",
       "      <td>bkk_radar_images_13</td>\n",
       "      <td>bkk_radar_images_dBZ_13</td>\n",
       "      <td>bkk_radar_images_mask_13</td>\n",
       "    </tr>\n",
       "    <tr>\n",
       "      <th>2021-06-28 20:35:00</th>\n",
       "      <td>1624912646</td>\n",
       "      <td>bkk_radar_images_13</td>\n",
       "      <td>bkk_radar_images_dBZ_13</td>\n",
       "      <td>bkk_radar_images_mask_13</td>\n",
       "    </tr>\n",
       "    <tr>\n",
       "      <th>2021-06-28 20:45:00</th>\n",
       "      <td>1624913244</td>\n",
       "      <td>bkk_radar_images_13</td>\n",
       "      <td>bkk_radar_images_dBZ_13</td>\n",
       "      <td>bkk_radar_images_mask_13</td>\n",
       "    </tr>\n",
       "    <tr>\n",
       "      <th>2021-06-28 21:15:00</th>\n",
       "      <td>1624915046</td>\n",
       "      <td>bkk_radar_images_13</td>\n",
       "      <td>bkk_radar_images_dBZ_13</td>\n",
       "      <td>bkk_radar_images_mask_13</td>\n",
       "    </tr>\n",
       "    <tr>\n",
       "      <th>2021-06-28 21:20:00</th>\n",
       "      <td>1624915346</td>\n",
       "      <td>bkk_radar_images_13</td>\n",
       "      <td>bkk_radar_images_dBZ_13</td>\n",
       "      <td>bkk_radar_images_mask_13</td>\n",
       "    </tr>\n",
       "  </tbody>\n",
       "</table>\n",
       "<p>85389 rows × 4 columns</p>\n",
       "</div>"
      ],
      "text/plain": [
       "                       FileName   RADAR_RGB_PNG_PATH       RADAR_dBZ_PNG_PATH  \\\n",
       "DateTime                                                                        \n",
       "2020-06-18 06:30:00  1592461954   bkk_radar_images_1   bkk_radar_images_dBZ_1   \n",
       "2020-06-18 06:35:00  1592462136   bkk_radar_images_1   bkk_radar_images_dBZ_1   \n",
       "2020-06-18 06:45:00  1592462768   bkk_radar_images_1   bkk_radar_images_dBZ_1   \n",
       "2020-06-18 06:50:00  1592463068   bkk_radar_images_1   bkk_radar_images_dBZ_1   \n",
       "2020-06-18 06:55:00  1592463277   bkk_radar_images_1   bkk_radar_images_dBZ_1   \n",
       "...                         ...                  ...                      ...   \n",
       "2021-06-28 20:05:00  1624910840  bkk_radar_images_13  bkk_radar_images_dBZ_13   \n",
       "2021-06-28 20:35:00  1624912646  bkk_radar_images_13  bkk_radar_images_dBZ_13   \n",
       "2021-06-28 20:45:00  1624913244  bkk_radar_images_13  bkk_radar_images_dBZ_13   \n",
       "2021-06-28 21:15:00  1624915046  bkk_radar_images_13  bkk_radar_images_dBZ_13   \n",
       "2021-06-28 21:20:00  1624915346  bkk_radar_images_13  bkk_radar_images_dBZ_13   \n",
       "\n",
       "                              RADAR_MASK_PATH  \n",
       "DateTime                                       \n",
       "2020-06-18 06:30:00   bkk_radar_images_mask_1  \n",
       "2020-06-18 06:35:00   bkk_radar_images_mask_1  \n",
       "2020-06-18 06:45:00   bkk_radar_images_mask_1  \n",
       "2020-06-18 06:50:00   bkk_radar_images_mask_1  \n",
       "2020-06-18 06:55:00   bkk_radar_images_mask_1  \n",
       "...                                       ...  \n",
       "2021-06-28 20:05:00  bkk_radar_images_mask_13  \n",
       "2021-06-28 20:35:00  bkk_radar_images_mask_13  \n",
       "2021-06-28 20:45:00  bkk_radar_images_mask_13  \n",
       "2021-06-28 21:15:00  bkk_radar_images_mask_13  \n",
       "2021-06-28 21:20:00  bkk_radar_images_mask_13  \n",
       "\n",
       "[85389 rows x 4 columns]"
      ]
     },
     "execution_count": 5,
     "metadata": {},
     "output_type": "execute_result"
    }
   ],
   "source": [
    "filenames = pd.read_pickle(cfg.ONM_PD.FOLDER_ALL)\n",
    "filenames"
   ]
  },
  {
   "cell_type": "code",
   "execution_count": 6,
   "metadata": {},
   "outputs": [
    {
     "data": {
      "text/html": [
       "<div>\n",
       "<style scoped>\n",
       "    .dataframe tbody tr th:only-of-type {\n",
       "        vertical-align: middle;\n",
       "    }\n",
       "\n",
       "    .dataframe tbody tr th {\n",
       "        vertical-align: top;\n",
       "    }\n",
       "\n",
       "    .dataframe thead th {\n",
       "        text-align: right;\n",
       "    }\n",
       "</style>\n",
       "<table border=\"1\" class=\"dataframe\">\n",
       "  <thead>\n",
       "    <tr style=\"text-align: right;\">\n",
       "      <th></th>\n",
       "      <th>FileName</th>\n",
       "      <th>RADAR_RGB_PNG_PATH</th>\n",
       "      <th>RADAR_dBZ_PNG_PATH</th>\n",
       "      <th>RADAR_MASK_PATH</th>\n",
       "    </tr>\n",
       "    <tr>\n",
       "      <th>DateTime</th>\n",
       "      <th></th>\n",
       "      <th></th>\n",
       "      <th></th>\n",
       "      <th></th>\n",
       "    </tr>\n",
       "  </thead>\n",
       "  <tbody>\n",
       "    <tr>\n",
       "      <th>2020-06-18 06:30:00</th>\n",
       "      <td>1592461954</td>\n",
       "      <td>bkk_radar_images_1</td>\n",
       "      <td>bkk_radar_images_dBZ_1</td>\n",
       "      <td>bkk_radar_images_mask_1</td>\n",
       "    </tr>\n",
       "    <tr>\n",
       "      <th>2020-06-18 06:35:00</th>\n",
       "      <td>1592462136</td>\n",
       "      <td>bkk_radar_images_1</td>\n",
       "      <td>bkk_radar_images_dBZ_1</td>\n",
       "      <td>bkk_radar_images_mask_1</td>\n",
       "    </tr>\n",
       "    <tr>\n",
       "      <th>2020-06-18 06:45:00</th>\n",
       "      <td>1592462768</td>\n",
       "      <td>bkk_radar_images_1</td>\n",
       "      <td>bkk_radar_images_dBZ_1</td>\n",
       "      <td>bkk_radar_images_mask_1</td>\n",
       "    </tr>\n",
       "    <tr>\n",
       "      <th>2020-06-18 06:50:00</th>\n",
       "      <td>1592463068</td>\n",
       "      <td>bkk_radar_images_1</td>\n",
       "      <td>bkk_radar_images_dBZ_1</td>\n",
       "      <td>bkk_radar_images_mask_1</td>\n",
       "    </tr>\n",
       "    <tr>\n",
       "      <th>2020-06-18 06:55:00</th>\n",
       "      <td>1592463277</td>\n",
       "      <td>bkk_radar_images_1</td>\n",
       "      <td>bkk_radar_images_dBZ_1</td>\n",
       "      <td>bkk_radar_images_mask_1</td>\n",
       "    </tr>\n",
       "    <tr>\n",
       "      <th>...</th>\n",
       "      <td>...</td>\n",
       "      <td>...</td>\n",
       "      <td>...</td>\n",
       "      <td>...</td>\n",
       "    </tr>\n",
       "    <tr>\n",
       "      <th>2021-06-28 20:05:00</th>\n",
       "      <td>1624910840</td>\n",
       "      <td>bkk_radar_images_13</td>\n",
       "      <td>bkk_radar_images_dBZ_13</td>\n",
       "      <td>bkk_radar_images_mask_13</td>\n",
       "    </tr>\n",
       "    <tr>\n",
       "      <th>2021-06-28 20:35:00</th>\n",
       "      <td>1624912646</td>\n",
       "      <td>bkk_radar_images_13</td>\n",
       "      <td>bkk_radar_images_dBZ_13</td>\n",
       "      <td>bkk_radar_images_mask_13</td>\n",
       "    </tr>\n",
       "    <tr>\n",
       "      <th>2021-06-28 20:45:00</th>\n",
       "      <td>1624913244</td>\n",
       "      <td>bkk_radar_images_13</td>\n",
       "      <td>bkk_radar_images_dBZ_13</td>\n",
       "      <td>bkk_radar_images_mask_13</td>\n",
       "    </tr>\n",
       "    <tr>\n",
       "      <th>2021-06-28 21:15:00</th>\n",
       "      <td>1624915046</td>\n",
       "      <td>bkk_radar_images_13</td>\n",
       "      <td>bkk_radar_images_dBZ_13</td>\n",
       "      <td>bkk_radar_images_mask_13</td>\n",
       "    </tr>\n",
       "    <tr>\n",
       "      <th>2021-06-28 21:20:00</th>\n",
       "      <td>1624915346</td>\n",
       "      <td>bkk_radar_images_13</td>\n",
       "      <td>bkk_radar_images_dBZ_13</td>\n",
       "      <td>bkk_radar_images_mask_13</td>\n",
       "    </tr>\n",
       "  </tbody>\n",
       "</table>\n",
       "<p>85389 rows × 4 columns</p>\n",
       "</div>"
      ],
      "text/plain": [
       "                       FileName   RADAR_RGB_PNG_PATH       RADAR_dBZ_PNG_PATH  \\\n",
       "DateTime                                                                        \n",
       "2020-06-18 06:30:00  1592461954   bkk_radar_images_1   bkk_radar_images_dBZ_1   \n",
       "2020-06-18 06:35:00  1592462136   bkk_radar_images_1   bkk_radar_images_dBZ_1   \n",
       "2020-06-18 06:45:00  1592462768   bkk_radar_images_1   bkk_radar_images_dBZ_1   \n",
       "2020-06-18 06:50:00  1592463068   bkk_radar_images_1   bkk_radar_images_dBZ_1   \n",
       "2020-06-18 06:55:00  1592463277   bkk_radar_images_1   bkk_radar_images_dBZ_1   \n",
       "...                         ...                  ...                      ...   \n",
       "2021-06-28 20:05:00  1624910840  bkk_radar_images_13  bkk_radar_images_dBZ_13   \n",
       "2021-06-28 20:35:00  1624912646  bkk_radar_images_13  bkk_radar_images_dBZ_13   \n",
       "2021-06-28 20:45:00  1624913244  bkk_radar_images_13  bkk_radar_images_dBZ_13   \n",
       "2021-06-28 21:15:00  1624915046  bkk_radar_images_13  bkk_radar_images_dBZ_13   \n",
       "2021-06-28 21:20:00  1624915346  bkk_radar_images_13  bkk_radar_images_dBZ_13   \n",
       "\n",
       "                              RADAR_MASK_PATH  \n",
       "DateTime                                       \n",
       "2020-06-18 06:30:00   bkk_radar_images_mask_1  \n",
       "2020-06-18 06:35:00   bkk_radar_images_mask_1  \n",
       "2020-06-18 06:45:00   bkk_radar_images_mask_1  \n",
       "2020-06-18 06:50:00   bkk_radar_images_mask_1  \n",
       "2020-06-18 06:55:00   bkk_radar_images_mask_1  \n",
       "...                                       ...  \n",
       "2021-06-28 20:05:00  bkk_radar_images_mask_13  \n",
       "2021-06-28 20:35:00  bkk_radar_images_mask_13  \n",
       "2021-06-28 20:45:00  bkk_radar_images_mask_13  \n",
       "2021-06-28 21:15:00  bkk_radar_images_mask_13  \n",
       "2021-06-28 21:20:00  bkk_radar_images_mask_13  \n",
       "\n",
       "[85389 rows x 4 columns]"
      ]
     },
     "execution_count": 6,
     "metadata": {},
     "output_type": "execute_result"
    }
   ],
   "source": [
    "filenames"
   ]
  },
  {
   "cell_type": "code",
   "execution_count": 12,
   "metadata": {},
   "outputs": [
    {
     "ename": "TypeError",
     "evalue": "'int' object is not subscriptable",
     "output_type": "error",
     "traceback": [
      "\u001b[1;31m---------------------------------------------------------------------------\u001b[0m",
      "\u001b[1;31mTypeError\u001b[0m                                 Traceback (most recent call last)",
      "\u001b[1;32mc:\\Users\\FACT-PC\\Desktop\\git_workspace\\Data-Science-Project-2-2021-2-Nowcasting\\python-notebooks\\create_fake_mask.ipynb Cell 7'\u001b[0m in \u001b[0;36m<cell line: 3>\u001b[1;34m()\u001b[0m\n\u001b[0;32m      <a href='vscode-notebook-cell:/c%3A/Users/FACT-PC/Desktop/git_workspace/Data-Science-Project-2-2021-2-Nowcasting/python-notebooks/create_fake_mask.ipynb#ch0000004?line=0'>1</a>\u001b[0m \u001b[39mfrom\u001b[39;00m \u001b[39mtqdm\u001b[39;00m \u001b[39mimport\u001b[39;00m tqdm\n\u001b[1;32m----> <a href='vscode-notebook-cell:/c%3A/Users/FACT-PC/Desktop/git_workspace/Data-Science-Project-2-2021-2-Nowcasting/python-notebooks/create_fake_mask.ipynb#ch0000004?line=2'>3</a>\u001b[0m \u001b[39mfor\u001b[39;00m idx \u001b[39min\u001b[39;00m tqdm(\u001b[39mrange\u001b[39m(filenames\u001b[39m.\u001b[39;49mshape[\u001b[39m0\u001b[39;49m][:\u001b[39m45000\u001b[39;49m])):\n\u001b[0;32m      <a href='vscode-notebook-cell:/c%3A/Users/FACT-PC/Desktop/git_workspace/Data-Science-Project-2-2021-2-Nowcasting/python-notebooks/create_fake_mask.ipynb#ch0000004?line=3'>4</a>\u001b[0m     mask_path \u001b[39m=\u001b[39m os\u001b[39m.\u001b[39mpath\u001b[39m.\u001b[39mjoin(cfg\u001b[39m.\u001b[39mRADAR_MASK_PATH, filenames\u001b[39m.\u001b[39miloc[idx]\u001b[39m.\u001b[39mRADAR_MASK_PATH, filenames\u001b[39m.\u001b[39miloc[idx]\u001b[39m.\u001b[39mFileName \u001b[39m+\u001b[39m \u001b[39m\"\u001b[39m\u001b[39m.mask\u001b[39m\u001b[39m\"\u001b[39m)\n\u001b[0;32m      <a href='vscode-notebook-cell:/c%3A/Users/FACT-PC/Desktop/git_workspace/Data-Science-Project-2-2021-2-Nowcasting/python-notebooks/create_fake_mask.ipynb#ch0000004?line=4'>5</a>\u001b[0m     mask\u001b[39m.\u001b[39msave_mask_file(circle_mask, mask_path)\n",
      "\u001b[1;31mTypeError\u001b[0m: 'int' object is not subscriptable"
     ]
    }
   ],
   "source": [
    "from tqdm import tqdm\n",
    "\n",
    "for idx in tqdm(range(filenames.shape[0])[:45000]):\n",
    "    mask_path = os.path.join(cfg.RADAR_MASK_PATH, filenames.iloc[idx].RADAR_MASK_PATH, filenames.iloc[idx].FileName + \".mask\")\n",
    "    mask.save_mask_file(circle_mask, mask_path)"
   ]
  },
  {
   "cell_type": "code",
   "execution_count": 8,
   "metadata": {},
   "outputs": [],
   "source": [
    "list_path = [os.path.join(cfg.RADAR_MASK_PATH, filenames.iloc[i].RADAR_MASK_PATH, filenames.iloc[i].FileName + \".mask\") for i in range(100)]\n",
    "mask_file2 = mask.quick_read_masks(list_path)"
   ]
  },
  {
   "cell_type": "code",
   "execution_count": 10,
   "metadata": {},
   "outputs": [
    {
     "data": {
      "image/png": "[encoded data removed]",
      "text/plain": [
       "<Figure size 432x288 with 1 Axes>"
      ]
     },
     "metadata": {
      "needs_background": "light"
     },
     "output_type": "display_data"
    }
   ],
   "source": [
    "plt.axis('off')\n",
    "plt.imshow(mask_file2[0][0], cmap='gray')\n",
    "plt.show()"
   ]
  },
  {
   "cell_type": "code",
   "execution_count": 11,
   "metadata": {},
   "outputs": [
    {
     "data": {
      "text/plain": [
       "array([[ True,  True,  True, ...,  True,  True,  True],\n",
       "       [ True,  True,  True, ...,  True,  True,  True],\n",
       "       [ True,  True,  True, ...,  True,  True,  True],\n",
       "       ...,\n",
       "       [ True,  True,  True, ...,  True,  True,  True],\n",
       "       [ True,  True,  True, ...,  True,  True,  True],\n",
       "       [ True,  True,  True, ...,  True,  True,  True]])"
      ]
     },
     "execution_count": 11,
     "metadata": {},
     "output_type": "execute_result"
    }
   ],
   "source": [
    "mask_file2[0][0]"
   ]
  },
  {
   "cell_type": "code",
   "execution_count": null,
   "metadata": {},
   "outputs": [],
   "source": []
  }
 ],
 "metadata": {
  "interpreter": {
   "hash": "eb1796cbf25d2108f32d5db083036b25e583e4721264bccb55031d3096240637"
  },
  "kernelspec": {
   "display_name": "Python 3.8.13 ('torch')",
   "language": "python",
   "name": "python3"
  },
  "language_info": {
   "codemirror_mode": {
    "name": "ipython",
    "version": 3
   },
   "file_extension": ".py",
   "mimetype": "text/x-python",
   "name": "python",
   "nbconvert_exporter": "python",
   "pygments_lexer": "ipython3",
   "version": "3.8.13"
  },
  "orig_nbformat": 4
 },
 "nbformat": 4,
 "nbformat_minor": 2
}

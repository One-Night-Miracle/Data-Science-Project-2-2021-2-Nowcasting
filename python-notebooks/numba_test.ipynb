{
 "cells": [
  {
   "cell_type": "code",
   "execution_count": 6,
   "metadata": {},
   "outputs": [],
   "source": [
    "import sys, os\n",
    "sys.path.append('../')\n",
    "import numpy as np\n",
    "from numba import jit, float32, boolean, int32, float64\n",
    "from utils.config import cfg\n",
    "from utils.tools.evaluation import dBZ_to_pixel\n",
    "from utils.tools.numba_accelerated import *\n",
    "import numpy as np\n",
    "from utils.config import cfg\n",
    "import matplotlib as mpl\n",
    "import matplotlib.pyplot as plt\n",
    "from utils.tools.evaluation import get_GDL, get_hit_miss_counts, get_balancing_weights\n",
    "from numpy.testing import assert_allclose, assert_almost_equal\n",
    "import time"
   ]
  },
  {
   "cell_type": "code",
   "execution_count": 7,
   "metadata": {},
   "outputs": [],
   "source": [
    "from numba.core.errors import NumbaDeprecationWarning, NumbaPendingDeprecationWarning\n",
    "import warnings\n",
    "\n",
    "warnings.simplefilter('ignore', category=NumbaDeprecationWarning)\n",
    "warnings.simplefilter('ignore', category=NumbaPendingDeprecationWarning)\n",
    "\n",
    "from warnings import filterwarnings\n",
    "filterwarnings(action='ignore', category=DeprecationWarning, message='`np.bool` is a deprecated alias')"
   ]
  },
  {
   "cell_type": "code",
   "execution_count": 8,
   "metadata": {},
   "outputs": [
    {
     "name": "stdout",
     "output_type": "stream",
     "text": [
      "numpy gdl: 1.055999755859375\n",
      "numba gdl: 0.3670022487640381\n",
      "numpy hits misses: 24.177603244781494\n",
      "numba hits misses: 4.759090423583984\n",
      "1\n",
      "1 152\n",
      "1 549\n",
      "1 860\n",
      "numpy balancing weights: 15.13237190246582\n",
      "numba balancing weights: 3.4200756549835205\n",
      "Inconsistent Number: 1\n"
     ]
    }
   ],
   "source": [
    "prediction = np.random.uniform(size=(10, 16, 1, 480, 480))\n",
    "truth = np.random.uniform(size=(10, 16, 1, 480, 480))\n",
    "mask = np.random.randint(low=0, high=2, size=(10, 16, 1, 480, 480)).astype(np.bool)\n",
    "\n",
    "begin = time.time()\n",
    "gdl = get_GDL(prediction=prediction, truth=truth, mask=mask)\n",
    "end = time.time()\n",
    "print(\"numpy gdl:\", end - begin)\n",
    "\n",
    "begin = time.time()\n",
    "gdl_numba = get_GDL_numba(prediction=prediction, truth=truth, mask=mask)\n",
    "end = time.time()\n",
    "print(\"numba gdl:\", end - begin)\n",
    "\n",
    "# gdl_mx = mx_get_GDL(prediction=prediction, truth=truth, mask=mask)\n",
    "# print gdl_mx\n",
    "assert_allclose(gdl, gdl_numba, rtol=1E-4, atol=1E-3)\n",
    "\n",
    "begin = time.time()\n",
    "for i in range(5):\n",
    "    hits, misses, false_alarms, true_negatives = get_hit_miss_counts(prediction, truth, mask)\n",
    "end = time.time()\n",
    "print(\"numpy hits misses:\", end - begin)\n",
    "\n",
    "begin = time.time()\n",
    "for i in range(5):\n",
    "    hits_numba, misses_numba, false_alarms_numba, true_negatives_numba = get_hit_miss_counts_numba(prediction, truth, mask)\n",
    "end = time.time()\n",
    "print(\"numba hits misses:\", end - begin)\n",
    "\n",
    "print(np.abs(hits - hits_numba).max())\n",
    "print(np.abs(misses - misses_numba).max(), np.abs(misses - misses_numba).argmax())\n",
    "print(np.abs(false_alarms - false_alarms_numba).max(),\n",
    "        np.abs(false_alarms - false_alarms_numba).argmax())\n",
    "print(np.abs(true_negatives - true_negatives_numba).max(),\n",
    "        np.abs(true_negatives - true_negatives_numba).argmax())\n",
    "\n",
    "begin = time.time()\n",
    "for i in range(5):\n",
    "    weights_npy = get_balancing_weights(data=truth, mask=mask,\n",
    "                                        base_balancing_weights=None, thresholds=None)\n",
    "end = time.time()\n",
    "print(\"numpy balancing weights:\", end - begin)\n",
    "\n",
    "begin = time.time()\n",
    "for i in range(5):\n",
    "    weights_numba = get_balancing_weights_numba(data=truth, mask=mask,\n",
    "                                                base_balancing_weights=None, thresholds=None)\n",
    "end = time.time()\n",
    "print(\"numba balancing weights:\", end - begin)\n",
    "print(\"Inconsistent Number:\", (np.abs(weights_npy - weights_numba) > 1E-5).sum())"
   ]
  }
 ],
 "metadata": {
  "interpreter": {
   "hash": "eb1796cbf25d2108f32d5db083036b25e583e4721264bccb55031d3096240637"
  },
  "kernelspec": {
   "display_name": "Python 3.8.13 ('torch')",
   "language": "python",
   "name": "python3"
  },
  "language_info": {
   "codemirror_mode": {
    "name": "ipython",
    "version": 3
   },
   "file_extension": ".py",
   "mimetype": "text/x-python",
   "name": "python",
   "nbconvert_exporter": "python",
   "pygments_lexer": "ipython3",
   "version": "3.8.13"
  },
  "orig_nbformat": 4
 },
 "nbformat": 4,
 "nbformat_minor": 2
}

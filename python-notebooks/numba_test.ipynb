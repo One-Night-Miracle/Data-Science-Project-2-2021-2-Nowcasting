{
 "cells": [
  {
   "cell_type": "code",
   "execution_count": 11,
   "metadata": {},
   "outputs": [],
   "source": [
    "from numba.core.errors import NumbaDeprecationWarning, NumbaPendingDeprecationWarning\n",
    "import warnings\n",
    "\n",
    "warnings.simplefilter('ignore', category=NumbaDeprecationWarning)\n",
    "warnings.simplefilter('ignore', category=NumbaPendingDeprecationWarning)\n",
    "\n",
    "from warnings import filterwarnings\n",
    "filterwarnings(action='ignore', category=DeprecationWarning, message='`np.bool` is a deprecated alias')"
   ]
  },
  {
   "cell_type": "code",
   "execution_count": 12,
   "metadata": {},
   "outputs": [],
   "source": [
    "import numpy as np\n",
    "import sys, os\n",
    "sys.path.append('../')\n",
    "from numba import jit, float32, boolean, int32, float64\n",
    "from utils.config import cfg\n",
    "from utils.tools.evaluation import dBZ_to_pixel\n",
    "from utils.tools.numba_accelerated import *"
   ]
  },
  {
   "cell_type": "code",
   "execution_count": 13,
   "metadata": {},
   "outputs": [],
   "source": [
    "import numpy as np\n",
    "from utils.config import cfg\n",
    "import matplotlib as mpl\n",
    "import matplotlib.pyplot as plt"
   ]
  },
  {
   "cell_type": "code",
   "execution_count": 14,
   "metadata": {},
   "outputs": [],
   "source": [
    "from utils.tools.evaluation import get_GDL, get_hit_miss_counts, get_balancing_weights\n",
    "from numpy.testing import assert_allclose, assert_almost_equal\n",
    "import time"
   ]
  },
  {
   "cell_type": "code",
   "execution_count": 15,
   "metadata": {},
   "outputs": [
    {
     "name": "stdout",
     "output_type": "stream",
     "text": [
      "numpy gdl: 0.9822108745574951\n",
      "numba gdl: 0.36331725120544434\n",
      "numpy hits misses: 22.973840951919556\n",
      "numba hits misses: 4.682291030883789\n",
      "1\n",
      "1 486\n",
      "1 554\n",
      "1 554\n",
      "numpy balancing weights: 13.710271120071411\n",
      "numba balancing weights: 3.3589236736297607\n",
      "Inconsistent Number: 3\n"
     ]
    }
   ],
   "source": [
    "prediction = np.random.uniform(size=(10, 16, 1, 480, 480))\n",
    "truth = np.random.uniform(size=(10, 16, 1, 480, 480))\n",
    "mask = np.random.randint(low=0, high=2, size=(10, 16, 1, 480, 480)).astype(np.bool)\n",
    "\n",
    "begin = time.time()\n",
    "gdl = get_GDL(prediction=prediction, truth=truth, mask=mask)\n",
    "end = time.time()\n",
    "print(\"numpy gdl:\", end - begin)\n",
    "\n",
    "begin = time.time()\n",
    "gdl_numba = get_GDL_numba(prediction=prediction, truth=truth, mask=mask)\n",
    "end = time.time()\n",
    "print(\"numba gdl:\", end - begin)\n",
    "\n",
    "# gdl_mx = mx_get_GDL(prediction=prediction, truth=truth, mask=mask)\n",
    "# print gdl_mx\n",
    "assert_allclose(gdl, gdl_numba, rtol=1E-4, atol=1E-3)\n",
    "\n",
    "begin = time.time()\n",
    "for i in range(5):\n",
    "    hits, misses, false_alarms, true_negatives = get_hit_miss_counts(prediction, truth, mask)\n",
    "end = time.time()\n",
    "print(\"numpy hits misses:\", end - begin)\n",
    "\n",
    "begin = time.time()\n",
    "for i in range(5):\n",
    "    hits_numba, misses_numba, false_alarms_numba, true_negatives_numba = get_hit_miss_counts_numba(prediction, truth, mask)\n",
    "end = time.time()\n",
    "print(\"numba hits misses:\", end - begin)\n",
    "\n",
    "print(np.abs(hits - hits_numba).max())\n",
    "print(np.abs(misses - misses_numba).max(), np.abs(misses - misses_numba).argmax())\n",
    "print(np.abs(false_alarms - false_alarms_numba).max(),\n",
    "        np.abs(false_alarms - false_alarms_numba).argmax())\n",
    "print(np.abs(true_negatives - true_negatives_numba).max(),\n",
    "        np.abs(true_negatives - true_negatives_numba).argmax())\n",
    "\n",
    "begin = time.time()\n",
    "for i in range(5):\n",
    "    weights_npy = get_balancing_weights(data=truth, mask=mask,\n",
    "                                        base_balancing_weights=None, thresholds=None)\n",
    "end = time.time()\n",
    "print(\"numpy balancing weights:\", end - begin)\n",
    "\n",
    "begin = time.time()\n",
    "for i in range(5):\n",
    "    weights_numba = get_balancing_weights_numba(data=truth, mask=mask,\n",
    "                                                base_balancing_weights=None, thresholds=None)\n",
    "end = time.time()\n",
    "print(\"numba balancing weights:\", end - begin)\n",
    "print(\"Inconsistent Number:\", (np.abs(weights_npy - weights_numba) > 1E-5).sum())"
   ]
  }
 ],
 "metadata": {
  "kernelspec": {
   "display_name": "Python 3.7 (torch)",
   "language": "python",
   "name": "torch"
  },
  "language_info": {
   "codemirror_mode": {
    "name": "ipython",
    "version": 3
   },
   "file_extension": ".py",
   "mimetype": "text/x-python",
   "name": "python",
   "nbconvert_exporter": "python",
   "pygments_lexer": "ipython3",
   "version": "3.7.13"
  },
  "orig_nbformat": 4
 },
 "nbformat": 4,
 "nbformat_minor": 2
}

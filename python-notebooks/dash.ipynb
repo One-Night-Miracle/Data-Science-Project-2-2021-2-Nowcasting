{
 "cells": [
  {
   "cell_type": "code",
   "execution_count": 1,
   "metadata": {},
   "outputs": [],
   "source": [
    "from dash import dcc, html, Output, Input\n",
    "from jupyter_dash import JupyterDash\n",
    "import plotly.express as px\n",
    "import base64, pandas as pd"
   ]
  },
  {
   "cell_type": "code",
   "execution_count": 64,
   "metadata": {},
   "outputs": [
    {
     "data": {
      "text/html": [
       "<div>\n",
       "<style scoped>\n",
       "    .dataframe tbody tr th:only-of-type {\n",
       "        vertical-align: middle;\n",
       "    }\n",
       "\n",
       "    .dataframe tbody tr th {\n",
       "        vertical-align: top;\n",
       "    }\n",
       "\n",
       "    .dataframe thead th {\n",
       "        text-align: right;\n",
       "    }\n",
       "</style>\n",
       "<table border=\"1\" class=\"dataframe\">\n",
       "  <thead>\n",
       "    <tr style=\"text-align: right;\">\n",
       "      <th></th>\n",
       "      <th>DateTime</th>\n",
       "      <th>FolderPath</th>\n",
       "      <th>FileName</th>\n",
       "    </tr>\n",
       "  </thead>\n",
       "  <tbody>\n",
       "    <tr>\n",
       "      <th>0</th>\n",
       "      <td>2020-06-18 06:30:00</td>\n",
       "      <td>/data/bkk_radar_images/bkk_radar_images_1/</td>\n",
       "      <td>1592461954.png</td>\n",
       "    </tr>\n",
       "    <tr>\n",
       "      <th>1</th>\n",
       "      <td>2020-06-18 06:35:00</td>\n",
       "      <td>/data/bkk_radar_images/bkk_radar_images_1/</td>\n",
       "      <td>1592462136.png</td>\n",
       "    </tr>\n",
       "    <tr>\n",
       "      <th>2</th>\n",
       "      <td>2020-06-18 06:45:00</td>\n",
       "      <td>/data/bkk_radar_images/bkk_radar_images_1/</td>\n",
       "      <td>1592462768.png</td>\n",
       "    </tr>\n",
       "    <tr>\n",
       "      <th>3</th>\n",
       "      <td>2020-06-18 06:50:00</td>\n",
       "      <td>/data/bkk_radar_images/bkk_radar_images_1/</td>\n",
       "      <td>1592463068.png</td>\n",
       "    </tr>\n",
       "    <tr>\n",
       "      <th>4</th>\n",
       "      <td>2020-06-18 06:55:00</td>\n",
       "      <td>/data/bkk_radar_images/bkk_radar_images_1/</td>\n",
       "      <td>1592463277.png</td>\n",
       "    </tr>\n",
       "  </tbody>\n",
       "</table>\n",
       "</div>"
      ],
      "text/plain": [
       "              DateTime                                  FolderPath  \\\n",
       "0  2020-06-18 06:30:00  /data/bkk_radar_images/bkk_radar_images_1/   \n",
       "1  2020-06-18 06:35:00  /data/bkk_radar_images/bkk_radar_images_1/   \n",
       "2  2020-06-18 06:45:00  /data/bkk_radar_images/bkk_radar_images_1/   \n",
       "3  2020-06-18 06:50:00  /data/bkk_radar_images/bkk_radar_images_1/   \n",
       "4  2020-06-18 06:55:00  /data/bkk_radar_images/bkk_radar_images_1/   \n",
       "\n",
       "         FileName  \n",
       "0  1592461954.png  \n",
       "1  1592462136.png  \n",
       "2  1592462768.png  \n",
       "3  1592463068.png  \n",
       "4  1592463277.png  "
      ]
     },
     "execution_count": 64,
     "metadata": {},
     "output_type": "execute_result"
    }
   ],
   "source": [
    "# specify the directory of the project\n",
    "proj_dir = '../'\n",
    "\n",
    "# read the data that matches the specified DateTime to the location of the image\n",
    "df = pd.read_csv(f'{proj_dir}data/bkk_all.csv').drop('Unnamed: 0', axis=1)\n",
    "df.head()"
   ]
  },
  {
   "cell_type": "code",
   "execution_count": 65,
   "metadata": {},
   "outputs": [
    {
     "data": {
      "text/plain": [
       "0    2020-06-18 06:30:00\n",
       "1    2020-06-18 06:35:00\n",
       "2    2020-06-18 06:45:00\n",
       "Name: DateTime, dtype: object"
      ]
     },
     "execution_count": 65,
     "metadata": {},
     "output_type": "execute_result"
    }
   ],
   "source": [
    "# extract the DateTime column\n",
    "DateTime = df['DateTime']\n",
    "DateTime.head(3)"
   ]
  },
  {
   "cell_type": "code",
   "execution_count": 66,
   "metadata": {},
   "outputs": [],
   "source": [
    "# extract the Date\n",
    "Date = DateTime.str.split(' ').str[0].unique()"
   ]
  },
  {
   "cell_type": "code",
   "execution_count": 67,
   "metadata": {},
   "outputs": [],
   "source": [
    "# extract the timestamp and create a dictionary\n",
    "Time = {}\n",
    "for date in Date:\n",
    "    Time[date] = DateTime[DateTime.str.contains(date)].str.split(' ').str[1]"
   ]
  },
  {
   "cell_type": "code",
   "execution_count": 106,
   "metadata": {},
   "outputs": [
    {
     "data": {
      "text/html": [
       "\n",
       "        <iframe\n",
       "            width=\"100%\"\n",
       "            height=\"650\"\n",
       "            src=\"http://127.0.0.1:8050/\"\n",
       "            frameborder=\"0\"\n",
       "            allowfullscreen\n",
       "            \n",
       "        ></iframe>\n",
       "        "
      ],
      "text/plain": [
       "<IPython.lib.display.IFrame at 0x242bfdae9a0>"
      ]
     },
     "metadata": {},
     "output_type": "display_data"
    }
   ],
   "source": [
    "# Dash section\n",
    "app = JupyterDash(__name__)\n",
    "\n",
    "app.layout = html.Div([\n",
    "\n",
    "    html.Div([\n",
    "        html.Div([\n",
    "            html.H1('Nowcasting', style={'color': '#FFFFFF'}),\n",
    "\n",
    "            html.Div([\n",
    "                html.Div([\n",
    "\n",
    "                    html.P('Date: ', style={'color': '#FFFFFF'}),\n",
    "                    dcc.Dropdown(\n",
    "                        id='date-dropdown',\n",
    "                        options=[{'label': i, 'value': i} for i in Date],\n",
    "                        value=Date[0],\n",
    "                        style={'width': '150px'}\n",
    "                    ),\n",
    "                ]),\n",
    "                html.Div([    \n",
    "                    html.P('Time: ', style={'color': '#FFFFFF'}),\n",
    "                    dcc.Dropdown(id='time-dropdown', style={'width': '150px'})\n",
    "                ])\n",
    "            ], style={'display': 'flex', 'gap': '10px'}),\n",
    "\n",
    "            ], \n",
    "        style={'display': 'flex', 'flexDirection': 'column'}),\n",
    "\n",
    "        html.Div([\n",
    "            html.Img(id='image', style={'width': '100%', \n",
    "                                    'height': '100%', \n",
    "                                    'backgroundColor': '#FFFFFF'}),], \n",
    "                        style={'display': 'flex', 'justify-content': 'center'}),\n",
    "        html.Div([\n",
    "            html.Img(id='image-2', style={'width': '100%', \n",
    "                                    'height': '100%', \n",
    "                                    'backgroundColor': '#FFFFFF'}),], \n",
    "                        style={'display': 'flex', 'justify-content': 'center'}),\n",
    "        html.Div([\n",
    "            html.Img(id='image-3', style={'width': '100%', \n",
    "                                    'height': '100%', \n",
    "                                    'backgroundColor': '#FFFFFF'}),], \n",
    "                        style={'display': 'flex', 'justify-content': 'center'}),\n",
    "\n",
    "    ], style={'display': 'grid', \n",
    "                'grid-template-columns': 'repeat(2, 2fr)',\n",
    "                'grid-template-rows': ['10px', '10px'],\n",
    "                'grid-gap': '10px',\n",
    "                'justify-content': 'center',\n",
    "                'align-items': 'center',\n",
    "                'margin-top': '10px'}),\n",
    "])\n",
    "\n",
    "@app.callback(\n",
    "    Output('time-dropdown', 'options'),\n",
    "    Output('time-dropdown', 'value'),\n",
    "    Input('date-dropdown', 'value')\n",
    ")\n",
    "def updateTimeDropdown(date):\n",
    "    return [{'label': i, 'value': i} for i in Time[date]], Time[date].iloc[0]\n",
    "\n",
    "@app.callback(\n",
    "    Output('image', 'src'),\n",
    "    Output('image-2', 'src'),\n",
    "    Output('image-3', 'src'),\n",
    "    Input('date-dropdown', 'value'),\n",
    "    Input('time-dropdown', 'value'),\n",
    ")\n",
    "def updateImg(date, time):\n",
    "    result = df.loc[df['DateTime'] == f'{date} {time}', ['FolderPath', 'FileName']]\n",
    "    path = '../' + result.iloc[0,0] + result.iloc[0,1]\n",
    "    encoded_image = base64.b64encode(open(path, 'rb').read())\n",
    "    ret = 'data:image/png;base64,{}'.format(encoded_image.decode())\n",
    "    return (ret, ret, ret)\n",
    "\n",
    "if __name__ == '__main__':\n",
    "    app.run_server(mode='inline')"
   ]
  },
  {
   "cell_type": "code",
   "execution_count": null,
   "metadata": {},
   "outputs": [],
   "source": []
  }
 ],
 "metadata": {
  "interpreter": {
   "hash": "533534f9c3fc800c6c9251b6b1b932b0eff9d5428af2921f474a53f60c912887"
  },
  "kernelspec": {
   "display_name": "Python 3.9.7 ('torch_cuda')",
   "language": "python",
   "name": "python3"
  },
  "language_info": {
   "codemirror_mode": {
    "name": "ipython",
    "version": 3
   },
   "file_extension": ".py",
   "mimetype": "text/x-python",
   "name": "python",
   "nbconvert_exporter": "python",
   "pygments_lexer": "ipython3",
   "version": "3.9.7"
  },
  "orig_nbformat": 4
 },
 "nbformat": 4,
 "nbformat_minor": 2
}

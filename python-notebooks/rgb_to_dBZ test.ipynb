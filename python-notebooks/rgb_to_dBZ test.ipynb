{
  "cells": [
    {
      "cell_type": "code",
      "execution_count": 8,
      "metadata": {},
      "outputs": [],
      "source": [
        "import numpy as np\n",
        "import pandas as pd\n",
        "import matplotlib as mpl\n",
        "import matplotlib.pyplot as plt\n",
        "import cv2\n",
        "import torch\n",
        "from tqdm import tqdm\n",
        "from PIL import Image\n",
        "import torchvision.transforms as T"
      ]
    },
    {
      "cell_type": "code",
      "execution_count": 2,
      "metadata": {},
      "outputs": [],
      "source": [
        "import os, sys\n",
        "sys.path.insert(0,os.path.realpath(os.path.pardir))"
      ]
    },
    {
      "cell_type": "code",
      "execution_count": 3,
      "metadata": {},
      "outputs": [],
      "source": [
        "device = \"cuda\""
      ]
    },
    {
      "cell_type": "code",
      "execution_count": 4,
      "metadata": {},
      "outputs": [],
      "source": [
        "# pic2 = cv2.imread(f\"{sys.path[0]}/data/bkk_radar_images/bkk_radar_images_1/1592461954.png\")\n",
        "\n",
        "# plt.figure(figsize=(10, 10), dpi=80)\n",
        "# plt.imshow(cv2.cvtColor(pic2, cv2.COLOR_BGR2RGB))\n",
        "# plt.show()"
      ]
    },
    {
      "cell_type": "code",
      "execution_count": 5,
      "metadata": {},
      "outputs": [],
      "source": [
        "def radar_colormap():\n",
        "    nws_reflectivity_colors = np.array([\n",
        "    (165, 151, 95), # ND\n",
        "    (0, 255, 128), # 5.5\n",
        "    (0, 255, 0), # 10\n",
        "    (0, 175, 0), # 15\n",
        "    (0, 150, 50), # 20\n",
        "    (255, 255, 0), # 25\n",
        "    (255, 200, 0), # 30\n",
        "    (255, 170, 0), # 35\n",
        "    (255, 85, 0), # 40\n",
        "    (255, 0, 0), # 45\n",
        "    (255, 0, 100), # 50\n",
        "    (255, 0, 255), # 55\n",
        "    (255, 128, 255), # 60\n",
        "    (255, 200, 255), # 65\n",
        "    (255, 225, 255), # 70\n",
        "    (255, 255, 255) # 75\n",
        "    ])\n",
        "    return torch.tensor(nws_reflectivity_colors).to(device)\n",
        "    # return mpl.colors.ListedColormap(nws_reflectivity_colors)\n",
        "\n",
        "dBZmap = torch.tensor([0,5.5,10,15,20,25,30,35,40,45,50,55,60,65,70,75]).to(device)\n",
        "dBZmap = dBZmap * 255. / 75."
      ]
    },
    {
      "cell_type": "code",
      "execution_count": 6,
      "metadata": {},
      "outputs": [
        {
          "data": {
            "image/png": "[encoded data removed]",
            "text/html": [
              "<div style=\"vertical-align: middle;\"><strong>from_list</strong> </div><div class=\"cmap\"><img alt=\"from_list colormap\" title=\"from_list\" style=\"border: 1px solid #555;\" src=\"data:image/png;base64,iVBORw0KGgoAAAANSUhEUgAAAgAAAABACAYAAABsv8+/AAAAGHRFWHRUaXRsZQBmcm9tX2xpc3QgY29sb3JtYXBDL89FAAAAHnRFWHREZXNjcmlwdGlvbgBmcm9tX2xpc3QgY29sb3JtYXABtCnOAAAAMHRFWHRBdXRob3IATWF0cGxvdGxpYiB2My41LjEsIGh0dHBzOi8vbWF0cGxvdGxpYi5vcmf3t87PAAAAMnRFWHRTb2Z0d2FyZQBNYXRwbG90bGliIHYzLjUuMSwgaHR0cHM6Ly9tYXRwbG90bGliLm9yZ9kRUegAAAFtSURBVHic7dYhVQMAFEDRP1pgOIcKpKADYgYBLdYCgUZhqIFZiJnF2GJ88e4t8Ow7/Hwdb7Po7eN5Mz8zp938325+ri+r+dvnebU//7v5uSz3f+P9eV/uf+/mT7v5eV3uPy73n3bzD7t5AGCDAQCAIAMAAEEGAACCDAAABBkAAAgyAAAQZAAAIMgAAECQAQCAIAMAAEEGAACCDAAABBkAAAgyAAAQZAAAIMgAAECQAQCAIAMAAEEGAACCDAAABBkAAAgyAAAQZAAAIMgAAECQAQCAIAMAAEEGAACCDAAABBkAAAgyAAAQZAAAIMgAAECQAQCAIAMAAEEGAACCDAAABBkAAAgyAAAQZAAAIMgAAECQAQCAIAMAAEEGAACCDAAABBkAAAgyAAAQZAAAIMgAAECQAQCAIAMAAEEGAACCDAAABBkAAAgyAAAQZAAAIMgAAECQAQCAIAMAAEEGAACCDAAABBkAAAgyAAAQdAc+zA18EgkooAAAAABJRU5ErkJggg==\"></div><div style=\"vertical-align: middle; max-width: 514px; display: flex; justify-content: space-between;\"><div style=\"float: left;\"><div title=\"#a5975fff\" style=\"display: inline-block; width: 1em; height: 1em; margin: 0; vertical-align: middle; border: 1px solid #555; background-color: #a5975fff;\"></div> under</div><div style=\"margin: 0 auto; display: inline-block;\">bad <div title=\"#00000000\" style=\"display: inline-block; width: 1em; height: 1em; margin: 0; vertical-align: middle; border: 1px solid #555; background-color: #00000000;\"></div></div><div style=\"float: right;\">over <div title=\"#ffffffff\" style=\"display: inline-block; width: 1em; height: 1em; margin: 0; vertical-align: middle; border: 1px solid #555; background-color: #ffffffff;\"></div></div>"
            ],
            "text/plain": [
              "<matplotlib.colors.ListedColormap at 0x152a1ac10c8>"
            ]
          },
          "execution_count": 6,
          "metadata": {},
          "output_type": "execute_result"
        }
      ],
      "source": [
        "mpl.colors.ListedColormap(radar_colormap().cpu().numpy()/255)"
      ]
    },
    {
      "cell_type": "code",
      "execution_count": 9,
      "metadata": {},
      "outputs": [],
      "source": [
        "def color2dBZ(rgb, dBZmap):\n",
        "    w, h, c = rgb.shape\n",
        "    rgb = rgb.reshape(-1, c)\n",
        "    rgb = torch.Tensor(rgb).to(device)\n",
        "    cmap = radar_colormap().unsqueeze(0).to(device)\n",
        "    repeated_rgb = rgb.unsqueeze(1).repeat(1,16,1).to(device)\n",
        "    rgb_diff2 = ((repeated_rgb - cmap)**2).mean(axis=2)\n",
        "    return dBZmap[torch.argmin(rgb_diff2,axis=1).to(device)].reshape(w, h, 1)\n",
        "\n",
        "transform = T.ToPILImage()\n",
        "\n",
        "def convert_n_save(idx):\n",
        "    data = filenames.iloc[idx]\n",
        "    rgb_img = Image.open(f\"..{data.FolderPath}{data.FileName}\")\n",
        "    rgb_img = np.asarray(rgb_img)\n",
        "    dBZ_img = color2dBZ(rgb_img, dBZmap)\n",
        "    dBZ_img = transform(dBZ_img.permute(2,0,1))\n",
        "    dBZ_img.save(f\"{newPath}{data.FileName}\")"
      ]
    },
    {
      "cell_type": "code",
      "execution_count": null,
      "metadata": {},
      "outputs": [],
      "source": [
        "# pic3 = color2dBZ(pic2, dBZmap)"
      ]
    },
    {
      "cell_type": "code",
      "execution_count": 10,
      "metadata": {},
      "outputs": [],
      "source": [
        "# fig = plt.figure(figsize=(20,10), dpi=80)\n",
        "\n",
        "# plt.subplot(121)\n",
        "# plt.axis('off')\n",
        "# plt.imshow(cv2.cvtColor(pic2, cv2.COLOR_BGR2RGB))\n",
        "\n",
        "# plt.subplot(122)\n",
        "# plt.axis('off')\n",
        "# plt.imshow(pic3, cmap='gray')\n",
        "# plt.show()"
      ]
    },
    {
      "cell_type": "code",
      "execution_count": 11,
      "metadata": {},
      "outputs": [],
      "source": [
        "# x, y, z = np.ogrid[:2034, :2048, :1]\n",
        "\n",
        "# circle_mask = np.where((x-2034/2)**2 + (y-2048/2)**2 <= (2034/2)**2, 0, 1)\n",
        "\n",
        "# plt.axis('off')\n",
        "# plt.imshow(circle_mask, cmap='gray')\n",
        "# plt.show()"
      ]
    },
    {
      "cell_type": "code",
      "execution_count": 12,
      "metadata": {},
      "outputs": [],
      "source": [
        "# exclude_mask = np.logical_or(circle_mask,pic3)\n",
        "# plt.imshow(exclude_mask, cmap='gray')\n",
        "# plt.show()"
      ]
    },
    {
      "cell_type": "code",
      "execution_count": 13,
      "metadata": {},
      "outputs": [],
      "source": [
        "# filenames = pd.read_csv(\"../data/bkk_all.csv\")[['DateTime','FolderPath','FileName']]\n",
        "# filenames['FolderPath'] = \"/data/bkk_radar_images\"+filenames['FolderPath'].str[5:]\n",
        "# filenames.to_csv(\"../data/bkk_all.csv\")"
      ]
    },
    {
      "cell_type": "code",
      "execution_count": 31,
      "metadata": {},
      "outputs": [
        {
          "data": {
            "text/html": [
              "<div>\n",
              "<style scoped>\n",
              "    .dataframe tbody tr th:only-of-type {\n",
              "        vertical-align: middle;\n",
              "    }\n",
              "\n",
              "    .dataframe tbody tr th {\n",
              "        vertical-align: top;\n",
              "    }\n",
              "\n",
              "    .dataframe thead th {\n",
              "        text-align: right;\n",
              "    }\n",
              "</style>\n",
              "<table border=\"1\" class=\"dataframe\">\n",
              "  <thead>\n",
              "    <tr style=\"text-align: right;\">\n",
              "      <th></th>\n",
              "      <th>DateTime</th>\n",
              "      <th>FolderPath</th>\n",
              "      <th>FileName</th>\n",
              "    </tr>\n",
              "  </thead>\n",
              "  <tbody>\n",
              "    <tr>\n",
              "      <th>23976</th>\n",
              "      <td>2020-10-05 04:50:00</td>\n",
              "      <td>/data/bkk_radar_images/bkk_radar_images_6/</td>\n",
              "      <td>1601873498.png</td>\n",
              "    </tr>\n",
              "    <tr>\n",
              "      <th>23977</th>\n",
              "      <td>2020-10-05 04:55:00</td>\n",
              "      <td>/data/bkk_radar_images/bkk_radar_images_6/</td>\n",
              "      <td>1601873800.png</td>\n",
              "    </tr>\n",
              "    <tr>\n",
              "      <th>23978</th>\n",
              "      <td>2020-10-05 05:00:00</td>\n",
              "      <td>/data/bkk_radar_images/bkk_radar_images_6/</td>\n",
              "      <td>1601874094.png</td>\n",
              "    </tr>\n",
              "    <tr>\n",
              "      <th>23979</th>\n",
              "      <td>2020-10-05 05:05:00</td>\n",
              "      <td>/data/bkk_radar_images/bkk_radar_images_6/</td>\n",
              "      <td>1601874400.png</td>\n",
              "    </tr>\n",
              "    <tr>\n",
              "      <th>23980</th>\n",
              "      <td>2020-10-05 05:10:00</td>\n",
              "      <td>/data/bkk_radar_images/bkk_radar_images_6/</td>\n",
              "      <td>1601874696.png</td>\n",
              "    </tr>\n",
              "    <tr>\n",
              "      <th>...</th>\n",
              "      <td>...</td>\n",
              "      <td>...</td>\n",
              "      <td>...</td>\n",
              "    </tr>\n",
              "    <tr>\n",
              "      <th>28835</th>\n",
              "      <td>2020-10-27 11:55:00</td>\n",
              "      <td>/data/bkk_radar_images/bkk_radar_images_6/</td>\n",
              "      <td>1603799792.png</td>\n",
              "    </tr>\n",
              "    <tr>\n",
              "      <th>28836</th>\n",
              "      <td>2020-10-27 12:00:00</td>\n",
              "      <td>/data/bkk_radar_images/bkk_radar_images_6/</td>\n",
              "      <td>1603800096.png</td>\n",
              "    </tr>\n",
              "    <tr>\n",
              "      <th>28837</th>\n",
              "      <td>2020-10-27 12:05:00</td>\n",
              "      <td>/data/bkk_radar_images/bkk_radar_images_6/</td>\n",
              "      <td>1603800392.png</td>\n",
              "    </tr>\n",
              "    <tr>\n",
              "      <th>28838</th>\n",
              "      <td>2020-10-27 12:10:00</td>\n",
              "      <td>/data/bkk_radar_images/bkk_radar_images_6/</td>\n",
              "      <td>1603800694.png</td>\n",
              "    </tr>\n",
              "    <tr>\n",
              "      <th>28839</th>\n",
              "      <td>2020-10-27 12:15:00</td>\n",
              "      <td>/data/bkk_radar_images/bkk_radar_images_6/</td>\n",
              "      <td>1603800988.png</td>\n",
              "    </tr>\n",
              "  </tbody>\n",
              "</table>\n",
              "<p>4864 rows × 3 columns</p>\n",
              "</div>"
            ],
            "text/plain": [
              "                  DateTime                                  FolderPath  \\\n",
              "23976  2020-10-05 04:50:00  /data/bkk_radar_images/bkk_radar_images_6/   \n",
              "23977  2020-10-05 04:55:00  /data/bkk_radar_images/bkk_radar_images_6/   \n",
              "23978  2020-10-05 05:00:00  /data/bkk_radar_images/bkk_radar_images_6/   \n",
              "23979  2020-10-05 05:05:00  /data/bkk_radar_images/bkk_radar_images_6/   \n",
              "23980  2020-10-05 05:10:00  /data/bkk_radar_images/bkk_radar_images_6/   \n",
              "...                    ...                                         ...   \n",
              "28835  2020-10-27 11:55:00  /data/bkk_radar_images/bkk_radar_images_6/   \n",
              "28836  2020-10-27 12:00:00  /data/bkk_radar_images/bkk_radar_images_6/   \n",
              "28837  2020-10-27 12:05:00  /data/bkk_radar_images/bkk_radar_images_6/   \n",
              "28838  2020-10-27 12:10:00  /data/bkk_radar_images/bkk_radar_images_6/   \n",
              "28839  2020-10-27 12:15:00  /data/bkk_radar_images/bkk_radar_images_6/   \n",
              "\n",
              "             FileName  \n",
              "23976  1601873498.png  \n",
              "23977  1601873800.png  \n",
              "23978  1601874094.png  \n",
              "23979  1601874400.png  \n",
              "23980  1601874696.png  \n",
              "...               ...  \n",
              "28835  1603799792.png  \n",
              "28836  1603800096.png  \n",
              "28837  1603800392.png  \n",
              "28838  1603800694.png  \n",
              "28839  1603800988.png  \n",
              "\n",
              "[4864 rows x 3 columns]"
            ]
          },
          "execution_count": 31,
          "metadata": {},
          "output_type": "execute_result"
        }
      ],
      "source": [
        "filenames = pd.read_csv(\"../data/bkk_all.csv\")[['DateTime','FolderPath','FileName']]\n",
        "filenames_1 = filenames[filenames['FolderPath']=='/data/bkk_radar_images/bkk_radar_images_1/']\n",
        "filenames_2 = filenames[filenames['FolderPath']=='/data/bkk_radar_images/bkk_radar_images_2/']\n",
        "filenames_3 = filenames[filenames['FolderPath']=='/data/bkk_radar_images/bkk_radar_images_3/']\n",
        "filenames_4 = filenames[filenames['FolderPath']=='/data/bkk_radar_images/bkk_radar_images_4/']\n",
        "filenames_5 = filenames[filenames['FolderPath']=='/data/bkk_radar_images/bkk_radar_images_5/']\n",
        "filenames_6 = filenames[filenames['FolderPath']=='/data/bkk_radar_images/bkk_radar_images_6/']\n",
        "filenames_7 = filenames[filenames['FolderPath']=='/data/bkk_radar_images/bkk_radar_images_7/']\n",
        "filenames_8 = filenames[filenames['FolderPath']=='/data/bkk_radar_images/bkk_radar_images_8/']\n",
        "filenames_9 = filenames[filenames['FolderPath']=='/data/bkk_radar_images/bkk_radar_images_9/']\n",
        "filenames_10 = filenames[filenames['FolderPath']=='/data/bkk_radar_images/bkk_radar_images_10/']\n",
        "filenames_11 = filenames[filenames['FolderPath']=='/data/bkk_radar_images/bkk_radar_images_11/']\n",
        "filenames_12 = filenames[filenames['FolderPath']=='/data/bkk_radar_images/bkk_radar_images_12/']\n",
        "filenames_13 = filenames[filenames['FolderPath']=='/data/bkk_radar_images/bkk_radar_images_13/']"
      ]
    },
    {
      "cell_type": "code",
      "execution_count": null,
      "metadata": {},
      "outputs": [],
      "source": [
        "def color2dBZ(rgb, dBZmap):\n",
        "    w, h, c = rgb.shape\n",
        "    rgb = rgb.reshape(-1, c)[:,:3]\n",
        "    rgb = torch.Tensor(rgb).to(device)\n",
        "    cmap = radar_colormap().unsqueeze(0).to(device)\n",
        "    repeated_rgb = rgb.unsqueeze(1).repeat(1,16,1).to(device)\n",
        "    # print(repeated_rgb.shape, cmap.shape)\n",
        "    rgb_diff2 = ((repeated_rgb - cmap)**2).mean(axis=2)\n",
        "    return dBZmap[torch.argmin(rgb_diff2,axis=1).to(device)].reshape(w, h, 1)"
      ]
    },
    {
      "cell_type": "code",
      "execution_count": null,
      "metadata": {},
      "outputs": [
        {
          "name": "stderr",
          "output_type": "stream",
          "text": [
            "100%|██████████| 4837/4837 [14:11<00:00,  5.68it/s]\n"
          ]
        }
      ],
      "source": [
        "newPath = \"../data/bkk_radar_images_dBZ/bkk_radar_images_dBZ_6/\"\n",
        "\n",
        "for idx in tqdm(range(filenames.shape[0])):\n",
        "    convert_n_save(idx)"
      ]
    },
    {
      "cell_type": "code",
      "execution_count": null,
      "metadata": {},
      "outputs": [],
      "source": []
    }
  ],
  "metadata": {
    "kernelspec": {
      "display_name": "Python 3.7 (torch)",
      "language": "python",
      "name": "torch"
    },
    "language_info": {
      "codemirror_mode": {
        "name": "ipython",
        "version": 3
      },
      "file_extension": ".py",
      "mimetype": "text/x-python",
      "name": "python",
      "nbconvert_exporter": "python",
      "pygments_lexer": "ipython3",
      "version": "3.7.13"
    },
    "orig_nbformat": 4
  },
  "nbformat": 4,
  "nbformat_minor": 2
}

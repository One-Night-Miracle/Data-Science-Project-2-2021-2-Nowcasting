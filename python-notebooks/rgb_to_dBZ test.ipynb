{
  "cells": [
    {
      "cell_type": "code",
      "execution_count": 66,
      "metadata": {},
      "outputs": [],
      "source": [
        "import numpy as np\n",
        "import pandas as pd\n",
        "import matplotlib as mpl\n",
        "import matplotlib.pyplot as plt\n",
        "import cv2\n",
        "import torch\n",
        "from PIL import Image\n",
        "import torchvision.transforms as T\n",
        "import pickle\n",
        "from tqdm import tqdm"
      ]
    },
    {
      "cell_type": "code",
      "execution_count": 67,
      "metadata": {},
      "outputs": [],
      "source": [
        "import os, sys\n",
        "sys.path.insert(0,os.path.realpath(os.path.pardir))"
      ]
    },
    {
      "cell_type": "code",
      "execution_count": 68,
      "metadata": {},
      "outputs": [],
      "source": [
        "device = \"cuda\""
      ]
    },
    {
      "cell_type": "code",
      "execution_count": 69,
      "metadata": {},
      "outputs": [],
      "source": [
        "# pic2 = cv2.imread(f\"{sys.path[0]}/data/bkk_radar_images/bkk_radar_images_1/1592461954.png\")\n",
        "\n",
        "# plt.figure(figsize=(10, 10), dpi=80)\n",
        "# plt.imshow(cv2.cvtColor(pic2, cv2.COLOR_BGR2RGB))\n",
        "# plt.show()"
      ]
    },
    {
      "cell_type": "code",
      "execution_count": 70,
      "metadata": {},
      "outputs": [],
      "source": [
        "def radar_colormap():\n",
        "    nws_reflectivity_colors = np.array([\n",
        "    (165, 151, 95), # ND\n",
        "    (0, 255, 128), # 5.5\n",
        "    (0, 255, 0), # 10\n",
        "    (0, 175, 0), # 15\n",
        "    (0, 150, 50), # 20\n",
        "    (255, 255, 0), # 25\n",
        "    (255, 200, 0), # 30\n",
        "    (255, 170, 0), # 35\n",
        "    (255, 85, 0), # 40\n",
        "    (255, 0, 0), # 45\n",
        "    (255, 0, 100), # 50\n",
        "    (255, 0, 255), # 55\n",
        "    (255, 128, 255), # 60\n",
        "    (255, 200, 255), # 65\n",
        "    (255, 225, 255), # 70\n",
        "    (255, 255, 255) # 75\n",
        "    ])\n",
        "    return torch.tensor(nws_reflectivity_colors).to(device)\n",
        "    # return mpl.colors.ListedColormap(nws_reflectivity_colors)\n",
        "\n",
        "dBZmap = torch.tensor([0,5.5,10,15,20,25,30,35,40,45,50,55,60,65,70,75]).to(device)\n",
        "dBZmap = dBZmap * 255. / 75."
      ]
    },
    {
      "cell_type": "code",
      "execution_count": 71,
      "metadata": {},
      "outputs": [
        {
          "data": {
            "image/png": "[encoded data removed]",
            "text/html": [
              "<div style=\"vertical-align: middle;\"><strong>from_list</strong> </div><div class=\"cmap\"><img alt=\"from_list colormap\" title=\"from_list\" style=\"border: 1px solid #555;\" src=\"data:image/png;base64,iVBORw0KGgoAAAANSUhEUgAAAgAAAABACAYAAABsv8+/AAAAGHRFWHRUaXRsZQBmcm9tX2xpc3QgY29sb3JtYXBDL89FAAAAHnRFWHREZXNjcmlwdGlvbgBmcm9tX2xpc3QgY29sb3JtYXABtCnOAAAAMHRFWHRBdXRob3IATWF0cGxvdGxpYiB2My41LjEsIGh0dHBzOi8vbWF0cGxvdGxpYi5vcmf3t87PAAAAMnRFWHRTb2Z0d2FyZQBNYXRwbG90bGliIHYzLjUuMSwgaHR0cHM6Ly9tYXRwbG90bGliLm9yZ9kRUegAAAFtSURBVHic7dYhVQMAFEDRP1pgOIcKpKADYgYBLdYCgUZhqIFZiJnF2GJ88e4t8Ow7/Hwdb7Po7eN5Mz8zp938325+ri+r+dvnebU//7v5uSz3f+P9eV/uf+/mT7v5eV3uPy73n3bzD7t5AGCDAQCAIAMAAEEGAACCDAAABBkAAAgyAAAQZAAAIMgAAECQAQCAIAMAAEEGAACCDAAABBkAAAgyAAAQZAAAIMgAAECQAQCAIAMAAEEGAACCDAAABBkAAAgyAAAQZAAAIMgAAECQAQCAIAMAAEEGAACCDAAABBkAAAgyAAAQZAAAIMgAAECQAQCAIAMAAEEGAACCDAAABBkAAAgyAAAQZAAAIMgAAECQAQCAIAMAAEEGAACCDAAABBkAAAgyAAAQZAAAIMgAAECQAQCAIAMAAEEGAACCDAAABBkAAAgyAAAQZAAAIMgAAECQAQCAIAMAAEEGAACCDAAABBkAAAgyAAAQdAc+zA18EgkooAAAAABJRU5ErkJggg==\"></div><div style=\"vertical-align: middle; max-width: 514px; display: flex; justify-content: space-between;\"><div style=\"float: left;\"><div title=\"#a5975fff\" style=\"display: inline-block; width: 1em; height: 1em; margin: 0; vertical-align: middle; border: 1px solid #555; background-color: #a5975fff;\"></div> under</div><div style=\"margin: 0 auto; display: inline-block;\">bad <div title=\"#00000000\" style=\"display: inline-block; width: 1em; height: 1em; margin: 0; vertical-align: middle; border: 1px solid #555; background-color: #00000000;\"></div></div><div style=\"float: right;\">over <div title=\"#ffffffff\" style=\"display: inline-block; width: 1em; height: 1em; margin: 0; vertical-align: middle; border: 1px solid #555; background-color: #ffffffff;\"></div></div>"
            ],
            "text/plain": [
              "<matplotlib.colors.ListedColormap at 0x15291d77448>"
            ]
          },
          "execution_count": 71,
          "metadata": {},
          "output_type": "execute_result"
        }
      ],
      "source": [
        "mpl.colors.ListedColormap(radar_colormap().cpu().numpy()/255)"
      ]
    },
    {
      "cell_type": "code",
      "execution_count": 72,
      "metadata": {},
      "outputs": [],
      "source": [
        "def color2dBZ(rgb, dBZmap):\n",
        "    w, h, c = rgb.shape\n",
        "    rgb = rgb.reshape(-1, c)[:,:3]\n",
        "    rgb = torch.Tensor(rgb).to(device)\n",
        "    cmap = radar_colormap().unsqueeze(0).to(device)\n",
        "    repeated_rgb = rgb.unsqueeze(1).repeat(1,16,1).to(device)\n",
        "    # print(repeated_rgb.shape, cmap.shape)\n",
        "    rgb_diff2 = ((repeated_rgb - cmap)**2).mean(axis=2)\n",
        "    return dBZmap[torch.argmin(rgb_diff2,axis=1).to(device)].reshape(w, h, 1)\n",
        "\n",
        "transform = T.ToPILImage()\n",
        "\n",
        "def convert_n_save(df, path, idx):\n",
        "    data = df.iloc[idx]\n",
        "    rgb_img = Image.open(f\"..{data.FolderPath}{data.FileName}\")\n",
        "    rgb_img = np.asarray(rgb_img)\n",
        "    dBZ_img = color2dBZ(rgb_img, dBZmap)\n",
        "    dBZ_img = transform(dBZ_img.permute(2,0,1))\n",
        "    dBZ_img.save(f\"{path}{data.FileName}\")"
      ]
    },
    {
      "cell_type": "code",
      "execution_count": 73,
      "metadata": {},
      "outputs": [],
      "source": [
        "# pic3 = color2dBZ(pic2, dBZmap)"
      ]
    },
    {
      "cell_type": "code",
      "execution_count": 74,
      "metadata": {},
      "outputs": [],
      "source": [
        "# fig = plt.figure(figsize=(20,10), dpi=80)\n",
        "\n",
        "# plt.subplot(121)\n",
        "# plt.axis('off')\n",
        "# plt.imshow(cv2.cvtColor(pic2, cv2.COLOR_BGR2RGB))\n",
        "\n",
        "# plt.subplot(122)\n",
        "# plt.axis('off')\n",
        "# plt.imshow(pic3, cmap='gray')\n",
        "# plt.show()"
      ]
    },
    {
      "cell_type": "code",
      "execution_count": 75,
      "metadata": {},
      "outputs": [],
      "source": [
        "# x, y, z = np.ogrid[:2034, :2048, :1]\n",
        "\n",
        "# circle_mask = np.where((x-2034/2)**2 + (y-2048/2)**2 <= (2034/2)**2, 0, 1)\n",
        "\n",
        "# plt.axis('off')\n",
        "# plt.imshow(circle_mask, cmap='gray')\n",
        "# plt.show()"
      ]
    },
    {
      "cell_type": "code",
      "execution_count": 76,
      "metadata": {},
      "outputs": [],
      "source": [
        "# exclude_mask = np.logical_or(circle_mask,pic3)\n",
        "# plt.imshow(exclude_mask, cmap='gray')\n",
        "# plt.show()"
      ]
    },
    {
      "cell_type": "code",
      "execution_count": 77,
      "metadata": {},
      "outputs": [],
      "source": [
        "# filenames = pd.read_csv(\"../data/bkk_all.csv\")[['DateTime','FolderPath','FileName']]\n",
        "# filenames['FolderPath'] = \"/data/bkk_radar_images\"+filenames['FolderPath'].str[5:]\n",
        "# filenames.to_csv(\"../data/bkk_all.csv\")"
      ]
    },
    {
      "cell_type": "code",
      "execution_count": 78,
      "metadata": {},
      "outputs": [],
      "source": [
        "filenames = pd.read_csv(\"../data/bkk_all.csv\")[['DateTime','FolderPath','FileName']]\n",
        "\n",
        "filenames_1 = filenames[filenames['FolderPath']=='/data/bkk_radar_images/bkk_radar_images_1/'].reset_index()[['DateTime','FolderPath','FileName']]\n",
        "filenames_2 = filenames[filenames['FolderPath']=='/data/bkk_radar_images/bkk_radar_images_2/'].reset_index()[['DateTime','FolderPath','FileName']]\n",
        "filenames_3 = filenames[filenames['FolderPath']=='/data/bkk_radar_images/bkk_radar_images_3/'].reset_index()[['DateTime','FolderPath','FileName']]\n",
        "filenames_4 = filenames[filenames['FolderPath']=='/data/bkk_radar_images/bkk_radar_images_4/'].reset_index()[['DateTime','FolderPath','FileName']]\n",
        "filenames_5 = filenames[filenames['FolderPath']=='/data/bkk_radar_images/bkk_radar_images_5/'].reset_index()[['DateTime','FolderPath','FileName']]\n",
        "filenames_6 = filenames[filenames['FolderPath']=='/data/bkk_radar_images/bkk_radar_images_6/'].reset_index()[['DateTime','FolderPath','FileName']]\n",
        "filenames_7 = filenames[filenames['FolderPath']=='/data/bkk_radar_images/bkk_radar_images_7/'].reset_index()[['DateTime','FolderPath','FileName']]\n",
        "filenames_8 = filenames[filenames['FolderPath']=='/data/bkk_radar_images/bkk_radar_images_8/'].reset_index()[['DateTime','FolderPath','FileName']]\n",
        "filenames_9 = filenames[filenames['FolderPath']=='/data/bkk_radar_images/bkk_radar_images_9/'].reset_index()[['DateTime','FolderPath','FileName']]\n",
        "filenames_10 = filenames[filenames['FolderPath']=='/data/bkk_radar_images/bkk_radar_images_10/'].reset_index()[['DateTime','FolderPath','FileName']]\n",
        "filenames_11 = filenames[filenames['FolderPath']=='/data/bkk_radar_images/bkk_radar_images_11/'].reset_index()[['DateTime','FolderPath','FileName']]\n",
        "filenames_12 = filenames[filenames['FolderPath']=='/data/bkk_radar_images/bkk_radar_images_12/'].reset_index()[['DateTime','FolderPath','FileName']]\n",
        "filenames_13 = filenames[filenames['FolderPath']=='/data/bkk_radar_images/bkk_radar_images_13/'].reset_index()[['DateTime','FolderPath','FileName']]"
      ]
    },
    {
      "cell_type": "code",
      "execution_count": 79,
      "metadata": {},
      "outputs": [],
      "source": [
        "# filenames.to_pickle('../data/pd/bkk_all.pkl')\n",
        "# for i in range(1,14):\n",
        "#     exec(f\"filenames_{i}.to_pickle('../data/pd/bkk_{i}.pkl')\")  "
      ]
    },
    {
      "cell_type": "code",
      "execution_count": 83,
      "metadata": {},
      "outputs": [
        {
          "name": "stderr",
          "output_type": "stream",
          "text": [
            "  0%|          | 0/4863 [00:00<?, ?it/s]\n"
          ]
        },
        {
          "ename": "FileNotFoundError",
          "evalue": "[Errno 2] No such file or directory: '/data/bkk_radar_images_dBZ/bkk_radar_images_dBZ_1/1592461954.png'",
          "output_type": "error",
          "traceback": [
            "\u001b[1;31m---------------------------------------------------------------------------\u001b[0m",
            "\u001b[1;31mFileNotFoundError\u001b[0m                         Traceback (most recent call last)",
            "\u001b[1;32m~\\AppData\\Local\\Temp\\ipykernel_16788\\3709502152.py\u001b[0m in \u001b[0;36m<module>\u001b[1;34m\u001b[0m\n\u001b[0;32m      7\u001b[0m \u001b[1;33m\u001b[0m\u001b[0m\n\u001b[0;32m      8\u001b[0m \u001b[1;32mfor\u001b[0m \u001b[0midx\u001b[0m \u001b[1;32min\u001b[0m \u001b[0mtqdm\u001b[0m\u001b[1;33m(\u001b[0m\u001b[0mrange\u001b[0m\u001b[1;33m(\u001b[0m\u001b[0mdf\u001b[0m\u001b[1;33m.\u001b[0m\u001b[0mshape\u001b[0m\u001b[1;33m[\u001b[0m\u001b[1;36m0\u001b[0m\u001b[1;33m]\u001b[0m\u001b[1;33m)\u001b[0m\u001b[1;33m)\u001b[0m\u001b[1;33m:\u001b[0m\u001b[1;33m\u001b[0m\u001b[1;33m\u001b[0m\u001b[0m\n\u001b[1;32m----> 9\u001b[1;33m     \u001b[0mconvert_n_save\u001b[0m\u001b[1;33m(\u001b[0m\u001b[0mdf\u001b[0m\u001b[1;33m,\u001b[0m \u001b[0mnewPath\u001b[0m\u001b[1;33m,\u001b[0m \u001b[0midx\u001b[0m\u001b[1;33m)\u001b[0m\u001b[1;33m\u001b[0m\u001b[1;33m\u001b[0m\u001b[0m\n\u001b[0m",
            "\u001b[1;32m~\\AppData\\Local\\Temp\\ipykernel_16788\\1289854409.py\u001b[0m in \u001b[0;36mconvert_n_save\u001b[1;34m(df, path, idx)\u001b[0m\n\u001b[0;32m     17\u001b[0m     \u001b[0mdBZ_img\u001b[0m \u001b[1;33m=\u001b[0m \u001b[0mcolor2dBZ\u001b[0m\u001b[1;33m(\u001b[0m\u001b[0mrgb_img\u001b[0m\u001b[1;33m,\u001b[0m \u001b[0mdBZmap\u001b[0m\u001b[1;33m)\u001b[0m\u001b[1;33m\u001b[0m\u001b[1;33m\u001b[0m\u001b[0m\n\u001b[0;32m     18\u001b[0m     \u001b[0mdBZ_img\u001b[0m \u001b[1;33m=\u001b[0m \u001b[0mtransform\u001b[0m\u001b[1;33m(\u001b[0m\u001b[0mdBZ_img\u001b[0m\u001b[1;33m.\u001b[0m\u001b[0mpermute\u001b[0m\u001b[1;33m(\u001b[0m\u001b[1;36m2\u001b[0m\u001b[1;33m,\u001b[0m\u001b[1;36m0\u001b[0m\u001b[1;33m,\u001b[0m\u001b[1;36m1\u001b[0m\u001b[1;33m)\u001b[0m\u001b[1;33m)\u001b[0m\u001b[1;33m\u001b[0m\u001b[1;33m\u001b[0m\u001b[0m\n\u001b[1;32m---> 19\u001b[1;33m     \u001b[0mdBZ_img\u001b[0m\u001b[1;33m.\u001b[0m\u001b[0msave\u001b[0m\u001b[1;33m(\u001b[0m\u001b[1;34mf\"{path}{data.FileName}\"\u001b[0m\u001b[1;33m)\u001b[0m\u001b[1;33m\u001b[0m\u001b[1;33m\u001b[0m\u001b[0m\n\u001b[0m",
            "\u001b[1;32mc:\\Users\\FACT-PC\\anaconda3\\envs\\torch\\lib\\site-packages\\PIL\\Image.py\u001b[0m in \u001b[0;36msave\u001b[1;34m(self, fp, format, **params)\u001b[0m\n\u001b[0;32m   2207\u001b[0m                 \u001b[0mfp\u001b[0m \u001b[1;33m=\u001b[0m \u001b[0mbuiltins\u001b[0m\u001b[1;33m.\u001b[0m\u001b[0mopen\u001b[0m\u001b[1;33m(\u001b[0m\u001b[0mfilename\u001b[0m\u001b[1;33m,\u001b[0m \u001b[1;34m\"r+b\"\u001b[0m\u001b[1;33m)\u001b[0m\u001b[1;33m\u001b[0m\u001b[1;33m\u001b[0m\u001b[0m\n\u001b[0;32m   2208\u001b[0m             \u001b[1;32melse\u001b[0m\u001b[1;33m:\u001b[0m\u001b[1;33m\u001b[0m\u001b[1;33m\u001b[0m\u001b[0m\n\u001b[1;32m-> 2209\u001b[1;33m                 \u001b[0mfp\u001b[0m \u001b[1;33m=\u001b[0m \u001b[0mbuiltins\u001b[0m\u001b[1;33m.\u001b[0m\u001b[0mopen\u001b[0m\u001b[1;33m(\u001b[0m\u001b[0mfilename\u001b[0m\u001b[1;33m,\u001b[0m \u001b[1;34m\"w+b\"\u001b[0m\u001b[1;33m)\u001b[0m\u001b[1;33m\u001b[0m\u001b[1;33m\u001b[0m\u001b[0m\n\u001b[0m\u001b[0;32m   2210\u001b[0m \u001b[1;33m\u001b[0m\u001b[0m\n\u001b[0;32m   2211\u001b[0m         \u001b[1;32mtry\u001b[0m\u001b[1;33m:\u001b[0m\u001b[1;33m\u001b[0m\u001b[1;33m\u001b[0m\u001b[0m\n",
            "\u001b[1;31mFileNotFoundError\u001b[0m: [Errno 2] No such file or directory: '/data/bkk_radar_images_dBZ/bkk_radar_images_dBZ_1/1592461954.png'"
          ]
        }
      ],
      "source": [
        "folder_i = 1\n",
        "\n",
        "df = None\n",
        "newPath = None\n",
        "exec(f\"df = filenames_{folder_i}\")\n",
        "exec(f\"newPath = '../data/bkk_radar_images_dBZ/bkk_radar_images_dBZ_{folder_i}/'\")\n",
        "\n",
        "for idx in tqdm(range(df.shape[0])):\n",
        "    convert_n_save(df, newPath, idx)"
      ]
    },
    {
      "cell_type": "code",
      "execution_count": null,
      "metadata": {},
      "outputs": [],
      "source": []
    }
  ],
  "metadata": {
    "kernelspec": {
      "display_name": "Python 3.7 (torch)",
      "language": "python",
      "name": "torch"
    },
    "language_info": {
      "codemirror_mode": {
        "name": "ipython",
        "version": 3
      },
      "file_extension": ".py",
      "mimetype": "text/x-python",
      "name": "python",
      "nbconvert_exporter": "python",
      "pygments_lexer": "ipython3",
      "version": "3.7.13"
    },
    "orig_nbformat": 4
  },
  "nbformat": 4,
  "nbformat_minor": 2
}

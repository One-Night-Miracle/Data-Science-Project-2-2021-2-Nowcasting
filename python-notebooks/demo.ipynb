{
 "cells": [
  {
   "cell_type": "code",
   "execution_count": 6,
   "metadata": {},
   "outputs": [],
   "source": [
    "import cv2\n",
    "import shutil\n",
    "import numpy as np\n",
    "import pandas as pd\n",
    "import torch\n",
    "from torch.optim import lr_scheduler\n",
    "import matplotlib.pyplot as plt\n",
    "from PIL import Image\n",
    "\n",
    "import os, sys\n",
    "sys.path.insert(0, '/content/Data-Science-Project-2-2021-2-Nowcasting/')\n",
    "\n",
    "from utils.tools.dataloader import BKKIterator\n",
    "from utils.config import cfg\n",
    "from utils.config import cfg\n",
    "from utils.blocks.forecaster import Forecaster\n",
    "from utils.blocks.encoder import Encoder\n",
    "from collections import OrderedDict\n",
    "from utils.blocks.module import EF, Predictor\n",
    "from utils.loss import Weighted_mse_mae\n",
    "from utils.blocks.trajGRU import TrajGRU\n",
    "from utils.train_and_test import train_and_test\n",
    "from utils.tools.evaluation import *\n",
    "from experiment.net_params import encoder_params, forecaster_params, conv2d_params\n",
    "from utils.tools import image, mask\n",
    "from utils.tools.evaluation import Evaluation"
   ]
  },
  {
   "cell_type": "markdown",
   "metadata": {},
   "source": [
    "## Train-Valid-Test Split"
   ]
  },
  {
   "cell_type": "code",
   "execution_count": 7,
   "metadata": {},
   "outputs": [],
   "source": [
    "from utils.tools.train_test_split import *\n",
    "from utils.utils import *\n",
    "\n",
    "rebuild_bkk_pkl()\n",
    "train_test_split(cfg.ONM_PD.FOLDER_ALL, ratio=(0.8,0.05,0.15))"
   ]
  },
  {
   "cell_type": "markdown",
   "metadata": {},
   "source": [
    "## Create Model and Load weights from .pth"
   ]
  },
  {
   "cell_type": "markdown",
   "metadata": {},
   "source": [
    "Remove map_location=torch.device('cpu') if you're able to use cuda"
   ]
  },
  {
   "cell_type": "code",
   "execution_count": null,
   "metadata": {},
   "outputs": [],
   "source": [
    "IN_LEN = cfg.BENCHMARK.IN_LEN\n",
    "OUT_LEN = cfg.BENCHMARK.OUT_LEN\n",
    "\n",
    "# encoder = Encoder(encoder_params[0], encoder_params[1]).to(cfg.GLOBAL.DEVICE)\n",
    "# forecaster = Forecaster(forecaster_params[0], forecaster_params[1])\n",
    "# model = EF(encoder, forecaster).to(cfg.GLOBAL.DEVICE)\n",
    "# model.load_state_dict(torch.load(os.path.join(cfg.GLOBAL.MODEL_SAVE_DIR, 'trajGRU_BMSE_BMAE', 'models', 'encoder_forecaster_1000.pth'), map_location=torch.device('cpu')))\n",
    "\n",
    "model = Predictor(conv2d_params).to(cfg.GLOBAL.DEVICE)\n",
    "model.load_state_dict(torch.load(os.path.join(cfg.GLOBAL.MODEL_SAVE_DIR, 'conv2d', 'models', 'encoder_forecaster_100.pth'), map_location=torch.device('cpu')))"
   ]
  },
  {
   "cell_type": "markdown",
   "metadata": {},
   "source": [
    "## Predict 20 (OUT_LEN) outputs from 5 (IN_LEN) inputs"
   ]
  },
  {
   "cell_type": "code",
   "execution_count": null,
   "metadata": {},
   "outputs": [],
   "source": [
    "bkk_iter = BKKIterator(pd_path=cfg.ONM_PD.RAINY_TEST,\n",
    "                       sample_mode=\"sequent\",\n",
    "                       seq_len=IN_LEN + OUT_LEN,\n",
    "                       stride=cfg.BENCHMARK.STRIDE)\n",
    "\n",
    "valid_batch, valid_mask, sample_datetimes, _ = bkk_iter.sample(batch_size=1)\n",
    "\n",
    "valid_batch = valid_batch.astype(np.float32) / 255.0\n",
    "valid_data = valid_batch[:IN_LEN, ...]\n",
    "valid_label = valid_batch[IN_LEN:IN_LEN + OUT_LEN, ...]\n",
    "mask = valid_mask[IN_LEN:IN_LEN + OUT_LEN, ...].astype(int)\n",
    "torch_valid_data = torch.from_numpy(valid_data).to(cfg.GLOBAL.DEVICE)\n",
    "\n",
    "with torch.no_grad():\n",
    "    output = model(torch_valid_data)\n",
    "\n",
    "output = np.clip(output.cpu().numpy(), 0.0, 1.0)\n",
    "\n",
    "base_dir = '.'\n",
    "# S*B*1*H*W\n",
    "label = valid_label[:, 0, 0, :, :]\n",
    "output = output[:, 0, 0, :, :]\n",
    "mask = mask[:, 0, 0, :, :].astype(np.uint8)"
   ]
  },
  {
   "cell_type": "code",
   "execution_count": null,
   "metadata": {},
   "outputs": [],
   "source": [
    "i = 0  # 0 ~ 19"
   ]
  },
  {
   "cell_type": "code",
   "execution_count": null,
   "metadata": {},
   "outputs": [],
   "source": [
    "plt.imshow(label[i][0][0])\n",
    "plt.show()"
   ]
  },
  {
   "cell_type": "code",
   "execution_count": null,
   "metadata": {},
   "outputs": [],
   "source": [
    "plt.imshow(output[i][0][0])\n",
    "plt.show()"
   ]
  }
 ],
 "metadata": {
  "interpreter": {
   "hash": "eb1796cbf25d2108f32d5db083036b25e583e4721264bccb55031d3096240637"
  },
  "kernelspec": {
   "display_name": "Python 3.8.13 ('torch')",
   "language": "python",
   "name": "python3"
  },
  "language_info": {
   "codemirror_mode": {
    "name": "ipython",
    "version": 3
   },
   "file_extension": ".py",
   "mimetype": "text/x-python",
   "name": "python",
   "nbconvert_exporter": "python",
   "pygments_lexer": "ipython3",
   "version": "3.8.13"
  },
  "orig_nbformat": 4
 },
 "nbformat": 4,
 "nbformat_minor": 2
}

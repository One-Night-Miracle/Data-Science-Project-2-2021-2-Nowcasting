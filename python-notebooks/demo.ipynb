{
 "cells": [
  {
   "cell_type": "code",
   "execution_count": 3,
   "metadata": {},
   "outputs": [
    {
     "ename": "ModuleNotFoundError",
     "evalue": "No module named 'moviepy'",
     "output_type": "error",
     "traceback": [
      "\u001b[1;31m---------------------------------------------------------------------------\u001b[0m",
      "\u001b[1;31mModuleNotFoundError\u001b[0m                       Traceback (most recent call last)",
      "\u001b[1;32mc:\\Users\\FACT-PC\\Desktop\\git_workspace\\Data-Science-Project-2-2021-2-Nowcasting\\python-notebooks\\demo.ipynb Cell 1'\u001b[0m in \u001b[0;36m<cell line: 20>\u001b[1;34m()\u001b[0m\n\u001b[0;32m     <a href='vscode-notebook-cell:/c%3A/Users/FACT-PC/Desktop/git_workspace/Data-Science-Project-2-2021-2-Nowcasting/python-notebooks/demo.ipynb#ch0000000?line=17'>18</a>\u001b[0m \u001b[39mfrom\u001b[39;00m \u001b[39mutils\u001b[39;00m\u001b[39m.\u001b[39;00m\u001b[39mtools\u001b[39;00m\u001b[39m.\u001b[39;00m\u001b[39mevaluation\u001b[39;00m \u001b[39mimport\u001b[39;00m \u001b[39m*\u001b[39m\n\u001b[0;32m     <a href='vscode-notebook-cell:/c%3A/Users/FACT-PC/Desktop/git_workspace/Data-Science-Project-2-2021-2-Nowcasting/python-notebooks/demo.ipynb#ch0000000?line=18'>19</a>\u001b[0m \u001b[39mfrom\u001b[39;00m \u001b[39mexperiment\u001b[39;00m\u001b[39m.\u001b[39;00m\u001b[39mnet_params\u001b[39;00m \u001b[39mimport\u001b[39;00m \u001b[39m*\u001b[39m\n\u001b[1;32m---> <a href='vscode-notebook-cell:/c%3A/Users/FACT-PC/Desktop/git_workspace/Data-Science-Project-2-2021-2-Nowcasting/python-notebooks/demo.ipynb#ch0000000?line=19'>20</a>\u001b[0m \u001b[39mfrom\u001b[39;00m \u001b[39mutils\u001b[39;00m\u001b[39m.\u001b[39;00m\u001b[39mtools\u001b[39;00m\u001b[39m.\u001b[39;00m\u001b[39mvisualization\u001b[39;00m \u001b[39mimport\u001b[39;00m save_hko_movie\n",
      "File \u001b[1;32mc:\\Users\\FACT-PC\\Desktop\\git_workspace\\Data-Science-Project-2-2021-2-Nowcasting\\python-notebooks\\..\\utils\\tools\\visualization.py:5\u001b[0m, in \u001b[0;36m<module>\u001b[1;34m\u001b[0m\n\u001b[0;32m      <a href='file:///c%3A/Users/FACT-PC/Desktop/git_workspace/Data-Science-Project-2-2021-2-Nowcasting/python-notebooks/../utils/tools/visualization.py?line=2'>3</a>\u001b[0m \u001b[39mfrom\u001b[39;00m \u001b[39mmatplotlib\u001b[39;00m\u001b[39m.\u001b[39;00m\u001b[39mcolors\u001b[39;00m \u001b[39mimport\u001b[39;00m hsv_to_rgb\n\u001b[0;32m      <a href='file:///c%3A/Users/FACT-PC/Desktop/git_workspace/Data-Science-Project-2-2021-2-Nowcasting/python-notebooks/../utils/tools/visualization.py?line=3'>4</a>\u001b[0m \u001b[39mimport\u001b[39;00m \u001b[39mcv2\u001b[39;00m\n\u001b[1;32m----> <a href='file:///c%3A/Users/FACT-PC/Desktop/git_workspace/Data-Science-Project-2-2021-2-Nowcasting/python-notebooks/../utils/tools/visualization.py?line=4'>5</a>\u001b[0m \u001b[39mimport\u001b[39;00m \u001b[39mmoviepy\u001b[39;00m\u001b[39m.\u001b[39;00m\u001b[39meditor\u001b[39;00m \u001b[39mas\u001b[39;00m \u001b[39mmpy\u001b[39;00m\n\u001b[0;32m      <a href='file:///c%3A/Users/FACT-PC/Desktop/git_workspace/Data-Science-Project-2-2021-2-Nowcasting/python-notebooks/../utils/tools/visualization.py?line=5'>6</a>\u001b[0m \u001b[39mimport\u001b[39;00m \u001b[39mnumpy\u001b[39;00m \u001b[39mas\u001b[39;00m \u001b[39mnp\u001b[39;00m\n\u001b[0;32m      <a href='file:///c%3A/Users/FACT-PC/Desktop/git_workspace/Data-Science-Project-2-2021-2-Nowcasting/python-notebooks/../utils/tools/visualization.py?line=6'>7</a>\u001b[0m \u001b[39mfrom\u001b[39;00m \u001b[39mutils\u001b[39;00m\u001b[39m.\u001b[39;00m\u001b[39mtools\u001b[39;00m\u001b[39m.\u001b[39;00m\u001b[39mgifmaker\u001b[39;00m \u001b[39mimport\u001b[39;00m save_gif\n",
      "\u001b[1;31mModuleNotFoundError\u001b[0m: No module named 'moviepy'"
     ]
    }
   ],
   "source": [
    "import sys\n",
    "import cv2\n",
    "import shutil\n",
    "sys.path.insert(0, '..')\n",
    "from utils.tools.dataloader import BKKIterator\n",
    "from utils.config import cfg\n",
    "import torch\n",
    "from utils.config import cfg\n",
    "from utils.blocks.forecaster import Forecaster\n",
    "from utils.blocks.encoder import Encoder\n",
    "from collections import OrderedDict\n",
    "from utils.blocks.module import EF, Predictor\n",
    "from torch.optim import lr_scheduler\n",
    "from utils.loss import Weighted_mse_mae\n",
    "from utils.blocks.trajGRU import TrajGRU\n",
    "from utils.train_and_test import train_and_test\n",
    "import numpy as np\n",
    "from utils.tools.evaluation import *\n",
    "from experiment.net_params import *\n",
    "from utils.tools.visualization import save_hko_movie"
   ]
  },
  {
   "cell_type": "code",
   "execution_count": 4,
   "metadata": {},
   "outputs": [
    {
     "name": "stdout",
     "output_type": "stream",
     "text": [
      "Collecting moviepy\n",
      "  Using cached moviepy-1.0.3.tar.gz (388 kB)\n",
      "  Preparing metadata (setup.py): started\n",
      "  Preparing metadata (setup.py): finished with status 'done'\n",
      "Collecting decorator<5.0,>=4.0.2\n",
      "  Using cached decorator-4.4.2-py2.py3-none-any.whl (9.2 kB)\n",
      "Requirement already satisfied: tqdm<5.0,>=4.11.2 in c:\\users\\fact-pc\\anaconda3\\envs\\torch\\lib\\site-packages (from moviepy) (4.64.0)\n",
      "Collecting requests<3.0,>=2.8.1\n",
      "  Using cached requests-2.27.1-py2.py3-none-any.whl (63 kB)\n",
      "Collecting proglog<=1.0.0\n",
      "  Using cached proglog-0.1.10-py3-none-any.whl (6.1 kB)\n",
      "Requirement already satisfied: numpy>=1.17.3 in c:\\users\\fact-pc\\anaconda3\\envs\\torch\\lib\\site-packages (from moviepy) (1.22.3)\n",
      "Collecting imageio<3.0,>=2.5\n",
      "  Using cached imageio-2.19.2-py3-none-any.whl (3.4 MB)\n",
      "Collecting imageio_ffmpeg>=0.2.0\n",
      "  Using cached imageio_ffmpeg-0.4.7-py3-none-win_amd64.whl (22.6 MB)\n",
      "Requirement already satisfied: pillow>=8.3.2 in c:\\users\\fact-pc\\anaconda3\\envs\\torch\\lib\\site-packages (from imageio<3.0,>=2.5->moviepy) (9.1.0)\n"
     ]
    },
    {
     "name": "stderr",
     "output_type": "stream",
     "text": [
      "ERROR: Could not install packages due to an OSError: [Errno 2] No such file or directory: 'c:\\\\users\\\\fact-pc\\\\anaconda3\\\\envs\\\\torch\\\\lib\\\\site-packages\\\\numpy-1.22.3.dist-info\\\\METADATA'\n",
      "\n"
     ]
    }
   ],
   "source": [
    "!pip install moviepy"
   ]
  },
  {
   "cell_type": "code",
   "execution_count": null,
   "metadata": {},
   "outputs": [],
   "source": [
    "!pip uninstall torch"
   ]
  },
  {
   "cell_type": "code",
   "execution_count": null,
   "metadata": {},
   "outputs": [],
   "source": [
    "# encoder = Encoder(encoder_params[0], encoder_params[1]).to(cfg.GLOBAL.DEVICE)\n",
    "# forecaster = Forecaster(forecaster_params[0], forecaster_params[1])\n",
    "# encoder_forecaster = EF(encoder, forecaster).to(cfg.GLOBAL.DEVICE)\n",
    "\n",
    "model = Predictor(conv2d_params).to(cfg.GLOBAL.DEVICE)\n",
    "\n",
    "model.load_state_dict(torch.load(os.path.join(cfg.GLOBAL.MODEL_SAVE_DIR,'conv2d', 'models', 'encoder_forecaster_20000.pth')))\n",
    "\n",
    "\n",
    "bkk_iter = BKKIterator(pd_path=cfg.ONM_PD.RAINY_TEST,\n",
    "                       sample_mode=\"random\",\n",
    "                       seq_len=IN_LEN + OUT_LEN)\n",
    "\n",
    "valid_batch, valid_mask, sample_datetimes, _ = bkk_iter.sample(batch_size=1)\n",
    "\n",
    "valid_batch = valid_batch.astype(np.float32) / 255.0\n",
    "valid_data = valid_batch[:IN_LEN, ...]\n",
    "valid_label = valid_batch[IN_LEN:IN_LEN + OUT_LEN, ...]\n",
    "mask = valid_mask[IN_LEN:IN_LEN + OUT_LEN, ...].astype(int)\n",
    "torch_valid_data = torch.from_numpy(valid_data).to(cfg.GLOBAL.DEVICE)\n",
    "\n",
    "with torch.no_grad():\n",
    "    output = model(torch_valid_data)\n",
    "\n",
    "output = np.clip(output.cpu().numpy(), 0.0, 1.0)\n",
    "\n",
    "base_dir = '.'\n",
    "# S*B*1*H*W\n",
    "label = valid_label[:, 0, 0, :, :]\n",
    "output = output[:, 0, 0, :, :]\n",
    "mask = mask[:, 0, 0, :, :].astype(np.uint8)\n",
    "save_hko_movie(label, sample_datetimes[0], mask, masked=True,\n",
    "                       save_path=os.path.join(base_dir, 'ground_truth.mp4'))\n",
    "save_hko_movie(output, sample_datetimes[0], mask, masked=True,\n",
    "               save_path=os.path.join(base_dir, 'pred.mp4'))\n"
   ]
  }
 ],
 "metadata": {
  "interpreter": {
   "hash": "eb1796cbf25d2108f32d5db083036b25e583e4721264bccb55031d3096240637"
  },
  "kernelspec": {
   "display_name": "Python 3.8.13 ('torch')",
   "language": "python",
   "name": "python3"
  },
  "language_info": {
   "codemirror_mode": {
    "name": "ipython",
    "version": 3
   },
   "file_extension": ".py",
   "mimetype": "text/x-python",
   "name": "python",
   "nbconvert_exporter": "python",
   "pygments_lexer": "ipython3",
   "version": "3.8.13"
  },
  "orig_nbformat": 4
 },
 "nbformat": 4,
 "nbformat_minor": 2
}

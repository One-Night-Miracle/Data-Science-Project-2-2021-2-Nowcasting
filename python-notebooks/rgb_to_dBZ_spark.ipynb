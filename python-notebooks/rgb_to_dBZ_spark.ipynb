{
 "cells": [
  {
   "cell_type": "code",
   "execution_count": 4,
   "metadata": {},
   "outputs": [],
   "source": [
    "import numpy as np\n",
    "\n",
    "import numpy as np\n",
    "import pandas as pd\n",
    "import matplotlib as mpl\n",
    "import matplotlib.pyplot as plt\n",
    "import cv2\n",
    "import torch\n",
    "from tqdm import tqdm\n",
    " \n",
    "from pyspark import SparkContext\n",
    "from pyspark import SparkConf\n",
    "\n",
    "from pyspark.sql.functions import udf\n",
    "from pyspark.sql.types import StringType, FloatType\n",
    "from sparktorch import serialize_torch_obj, SparkTorch, torch_distributed"
   ]
  },
  {
   "cell_type": "code",
   "execution_count": 5,
   "metadata": {},
   "outputs": [],
   "source": [
    "import findspark\n",
    "findspark.init()"
   ]
  },
  {
   "cell_type": "code",
   "execution_count": 3,
   "metadata": {},
   "outputs": [],
   "source": [
    "cluster_url = 'local'"
   ]
  },
  {
   "cell_type": "code",
   "execution_count": 4,
   "metadata": {},
   "outputs": [],
   "source": [
    "from pyspark.sql import SparkSession"
   ]
  },
  {
   "cell_type": "code",
   "execution_count": 5,
   "metadata": {},
   "outputs": [],
   "source": [
    "spark = SparkSession.builder\\\n",
    "        .master(cluster_url)\\\n",
    "        .appName('SparkSQL')\\\n",
    "        .getOrCreate()"
   ]
  },
  {
   "cell_type": "code",
   "execution_count": null,
   "metadata": {},
   "outputs": [],
   "source": [
    "def radar_colormap():\n",
    "    nws_reflectivity_colors = np.array([\n",
    "    (165, 151, 95), # ND\n",
    "    (0, 255, 128), # 5.5\n",
    "    (0, 255, 0), # 10\n",
    "    (0, 175, 0), # 15\n",
    "    (0, 150, 50), # 20\n",
    "    (255, 255, 0), # 25\n",
    "    (255, 200, 0), # 30\n",
    "    (255, 170, 0), # 35\n",
    "    (255, 85, 0), # 40\n",
    "    (255, 0, 0), # 45\n",
    "    (255, 0, 100), # 50\n",
    "    (255, 0, 255), # 55\n",
    "    (255, 128, 255), # 60\n",
    "    (255, 200, 255), # 65\n",
    "    (255, 225, 255), # 70\n",
    "    (255, 255, 255) # 75\n",
    "    ])\n",
    "    return torch.tensor(nws_reflectivity_colors).to(device)\n",
    "\n",
    "dBZmap = torch.tensor([0,5.5,10,15,20,25,30,35,40,45,50,55,60,65,70,75]).to(device)\n",
    "dBZmap = dBZmap / 75."
   ]
  },
  {
   "cell_type": "code",
   "execution_count": null,
   "metadata": {},
   "outputs": [],
   "source": [
    "def color2dBZ(rgb, dBZmap):\n",
    "    w, h, c = rgb.shape\n",
    "    rgb = rgb.reshape(-1, c)\n",
    "    rgb = torch.Tensor(rgb).to(device)\n",
    "    cmap = radar_colormap().unsqueeze(0).to(device)\n",
    "    repeated_rgb = rgb.unsqueeze(1).repeat(1,16,1).to(device)\n",
    "    rgb_diff2 = ((repeated_rgb - cmap)**2).mean(axis=2)\n",
    "    return dBZmap[torch.argmin(rgb_diff2,axis=1).to(device)].reshape(w, h, 1).cpu()"
   ]
  },
  {
   "cell_type": "code",
   "execution_count": null,
   "metadata": {},
   "outputs": [],
   "source": [
    "device = 'cuda'\n",
    "\n",
    "def color2dBZ(rgb, dBZmap):\n",
    "    w, h, c = rgb.shape\n",
    "    rgb = rgb.reshape(-1, c)\n",
    "    rgb = torch.Tensor(rgb).to(device)\n",
    "    cmap = radar_colormap().unsqueeze(0).to(device)\n",
    "    repeated_rgb = rgb.unsqueeze(1).repeat(1,16,1).to(device)\n",
    "    rgb_diff2 = ((repeated_rgb - cmap)**2).mean(axis=2)\n",
    "    return dBZmap[torch.argmin(rgb_diff2,axis=1).to(device)].reshape(w, h, 1)\n",
    "\n",
    "to_agegroup = udf(color2dBZ, FloatType())"
   ]
  },
  {
   "cell_type": "markdown",
   "metadata": {},
   "source": [
    "## Maybe Later..."
   ]
  },
  {
   "cell_type": "markdown",
   "metadata": {},
   "source": []
  }
 ],
 "metadata": {
  "interpreter": {
   "hash": "27c854e86747fc6ab049c5ee8b4a3668d55fbeb90dba6fe5839ca0b5ee911c7b"
  },
  "kernelspec": {
   "display_name": "Python 3.7.13 ('torch')",
   "language": "python",
   "name": "python3"
  },
  "language_info": {
   "codemirror_mode": {
    "name": "ipython",
    "version": 3
   },
   "file_extension": ".py",
   "mimetype": "text/x-python",
   "name": "python",
   "nbconvert_exporter": "python",
   "pygments_lexer": "ipython3",
   "version": "3.9.7"
  },
  "orig_nbformat": 4
 },
 "nbformat": 4,
 "nbformat_minor": 2
}

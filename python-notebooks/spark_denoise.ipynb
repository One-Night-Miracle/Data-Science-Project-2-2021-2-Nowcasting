{
  "cells": [
    {
      "cell_type": "markdown",
      "metadata": {
        "id": "HKbyIpiDoJhy"
      },
      "source": [
        "# Clone git"
      ]
    },
    {
      "cell_type": "code",
      "execution_count": null,
      "metadata": {
        "id": "I181WET91DMZ"
      },
      "outputs": [],
      "source": [
        "!git clone https://github.com/One-Night-Miracle/Data-Science-Project-2-2021-2-Nowcasting.git"
      ]
    },
    {
      "cell_type": "markdown",
      "metadata": {
        "id": "dZiBTbpe4oY9"
      },
      "source": [
        "# Download Images"
      ]
    },
    {
      "cell_type": "code",
      "execution_count": null,
      "metadata": {
        "id": "ORQKM5np4sCV"
      },
      "outputs": [],
      "source": [
        "!gdown --id 1g9EgBESpAHITN6USegHQI5pV6elEb_u2\n",
        "!unzip bkk_radar_images_dBZ_1.zip\n",
        "!rm bkk_radar_images_dBZ_1.zip"
      ]
    },
    {
      "cell_type": "code",
      "execution_count": null,
      "metadata": {
        "id": "rY4GtjWY4t43"
      },
      "outputs": [],
      "source": [
        "!mkdir /content/Data-Science-Project-2-2021-2-Nowcasting/data/bkk_radar_images_dBZ\n",
        "!mv /content/bkk_radar_images_dBZ_1 /content/Data-Science-Project-2-2021-2-Nowcasting/data/bkk_radar_images_dBZ"
      ]
    },
    {
      "cell_type": "markdown",
      "metadata": {
        "id": "Jz8YNc3012Qt"
      },
      "source": [
        "# Spark Preparation"
      ]
    },
    {
      "cell_type": "code",
      "execution_count": null,
      "metadata": {
        "id": "u8UQ5p4g1RsX"
      },
      "outputs": [],
      "source": [
        "try:\n",
        "  import google.colab\n",
        "  IN_COLAB = True\n",
        "except:\n",
        "  IN_COLAB = False"
      ]
    },
    {
      "cell_type": "code",
      "execution_count": null,
      "metadata": {
        "id": "14RnQhQY13bP"
      },
      "outputs": [],
      "source": [
        "if IN_COLAB:\n",
        "  !apt-get install openjdk-8-jdk-headless -qq > /dev/null\n",
        "  !wget -q https://dlcdn.apache.org/spark/spark-3.2.1/spark-3.2.1-bin-hadoop3.2.tgz\n",
        "  !tar xf spark-3.2.1-bin-hadoop3.2.tgz\n",
        "  !mv spark-3.2.1-bin-hadoop3.2 spark\n",
        "  !pip install -q findspark"
      ]
    },
    {
      "cell_type": "code",
      "execution_count": null,
      "metadata": {
        "id": "PtuM-k1ooA85"
      },
      "outputs": [],
      "source": [
        "if IN_COLAB:\n",
        "  import os\n",
        "  os.environ[\"JAVA_HOME\"] = \"/usr/lib/jvm/java-8-openjdk-amd64\"\n",
        "  os.environ[\"SPARK_HOME\"] = \"/content/spark\""
      ]
    },
    {
      "cell_type": "markdown",
      "metadata": {
        "id": "wv2A6TVJ1-1Y"
      },
      "source": [
        "## Start a Local Cluster"
      ]
    },
    {
      "cell_type": "code",
      "execution_count": null,
      "metadata": {
        "id": "5yxSEXMW187R"
      },
      "outputs": [],
      "source": [
        "import findspark\n",
        "findspark.init()"
      ]
    },
    {
      "cell_type": "code",
      "execution_count": null,
      "metadata": {
        "id": "7nCCNZlo1_Vi"
      },
      "outputs": [],
      "source": [
        "cluster_url = 'local'"
      ]
    },
    {
      "cell_type": "code",
      "execution_count": null,
      "metadata": {
        "id": "6MMYjDBA2BXD"
      },
      "outputs": [],
      "source": [
        "from pyspark.sql import SparkSession\n",
        "\n",
        "spark = SparkSession.builder\\\n",
        "        .master(cluster_url)\\\n",
        "        .appName(\"Colab\")\\\n",
        "        .config('spark.ui.port', '4040')\\\n",
        "        .getOrCreate()\n",
        "        \n",
        "sc = spark.sparkContext"
      ]
    },
    {
      "cell_type": "markdown",
      "metadata": {
        "id": "2n1edJxp2ZDV"
      },
      "source": [
        "# Import library and Dataloader"
      ]
    },
    {
      "cell_type": "code",
      "execution_count": null,
      "metadata": {
        "id": "TRxA1Xk42W8e"
      },
      "outputs": [],
      "source": [
        "import cv2\n",
        "import numpy as np\n",
        "import pandas as pd\n",
        "from tqdm import tqdm\n",
        "import matplotlib as mpl\n",
        "import matplotlib.pyplot as plt\n",
        "# from scipy.spatial.distance import mahalanobis"
      ]
    },
    {
      "cell_type": "code",
      "execution_count": null,
      "metadata": {
        "id": "eliDlIrT6n-m"
      },
      "outputs": [],
      "source": [
        "import sys, os\n",
        "sys.path.insert(0, '/content/Data-Science-Project-2-2021-2-Nowcasting')"
      ]
    },
    {
      "cell_type": "code",
      "execution_count": null,
      "metadata": {
        "id": "LjhpzfjX6vVZ"
      },
      "outputs": [],
      "source": [
        "from utils.config import cfg\n",
        "from utils.tools import image"
      ]
    },
    {
      "cell_type": "code",
      "execution_count": null,
      "metadata": {
        "id": "VXOOu0L52G4S"
      },
      "outputs": [],
      "source": [
        "class Dataloader():\n",
        "    def __init__(self, pd_path):\n",
        "        self.data = None\n",
        "        self.df = pd.read_pickle(pd_path)\n",
        "        self.df['FolderPath'] = '/content/Data-Science-Project-2-2021-2-Nowcasting/data/bkk_radar_images_dBZ/bkk_radar_images_dBZ_1/'\n",
        "    \n",
        "    def _load(self):\n",
        "        self.df['img_path'] = self.df['FolderPath'] + self.df['FileName']\n",
        "        self.data = image.quick_read_frames(path_list=self.df['img_path'].tolist()[:100], grayscale=True)\n",
        "        self.data = self.data.reshape(self.data.shape[0],-1)"
      ]
    },
    {
      "cell_type": "code",
      "execution_count": null,
      "metadata": {
        "id": "R4G_TJAJ60EE"
      },
      "outputs": [],
      "source": [
        "pd_path = cfg.ONM_PD.FOLDER_1\n",
        "dl = Dataloader(pd_path)\n",
        "dl._load()"
      ]
    },
    {
      "cell_type": "code",
      "execution_count": null,
      "metadata": {
        "id": "eCvazGkM65ls"
      },
      "outputs": [],
      "source": [
        "# dl.data = dl.data.swapaxes(0,1)\n",
        "dl.data.shape"
      ]
    },
    {
      "cell_type": "markdown",
      "metadata": {
        "id": "h-54BZ-E8cw_"
      },
      "source": [
        "# RDD Operations"
      ]
    },
    {
      "cell_type": "code",
      "execution_count": null,
      "metadata": {
        "id": "A2dBdyVyFsc0"
      },
      "outputs": [],
      "source": [
        "data = [list(e) for e in dl.data.tolist()]"
      ]
    },
    {
      "cell_type": "code",
      "execution_count": null,
      "metadata": {
        "id": "4ebHKJ921XhG"
      },
      "outputs": [],
      "source": [
        "del dl"
      ]
    },
    {
      "cell_type": "code",
      "execution_count": null,
      "metadata": {
        "id": "UUo6GaYZ72YL"
      },
      "outputs": [],
      "source": [
        "rdd = sc.parallelize(data)"
      ]
    },
    {
      "cell_type": "code",
      "execution_count": null,
      "metadata": {
        "id": "xx7SQXyk19ti"
      },
      "outputs": [],
      "source": [
        "del data"
      ]
    },
    {
      "cell_type": "markdown",
      "metadata": {
        "id": "qcCFX6HegBDG"
      },
      "source": [
        "### flatMap: (location, pixel_value, count)"
      ]
    },
    {
      "cell_type": "code",
      "execution_count": null,
      "metadata": {
        "id": "UogFsKEegEFA"
      },
      "outputs": [],
      "source": [
        "rdd2 = rdd.flatMap(lambda x: list(zip(range(len(x)), x, [1]*len(x))))"
      ]
    },
    {
      "cell_type": "code",
      "execution_count": null,
      "metadata": {
        "id": "UWIQ61HHNB8x"
      },
      "outputs": [],
      "source": [
        "# rdd2.take(5)"
      ]
    },
    {
      "cell_type": "markdown",
      "metadata": {
        "id": "5bYFJZCngGmd"
      },
      "source": [
        "### filter: keep pixel_value > 0"
      ]
    },
    {
      "cell_type": "code",
      "execution_count": null,
      "metadata": {
        "id": "Ls9CZ624fZfm"
      },
      "outputs": [],
      "source": [
        "rdd3 = rdd2.filter(lambda x: x[1] > 0)"
      ]
    },
    {
      "cell_type": "code",
      "execution_count": null,
      "metadata": {
        "id": "95vs8tvFgY8D"
      },
      "outputs": [],
      "source": [
        "# rdd3.take(5)"
      ]
    },
    {
      "cell_type": "markdown",
      "metadata": {
        "id": "e9vdqr7Bgdb2"
      },
      "source": [
        "### map: create key {location + \"_\" + pixel_value}"
      ]
    },
    {
      "cell_type": "code",
      "execution_count": null,
      "metadata": {
        "id": "MKBK6EAbmh9Q"
      },
      "outputs": [],
      "source": [
        "def createKey(x):\n",
        "  key = str(x[0]) + \"_\" + str(x[1])\n",
        "  return (key, x[2])"
      ]
    },
    {
      "cell_type": "code",
      "execution_count": null,
      "metadata": {
        "id": "3CQFTsVMiMmU"
      },
      "outputs": [],
      "source": [
        "rdd4 = rdd3.map(lambda x: createKey(x))"
      ]
    },
    {
      "cell_type": "code",
      "execution_count": null,
      "metadata": {
        "id": "gOyBYNo6iW6Y"
      },
      "outputs": [],
      "source": [
        "# rdd4.take(5)"
      ]
    },
    {
      "cell_type": "markdown",
      "metadata": {
        "id": "qai3WyxbipGc"
      },
      "source": [
        "### reduceByKey: "
      ]
    },
    {
      "cell_type": "code",
      "execution_count": null,
      "metadata": {
        "id": "lPPvH4gTahUy"
      },
      "outputs": [],
      "source": [
        "rdd5 = rdd4.reduceByKey(lambda x, y: x+y)"
      ]
    },
    {
      "cell_type": "code",
      "execution_count": null,
      "metadata": {
        "id": "AW8byIIUiyRd"
      },
      "outputs": [],
      "source": [
        "# rdd5.take(5)"
      ]
    },
    {
      "cell_type": "markdown",
      "metadata": {
        "id": "oOt-xCpcjlLz"
      },
      "source": [
        "### map: deMergeKey {pixel_value}"
      ]
    },
    {
      "cell_type": "code",
      "execution_count": null,
      "metadata": {
        "id": "Qu9D0lD1llz7"
      },
      "outputs": [],
      "source": [
        "def deMergeKey(x, keep_loc=False):\n",
        "  loc, px = x[0].split('_')\n",
        "  if keep_loc:\n",
        "    return (loc, px, x[1])\n",
        "  return (px, x[1])"
      ]
    },
    {
      "cell_type": "code",
      "execution_count": null,
      "metadata": {
        "id": "2-qO7BIArVwm"
      },
      "outputs": [],
      "source": [
        "rdd6_loc = rdd5.map(lambda x: deMergeKey(x, keep_loc=True))"
      ]
    },
    {
      "cell_type": "code",
      "execution_count": null,
      "metadata": {
        "id": "Hp6DCUjsi0pQ"
      },
      "outputs": [],
      "source": [
        "rdd6 = rdd5.map(lambda x: deMergeKey(x))"
      ]
    },
    {
      "cell_type": "code",
      "execution_count": null,
      "metadata": {
        "id": "3j8SosVJk8dr"
      },
      "outputs": [],
      "source": [
        "# rdd6.take(3)"
      ]
    },
    {
      "cell_type": "markdown",
      "metadata": {
        "id": "p4fguhRinE8X"
      },
      "source": [
        "### reduceByKey:"
      ]
    },
    {
      "cell_type": "code",
      "execution_count": null,
      "metadata": {
        "id": "Ji_JtEp8nEPs"
      },
      "outputs": [],
      "source": [
        "rdd7 = rdd6.reduceByKey(lambda x, y: x+y)"
      ]
    },
    {
      "cell_type": "code",
      "execution_count": null,
      "metadata": {
        "id": "xUItlm-VmPf8"
      },
      "outputs": [],
      "source": [
        "# rdd7.take(5)"
      ]
    },
    {
      "cell_type": "markdown",
      "metadata": {
        "id": "ALMsNP4mopyP"
      },
      "source": [
        "### Create Features"
      ]
    },
    {
      "cell_type": "code",
      "execution_count": null,
      "metadata": {
        "id": "E6uQ9uJqnbPP"
      },
      "outputs": [],
      "source": [
        "raw_tuple = [int(e[0]), e[1]) for e in rdd7.collect()]\n",
        "raw_tuple"
      ]
    },
    {
      "cell_type": "code",
      "execution_count": null,
      "metadata": {
        "id": "Do_A9vF20UeZ"
      },
      "outputs": [],
      "source": [
        "raw_tuple = np.array(list(raw_tuple))"
      ]
    },
    {
      "cell_type": "code",
      "execution_count": null,
      "metadata": {
        "id": "e1LIm7Ni0cUg"
      },
      "outputs": [],
      "source": [
        "raw_tuple"
      ]
    },
    {
      "cell_type": "code",
      "execution_count": null,
      "metadata": {
        "id": "k7wS6zBu0Iu6"
      },
      "outputs": [],
      "source": [
        "raw_tuple = np.save(\"raw_tuple.npy\", raw_tuple)"
      ]
    },
    {
      "cell_type": "code",
      "execution_count": null,
      "metadata": {
        "id": "BMSrI8s1sPni"
      },
      "outputs": [],
      "source": [
        "# features = np.zeros((255,))\n",
        "# for key, val in raw_tuple:\n",
        "#   features[key] = key*val"
      ]
    },
    {
      "cell_type": "code",
      "execution_count": null,
      "metadata": {
        "id": "G7KR8pmpyBJm"
      },
      "outputs": [],
      "source": [
        "raw_tuple_loc = [(int(e[0])%2034, int(e[0])//2034, int(e[1]), e[2]) for e in rdd6_loc.collect()]"
      ]
    },
    {
      "cell_type": "code",
      "execution_count": null,
      "metadata": {
        "id": "-8GIFTXi0gY1"
      },
      "outputs": [],
      "source": [
        "raw_tuple_loc = np.array(list(raw_tuple_loc))"
      ]
    },
    {
      "cell_type": "code",
      "execution_count": null,
      "metadata": {
        "id": "CNfj5YJn0kds"
      },
      "outputs": [],
      "source": [
        "raw_tuple_loc = np.save(\"raw_tuple_loc.npy\", raw_tuple_loc)"
      ]
    },
    {
      "cell_type": "code",
      "execution_count": null,
      "metadata": {
        "id": "xv-FVCNnrusn"
      },
      "outputs": [],
      "source": [
        "# features_wloc = np.zeros((2034,2048,255))"
      ]
    },
    {
      "cell_type": "code",
      "execution_count": null,
      "metadata": {
        "id": "48qusHXwuVot"
      },
      "outputs": [],
      "source": [
        "# for loc_x, loc_y, key, val in raw_tuple_loc:\n",
        "#   features_wloc[loc_x][loc_y][key] = val"
      ]
    },
    {
      "cell_type": "code",
      "execution_count": null,
      "metadata": {
        "id": "ZidhmTG3wAW0"
      },
      "outputs": [],
      "source": [
        "# del raw_tuple_loc\n",
        "# del features_wloc"
      ]
    },
    {
      "cell_type": "code",
      "execution_count": null,
      "metadata": {
        "id": "O8PeAcdgvoTV"
      },
      "outputs": [],
      "source": [
        "# mu = np.sum(features)/(2034*2048)"
      ]
    },
    {
      "cell_type": "code",
      "execution_count": null,
      "metadata": {
        "id": "PHhl3S3awt4Q"
      },
      "outputs": [],
      "source": [
        "# S = (features_wloc - mu) @ (features_wloc - mu).T"
      ]
    }
  ],
  "metadata": {
    "colab": {
      "collapsed_sections": [],
      "name": "Spark_Denoise.ipynb",
      "provenance": []
    },
    "kernelspec": {
      "display_name": "Python 3",
      "name": "python3"
    },
    "language_info": {
      "name": "python"
    }
  },
  "nbformat": 4,
  "nbformat_minor": 0
}

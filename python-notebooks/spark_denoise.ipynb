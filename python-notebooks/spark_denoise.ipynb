{
  "nbformat": 4,
  "nbformat_minor": 0,
  "metadata": {
    "colab": {
      "name": "Spark_Denoise.ipynb",
      "provenance": [],
      "collapsed_sections": []
    },
    "kernelspec": {
      "name": "python3",
      "display_name": "Python 3"
    },
    "language_info": {
      "name": "python"
    }
  },
  "cells": [
    {
      "cell_type": "markdown",
      "source": [
        "# Clone git"
      ],
      "metadata": {
        "id": "HKbyIpiDoJhy"
      }
    },
    {
      "cell_type": "code",
      "execution_count": null,
      "metadata": {
        "id": "I181WET91DMZ"
      },
      "outputs": [],
      "source": [
        "!git clone https://github.com/One-Night-Miracle/Data-Science-Project-2-2021-2-Nowcasting.git"
      ]
    },
    {
      "cell_type": "markdown",
      "source": [
        "# Download Images"
      ],
      "metadata": {
        "id": "dZiBTbpe4oY9"
      }
    },
    {
      "cell_type": "code",
      "source": [
        "!gdown --id 1g9EgBESpAHITN6USegHQI5pV6elEb_u2\n",
        "!unzip bkk_radar_images_dBZ_1.zip\n",
        "!rm bkk_radar_images_dBZ_1.zip"
      ],
      "metadata": {
        "id": "ORQKM5np4sCV"
      },
      "execution_count": null,
      "outputs": []
    },
    {
      "cell_type": "code",
      "source": [
        "!mkdir /content/Data-Science-Project-2-2021-2-Nowcasting/data/bkk_radar_images_dBZ\n",
        "!mv /content/bkk_radar_images_dBZ_1 /content/Data-Science-Project-2-2021-2-Nowcasting/data/bkk_radar_images_dBZ"
      ],
      "metadata": {
        "id": "rY4GtjWY4t43"
      },
      "execution_count": null,
      "outputs": []
    },
    {
      "cell_type": "markdown",
      "source": [
        "# Spark Preparation"
      ],
      "metadata": {
        "id": "Jz8YNc3012Qt"
      }
    },
    {
      "cell_type": "code",
      "source": [
        "try:\n",
        "  import google.colab\n",
        "  IN_COLAB = True\n",
        "except:\n",
        "  IN_COLAB = False"
      ],
      "metadata": {
        "id": "u8UQ5p4g1RsX"
      },
      "execution_count": null,
      "outputs": []
    },
    {
      "cell_type": "code",
      "source": [
        "if IN_COLAB:\n",
        "  !apt-get install openjdk-8-jdk-headless -qq > /dev/null\n",
        "  !wget -q https://dlcdn.apache.org/spark/spark-3.2.1/spark-3.2.1-bin-hadoop3.2.tgz\n",
        "  !tar xf spark-3.2.1-bin-hadoop3.2.tgz\n",
        "  !mv spark-3.2.1-bin-hadoop3.2 spark\n",
        "  !pip install -q findspark"
      ],
      "metadata": {
        "id": "14RnQhQY13bP"
      },
      "execution_count": null,
      "outputs": []
    },
    {
      "cell_type": "code",
      "source": [
        "if IN_COLAB:\n",
        "  import os\n",
        "  os.environ[\"JAVA_HOME\"] = \"/usr/lib/jvm/java-8-openjdk-amd64\"\n",
        "  os.environ[\"SPARK_HOME\"] = \"/content/spark\""
      ],
      "metadata": {
        "id": "PtuM-k1ooA85"
      },
      "execution_count": null,
      "outputs": []
    },
    {
      "cell_type": "markdown",
      "source": [
        "## Start a Local Cluster"
      ],
      "metadata": {
        "id": "wv2A6TVJ1-1Y"
      }
    },
    {
      "cell_type": "code",
      "source": [
        "import findspark\n",
        "findspark.init()"
      ],
      "metadata": {
        "id": "5yxSEXMW187R"
      },
      "execution_count": null,
      "outputs": []
    },
    {
      "cell_type": "code",
      "source": [
        "cluster_url = 'local'"
      ],
      "metadata": {
        "id": "7nCCNZlo1_Vi"
      },
      "execution_count": null,
      "outputs": []
    },
    {
      "cell_type": "code",
      "source": [
        "from pyspark.sql import SparkSession\n",
        "\n",
        "spark = SparkSession.builder\\\n",
        "        .master(cluster_url)\\\n",
        "        .appName(\"Colab\")\\\n",
        "        .config('spark.ui.port', '4040')\\\n",
        "        .getOrCreate()\n",
        "        \n",
        "sc = spark.sparkContext"
      ],
      "metadata": {
        "id": "6MMYjDBA2BXD"
      },
      "execution_count": null,
      "outputs": []
    },
    {
      "cell_type": "markdown",
      "source": [
        "# Import library and Dataloader"
      ],
      "metadata": {
        "id": "2n1edJxp2ZDV"
      }
    },
    {
      "cell_type": "code",
      "source": [
        "import cv2\n",
        "import numpy as np\n",
        "import pandas as pd\n",
        "from tqdm import tqdm\n",
        "import matplotlib as mpl\n",
        "import matplotlib.pyplot as plt\n",
        "# from scipy.spatial.distance import mahalanobis"
      ],
      "metadata": {
        "id": "TRxA1Xk42W8e"
      },
      "execution_count": null,
      "outputs": []
    },
    {
      "cell_type": "code",
      "source": [
        "import sys, os\n",
        "sys.path.insert(0,'/content/Data-Science-Project-2-2021-2-Nowcasting')"
      ],
      "metadata": {
        "id": "eliDlIrT6n-m"
      },
      "execution_count": null,
      "outputs": []
    },
    {
      "cell_type": "code",
      "source": [
        "from utils.config import cfg\n",
        "from utils.tools import image"
      ],
      "metadata": {
        "id": "LjhpzfjX6vVZ"
      },
      "execution_count": null,
      "outputs": []
    },
    {
      "cell_type": "code",
      "source": [
        "class Dataloader():\n",
        "    def __init__(self, pd_path):\n",
        "        self.data = None\n",
        "        self.df = pd.read_pickle(pd_path)\n",
        "        self.df['FolderPath'] = '/content/Data-Science-Project-2-2021-2-Nowcasting/data/bkk_radar_images_dBZ/bkk_radar_images_dBZ_1/'\n",
        "    \n",
        "    def _load(self):\n",
        "        self.df['img_path'] = self.df['FolderPath'] + self.df['FileName']\n",
        "        self.data = image.quick_read_frames(path_list=self.df['img_path'].tolist()[:100], grayscale=True)\n",
        "        self.data = self.data.reshape(self.data.shape[0],-1)"
      ],
      "metadata": {
        "id": "VXOOu0L52G4S"
      },
      "execution_count": null,
      "outputs": []
    },
    {
      "cell_type": "code",
      "source": [
        "pd_path = cfg.ONM_PD.FOLDER_1\n",
        "dl = Dataloader(pd_path)\n",
        "dl._load()"
      ],
      "metadata": {
        "id": "R4G_TJAJ60EE"
      },
      "execution_count": null,
      "outputs": []
    },
    {
      "cell_type": "code",
      "source": [
        "# dl.data = dl.data.swapaxes(0,1)\n",
        "dl.data.shape"
      ],
      "metadata": {
        "id": "eCvazGkM65ls"
      },
      "execution_count": null,
      "outputs": []
    },
    {
      "cell_type": "markdown",
      "source": [
        "# RDD Operations"
      ],
      "metadata": {
        "id": "h-54BZ-E8cw_"
      }
    },
    {
      "cell_type": "code",
      "source": [
        "data = [list(e) for e in dl.data.tolist()]"
      ],
      "metadata": {
        "id": "A2dBdyVyFsc0"
      },
      "execution_count": null,
      "outputs": []
    },
    {
      "cell_type": "code",
      "source": [
        "del dl"
      ],
      "metadata": {
        "id": "4ebHKJ921XhG"
      },
      "execution_count": null,
      "outputs": []
    },
    {
      "cell_type": "code",
      "source": [
        "rdd = sc.parallelize(data)"
      ],
      "metadata": {
        "id": "UUo6GaYZ72YL"
      },
      "execution_count": null,
      "outputs": []
    },
    {
      "cell_type": "code",
      "source": [
        "del data"
      ],
      "metadata": {
        "id": "xx7SQXyk19ti"
      },
      "execution_count": null,
      "outputs": []
    },
    {
      "cell_type": "markdown",
      "source": [
        "### flatMap: (location, pixel_value, count)"
      ],
      "metadata": {
        "id": "qcCFX6HegBDG"
      }
    },
    {
      "cell_type": "code",
      "source": [
        "rdd2 = rdd.flatMap(lambda x: list(zip(range(len(x)), x, [1]*len(x))))"
      ],
      "metadata": {
        "id": "UogFsKEegEFA"
      },
      "execution_count": null,
      "outputs": []
    },
    {
      "cell_type": "code",
      "source": [
        "# rdd2.take(5)"
      ],
      "metadata": {
        "id": "UWIQ61HHNB8x"
      },
      "execution_count": null,
      "outputs": []
    },
    {
      "cell_type": "markdown",
      "source": [
        "### filter: keep pixel_value > 0"
      ],
      "metadata": {
        "id": "5bYFJZCngGmd"
      }
    },
    {
      "cell_type": "code",
      "source": [
        "rdd3 = rdd2.filter(lambda x: x[1] > 0)"
      ],
      "metadata": {
        "id": "Ls9CZ624fZfm"
      },
      "execution_count": null,
      "outputs": []
    },
    {
      "cell_type": "code",
      "source": [
        "# rdd3.take(5)"
      ],
      "metadata": {
        "id": "95vs8tvFgY8D"
      },
      "execution_count": null,
      "outputs": []
    },
    {
      "cell_type": "markdown",
      "source": [
        "### map: create key {location + \"_\" + pixel_value}"
      ],
      "metadata": {
        "id": "e9vdqr7Bgdb2"
      }
    },
    {
      "cell_type": "code",
      "source": [
        "def createKey(x):\n",
        "  key = str(x[0]) + \"_\" + str(x[1])\n",
        "  return (key, x[2])"
      ],
      "metadata": {
        "id": "MKBK6EAbmh9Q"
      },
      "execution_count": null,
      "outputs": []
    },
    {
      "cell_type": "code",
      "source": [
        "rdd4 = rdd3.map(lambda x: createKey(x))"
      ],
      "metadata": {
        "id": "3CQFTsVMiMmU"
      },
      "execution_count": null,
      "outputs": []
    },
    {
      "cell_type": "code",
      "source": [
        "# rdd4.take(5)"
      ],
      "metadata": {
        "id": "gOyBYNo6iW6Y"
      },
      "execution_count": null,
      "outputs": []
    },
    {
      "cell_type": "markdown",
      "source": [
        "### reduceByKey: "
      ],
      "metadata": {
        "id": "qai3WyxbipGc"
      }
    },
    {
      "cell_type": "code",
      "source": [
        "rdd5 = rdd4.reduceByKey(lambda x, y: x+y)"
      ],
      "metadata": {
        "id": "lPPvH4gTahUy"
      },
      "execution_count": null,
      "outputs": []
    },
    {
      "cell_type": "code",
      "source": [
        "# rdd5.take(5)"
      ],
      "metadata": {
        "id": "AW8byIIUiyRd"
      },
      "execution_count": null,
      "outputs": []
    },
    {
      "cell_type": "markdown",
      "source": [
        "### map: deMergeKey {pixel_value}"
      ],
      "metadata": {
        "id": "oOt-xCpcjlLz"
      }
    },
    {
      "cell_type": "code",
      "source": [
        "def deMergeKey(x, keep_loc=False):\n",
        "  loc, px = x[0].split('_')\n",
        "  if keep_loc:\n",
        "    return (loc, px, x[1])\n",
        "  return (px, x[1])"
      ],
      "metadata": {
        "id": "Qu9D0lD1llz7"
      },
      "execution_count": null,
      "outputs": []
    },
    {
      "cell_type": "code",
      "source": [
        "rdd6_loc = rdd5.map(lambda x: deMergeKey(x, keep_loc=True))"
      ],
      "metadata": {
        "id": "2-qO7BIArVwm"
      },
      "execution_count": null,
      "outputs": []
    },
    {
      "cell_type": "code",
      "source": [
        "rdd6 = rdd5.map(lambda x: deMergeKey(x))"
      ],
      "metadata": {
        "id": "Hp6DCUjsi0pQ"
      },
      "execution_count": null,
      "outputs": []
    },
    {
      "cell_type": "code",
      "source": [
        "# rdd6.take(3)"
      ],
      "metadata": {
        "id": "3j8SosVJk8dr"
      },
      "execution_count": null,
      "outputs": []
    },
    {
      "cell_type": "markdown",
      "source": [
        "### reduceByKey:"
      ],
      "metadata": {
        "id": "p4fguhRinE8X"
      }
    },
    {
      "cell_type": "code",
      "source": [
        "rdd7 = rdd6.reduceByKey(lambda x, y: x+y)"
      ],
      "metadata": {
        "id": "Ji_JtEp8nEPs"
      },
      "execution_count": null,
      "outputs": []
    },
    {
      "cell_type": "code",
      "source": [
        "# rdd7.take(5)"
      ],
      "metadata": {
        "id": "xUItlm-VmPf8"
      },
      "execution_count": null,
      "outputs": []
    },
    {
      "cell_type": "markdown",
      "source": [
        "### Create Features"
      ],
      "metadata": {
        "id": "ALMsNP4mopyP"
      }
    },
    {
      "cell_type": "code",
      "source": [
        "raw_tuple = [int(e[0]), e[1]) for e in rdd7.collect()]\n",
        "raw_tuple"
      ],
      "metadata": {
        "id": "E6uQ9uJqnbPP"
      },
      "execution_count": null,
      "outputs": []
    },
    {
      "cell_type": "code",
      "source": [
        "raw_tuple = np.array(list(raw_tuple))"
      ],
      "metadata": {
        "id": "Do_A9vF20UeZ"
      },
      "execution_count": null,
      "outputs": []
    },
    {
      "cell_type": "code",
      "source": [
        "raw_tuple"
      ],
      "metadata": {
        "id": "e1LIm7Ni0cUg"
      },
      "execution_count": null,
      "outputs": []
    },
    {
      "cell_type": "code",
      "source": [
        "raw_tuple = np.save(\"raw_tuple.npy\", raw_tuple)"
      ],
      "metadata": {
        "id": "k7wS6zBu0Iu6"
      },
      "execution_count": null,
      "outputs": []
    },
    {
      "cell_type": "code",
      "source": [
        "# features = np.zeros((255,))\n",
        "# for key, val in raw_tuple:\n",
        "#   features[key] = key*val"
      ],
      "metadata": {
        "id": "BMSrI8s1sPni"
      },
      "execution_count": null,
      "outputs": []
    },
    {
      "cell_type": "code",
      "source": [
        "raw_tuple_loc = [(int(e[0])%2034, int(e[0])//2034, int(e[1]), e[2]) for e in rdd6_loc.collect()]"
      ],
      "metadata": {
        "id": "G7KR8pmpyBJm"
      },
      "execution_count": null,
      "outputs": []
    },
    {
      "cell_type": "code",
      "source": [
        "raw_tuple_loc = np.array(list(raw_tuple_loc))"
      ],
      "metadata": {
        "id": "-8GIFTXi0gY1"
      },
      "execution_count": null,
      "outputs": []
    },
    {
      "cell_type": "code",
      "source": [
        "raw_tuple_loc = np.save(\"raw_tuple_loc.npy\", raw_tuple_loc)"
      ],
      "metadata": {
        "id": "CNfj5YJn0kds"
      },
      "execution_count": null,
      "outputs": []
    },
    {
      "cell_type": "code",
      "source": [
        "# features_wloc = np.zeros((2034,2048,255))"
      ],
      "metadata": {
        "id": "xv-FVCNnrusn"
      },
      "execution_count": null,
      "outputs": []
    },
    {
      "cell_type": "code",
      "source": [
        "# for loc_x, loc_y, key, val in raw_tuple_loc:\n",
        "#   features_wloc[loc_x][loc_y][key] = val"
      ],
      "metadata": {
        "id": "48qusHXwuVot"
      },
      "execution_count": null,
      "outputs": []
    },
    {
      "cell_type": "code",
      "source": [
        "# del raw_tuple_loc\n",
        "# del features_wloc"
      ],
      "metadata": {
        "id": "ZidhmTG3wAW0"
      },
      "execution_count": null,
      "outputs": []
    },
    {
      "cell_type": "code",
      "source": [
        "# mu = np.sum(features)/(2034*2048)"
      ],
      "metadata": {
        "id": "O8PeAcdgvoTV"
      },
      "execution_count": null,
      "outputs": []
    },
    {
      "cell_type": "code",
      "source": [
        "# S = (features_wloc - mu) @ (features_wloc - mu).T"
      ],
      "metadata": {
        "id": "PHhl3S3awt4Q"
      },
      "execution_count": null,
      "outputs": []
    }
  ]
}
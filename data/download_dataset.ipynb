{
  "cells": [
    {
      "cell_type": "markdown",
      "metadata": {
        "id": "-Gl3oy-tYZ0X"
      },
      "source": [
        "# Download dataset from Google Drive"
      ]
    },
    {
      "cell_type": "code",
      "execution_count": null,
      "metadata": {
        "colab": {
          "base_uri": "https://localhost:8080/"
        },
        "id": "4FOWc7UAstwf",
        "outputId": "faeee7eb-38d8-48bf-fae6-37d9c8ca40e7"
      },
      "outputs": [],
      "source": [
        "# !pip install gdown"
      ]
    },
    {
      "cell_type": "code",
      "execution_count": 3,
      "metadata": {
        "id": "NdBNxWU3vW5a"
      },
      "outputs": [],
      "source": [
        "import gdown"
      ]
    },
    {
      "cell_type": "code",
      "execution_count": null,
      "metadata": {
        "colab": {
          "base_uri": "https://localhost:8080/"
        },
        "id": "V07-T_TpwuAX",
        "outputId": "aff98853-fc23-4d96-867f-d027f95d2a4b"
      },
      "outputs": [],
      "source": [
        "id = \"11oD62_a1nX14uhvpmnlQPmTPQEssuZrc\"\n",
        "gdown.download_folder(id=id, quiet=True, use_cookies=False)"
      ]
    },
    {
      "cell_type": "code",
      "execution_count": 12,
      "metadata": {
        "colab": {
          "base_uri": "https://localhost:8080/"
        },
        "id": "JZqahAJzxbae",
        "outputId": "eebfa440-8387-44a5-84f3-8d24f6e4bb26"
      },
      "outputs": [
        {
          "name": "stderr",
          "output_type": "stream",
          "text": [
            "'gunzip' is not recognized as an internal or external command,\n",
            "operable program or batch file.\n"
          ]
        }
      ],
      "source": [
        "!unzip \"/content/bkk_radar_images/*.zip\""
      ]
    },
    {
      "cell_type": "markdown",
      "metadata": {
        "id": "MC5zBn7FYWIe"
      },
      "source": [
        "# Spark Preparation"
      ]
    },
    {
      "cell_type": "code",
      "execution_count": 1,
      "metadata": {
        "id": "YRsXkDFHWDzB"
      },
      "outputs": [
        {
          "name": "stderr",
          "output_type": "stream",
          "text": [
            "The system cannot find the path specified.\n"
          ]
        }
      ],
      "source": [
        "!apt-get install openjdk-8-jdk-headless -qq > /dev/null"
      ]
    },
    {
      "cell_type": "code",
      "execution_count": null,
      "metadata": {},
      "outputs": [],
      "source": [
        "!wget -q https://dlcdn.apache.org/spark/spark-3.2.1/spark-3.2.1-bin-hadoop3.2.tgz\n",
        "!tar xf spark-3.2.1-bin-hadoop3.2.tgz\n",
        "!mv spark-3.2.1-bin-hadoop3.2 spark\n",
        "!pip install -q findspark  "
      ]
    },
    {
      "cell_type": "code",
      "execution_count": null,
      "metadata": {
        "id": "s9pmQY3EYL9s"
      },
      "outputs": [],
      "source": [
        "import os\n",
        "os.environ[\"JAVA_HOME\"] = \"/usr/lib/jvm/java-8-openjdk-amd64\"\n",
        "os.environ[\"SPARK_HOME\"] = \"/content/spark\""
      ]
    },
    {
      "cell_type": "markdown",
      "metadata": {
        "id": "-WhN-u6CY9M6"
      },
      "source": [
        "# Start a Local Cluster"
      ]
    },
    {
      "cell_type": "code",
      "execution_count": 2,
      "metadata": {
        "id": "7l2TkyckYNpa"
      },
      "outputs": [],
      "source": [
        "import findspark\n",
        "findspark.init()"
      ]
    },
    {
      "cell_type": "code",
      "execution_count": 3,
      "metadata": {
        "id": "kuXvHJDuY_OI"
      },
      "outputs": [],
      "source": [
        "cluster_url = 'local'"
      ]
    },
    {
      "cell_type": "code",
      "execution_count": null,
      "metadata": {
        "id": "tryGPJbZZA0c"
      },
      "outputs": [],
      "source": [
        "from pyspark.sql import SparkSession\n",
        "\n",
        "spark = SparkSession.builder\\\n",
        "        .master(cluster_url)\\\n",
        "        .appName(\"App_name\")\\\n",
        "        .config('spark.ui.port', '4040')\\\n",
        "        .getOrCreate()\n",
        "sc = spark.sparkContext"
      ]
    },
    {
      "cell_type": "code",
      "execution_count": null,
      "metadata": {
        "id": "jztXScvFaXwV"
      },
      "outputs": [],
      "source": [
        "import glob\n",
        "from pyspark.sql.functions import from_unixtime, col\n",
        "\n",
        "data = []\n",
        "\n",
        "for i in range(1,14):\n",
        "  folder_path = f'/content/bkk_radar_images_{i}/'\n",
        "  \n",
        "  data += glob.glob(folder_path +'*')\n",
        "\n",
        "rdd = sc.parallelize(data)\n",
        "rdd2 = rdd.map(lambda x: (x[-14:-4],x[:-14],x[-14:]))\n",
        "\n",
        "columns = ['DateTime', 'FolderPath', 'FileName']\n",
        "\n",
        "time_df = spark.createDataFrame(rdd2, columns)\n",
        "time_df2 = time_df.select(from_unixtime(col('DateTime')), (col('FolderPath')), (col('FileName')))\n",
        "time_df2 = time_df2.withColumnRenamed('from_unixtime(DateTime, yyyy-MM-dd HH:mm:ss)', 'DateTime')\n",
        "time_df2 = time_df2.orderBy(\"DateTime\")"
      ]
    },
    {
      "cell_type": "code",
      "execution_count": null,
      "metadata": {
        "colab": {
          "base_uri": "https://localhost:8080/"
        },
        "id": "Etd1Ae59ehYi",
        "outputId": "b999dcfe-ebdb-4121-82a0-396dc304dd81"
      },
      "outputs": [
        {
          "name": "stdout",
          "output_type": "stream",
          "text": [
            "root\n",
            " |-- DateTime: string (nullable = true)\n",
            " |-- FolderPath: string (nullable = true)\n",
            " |-- FileName: string (nullable = true)\n",
            "\n"
          ]
        }
      ],
      "source": [
        "time_df2.printSchema()"
      ]
    },
    {
      "cell_type": "code",
      "execution_count": null,
      "metadata": {
        "colab": {
          "base_uri": "https://localhost:8080/"
        },
        "id": "7Haymvt8fn5w",
        "outputId": "a7e7770a-4887-40ce-9239-3c33457f8fec"
      },
      "outputs": [
        {
          "name": "stdout",
          "output_type": "stream",
          "text": [
            "+-------------------+----------------------------+--------------+\n",
            "|DateTime           |FolderPath                  |FileName      |\n",
            "+-------------------+----------------------------+--------------+\n",
            "|2020-06-18 06:32:34|/content/bkk_radar_images_1/|1592461954.png|\n",
            "|2020-06-18 06:35:36|/content/bkk_radar_images_1/|1592462136.png|\n",
            "|2020-06-18 06:46:08|/content/bkk_radar_images_1/|1592462768.png|\n",
            "|2020-06-18 06:51:08|/content/bkk_radar_images_1/|1592463068.png|\n",
            "|2020-06-18 06:54:37|/content/bkk_radar_images_1/|1592463277.png|\n",
            "|2020-06-18 07:01:04|/content/bkk_radar_images_1/|1592463664.png|\n",
            "|2020-06-18 07:05:02|/content/bkk_radar_images_1/|1592463902.png|\n",
            "|2020-06-18 07:10:05|/content/bkk_radar_images_1/|1592464205.png|\n",
            "|2020-06-18 07:18:18|/content/bkk_radar_images_1/|1592464698.png|\n",
            "|2020-06-18 07:25:53|/content/bkk_radar_images_1/|1592465153.png|\n",
            "|2020-06-18 07:30:54|/content/bkk_radar_images_1/|1592465454.png|\n",
            "|2020-06-18 07:40:58|/content/bkk_radar_images_1/|1592466058.png|\n",
            "|2020-06-18 07:45:59|/content/bkk_radar_images_1/|1592466359.png|\n",
            "|2020-06-18 07:56:03|/content/bkk_radar_images_1/|1592466963.png|\n",
            "|2020-06-18 08:01:05|/content/bkk_radar_images_1/|1592467265.png|\n",
            "|2020-06-18 08:06:06|/content/bkk_radar_images_1/|1592467566.png|\n",
            "|2020-06-18 08:11:08|/content/bkk_radar_images_1/|1592467868.png|\n",
            "|2020-06-18 08:16:10|/content/bkk_radar_images_1/|1592468170.png|\n",
            "|2020-06-18 08:21:12|/content/bkk_radar_images_1/|1592468472.png|\n",
            "|2020-06-18 08:26:14|/content/bkk_radar_images_1/|1592468774.png|\n",
            "+-------------------+----------------------------+--------------+\n",
            "only showing top 20 rows\n",
            "\n"
          ]
        }
      ],
      "source": [
        "time_df2.show(truncate=False)"
      ]
    },
    {
      "cell_type": "code",
      "execution_count": null,
      "metadata": {
        "colab": {
          "base_uri": "https://localhost:8080/"
        },
        "id": "gji0f3aigeI0",
        "outputId": "a805c5c5-b7df-4de0-943d-34ff66b0dccd"
      },
      "outputs": [
        {
          "data": {
            "text/plain": [
              "86083"
            ]
          },
          "execution_count": 139,
          "metadata": {},
          "output_type": "execute_result"
        }
      ],
      "source": [
        "time_df2.count()\n",
        "time_df2.toPandas().to_csv('bkk_all.csv')"
      ]
    }
  ],
  "metadata": {
    "colab": {
      "collapsed_sections": [],
      "name": "Project2 first-nb.ipynb",
      "provenance": []
    },
    "kernelspec": {
      "display_name": "Python 3.7 (torch)",
      "language": "python",
      "name": "torch"
    },
    "language_info": {
      "codemirror_mode": {
        "name": "ipython",
        "version": 3
      },
      "file_extension": ".py",
      "mimetype": "text/x-python",
      "name": "python",
      "nbconvert_exporter": "python",
      "pygments_lexer": "ipython3",
      "version": "3.7.13"
    }
  },
  "nbformat": 4,
  "nbformat_minor": 0
}

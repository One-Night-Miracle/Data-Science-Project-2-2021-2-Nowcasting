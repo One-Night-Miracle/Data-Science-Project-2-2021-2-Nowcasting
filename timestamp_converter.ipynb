{
 "cells": [
  {
   "cell_type": "markdown",
   "metadata": {},
   "source": [
    "## Timestamp converter"
   ]
  },
  {
   "cell_type": "code",
   "execution_count": 11,
   "metadata": {},
   "outputs": [],
   "source": [
    "import pandas as pd\n",
    "from datetime import datetime, timedelta"
   ]
  },
  {
   "cell_type": "markdown",
   "metadata": {},
   "source": [
    "file_name = 'mycsv2 (1)'\n",
    "file_path = './'\n",
    "time_df = pd.read_csv(f'{file_path}{file_name}.csv')\n",
    "\n",
    "time_df.drop('Unnamed: 0', axis=1, inplace=True)\n",
    "time_df.head()"
   ]
  },
  {
   "cell_type": "code",
   "execution_count": 12,
   "metadata": {},
   "outputs": [
    {
     "name": "stdout",
     "output_type": "stream",
     "text": [
      "<class 'pandas.core.frame.DataFrame'>\n",
      "RangeIndex: 86083 entries, 0 to 86082\n",
      "Data columns (total 3 columns):\n",
      " #   Column      Non-Null Count  Dtype \n",
      "---  ------      --------------  ----- \n",
      " 0   DateTime    86083 non-null  object\n",
      " 1   FolderPath  86083 non-null  object\n",
      " 2   FileName    86083 non-null  object\n",
      "dtypes: object(3)\n",
      "memory usage: 2.0+ MB\n"
     ]
    }
   ],
   "source": [
    "time_df.info()"
   ]
  },
  {
   "cell_type": "code",
   "execution_count": 13,
   "metadata": {},
   "outputs": [],
   "source": [
    "def dateTimeObj_converter(date): \n",
    "    # Converting string to datetime object\n",
    "    # Arguments: date (string)\n",
    "\n",
    "    date_obj = datetime.strptime(date, '%Y-%m-%d %H:%M:%S')\n",
    "    date_obj = date_obj.replace(second=0)\n",
    "    return date_obj"
   ]
  },
  {
   "cell_type": "code",
   "execution_count": 14,
   "metadata": {},
   "outputs": [],
   "source": [
    "time_df_tmp = time_df.copy()\n",
    "\n",
    "time_df_tmp['DateTime'] = time_df_tmp['DateTime'].apply(dateTimeObj_converter)\n",
    "\n",
    "# Round the time to the nearest 5 minutes\n",
    "time_df_tmp['DateTime'] = time_df_tmp['DateTime'].dt.round('5min')\n",
    "\n",
    "# Drop duplicates\n",
    "time_df_tmp.drop_duplicates(subset=['DateTime'], inplace=True)\n",
    "\n",
    "time_df_tmp.to_csv(f'{file_path}{file_name}_edited.csv', index=True)"
   ]
  },
  {
   "cell_type": "code",
   "execution_count": 15,
   "metadata": {},
   "outputs": [
    {
     "name": "stdout",
     "output_type": "stream",
     "text": [
      "<class 'pandas.core.frame.DataFrame'>\n",
      "Int64Index: 85389 entries, 0 to 86082\n",
      "Data columns (total 3 columns):\n",
      " #   Column      Non-Null Count  Dtype         \n",
      "---  ------      --------------  -----         \n",
      " 0   DateTime    85389 non-null  datetime64[ns]\n",
      " 1   FolderPath  85389 non-null  object        \n",
      " 2   FileName    85389 non-null  object        \n",
      "dtypes: datetime64[ns](1), object(2)\n",
      "memory usage: 2.6+ MB\n"
     ]
    }
   ],
   "source": [
    "time_df_tmp.info()"
   ]
  },
  {
   "cell_type": "markdown",
   "metadata": {},
   "source": [
    "## Missing date collector"
   ]
  },
  {
   "cell_type": "code",
   "execution_count": 26,
   "metadata": {},
   "outputs": [
    {
     "data": {
      "text/html": [
       "<div>\n",
       "<style scoped>\n",
       "    .dataframe tbody tr th:only-of-type {\n",
       "        vertical-align: middle;\n",
       "    }\n",
       "\n",
       "    .dataframe tbody tr th {\n",
       "        vertical-align: top;\n",
       "    }\n",
       "\n",
       "    .dataframe thead th {\n",
       "        text-align: right;\n",
       "    }\n",
       "</style>\n",
       "<table border=\"1\" class=\"dataframe\">\n",
       "  <thead>\n",
       "    <tr style=\"text-align: right;\">\n",
       "      <th></th>\n",
       "      <th>DateTime</th>\n",
       "      <th>FolderPath</th>\n",
       "      <th>FileName</th>\n",
       "    </tr>\n",
       "  </thead>\n",
       "  <tbody>\n",
       "    <tr>\n",
       "      <th>0</th>\n",
       "      <td>2020-06-18 06:30:00</td>\n",
       "      <td>/content/bkk_radar_images_1/</td>\n",
       "      <td>1592461954.png</td>\n",
       "    </tr>\n",
       "    <tr>\n",
       "      <th>1</th>\n",
       "      <td>2020-06-18 06:35:00</td>\n",
       "      <td>/content/bkk_radar_images_1/</td>\n",
       "      <td>1592462136.png</td>\n",
       "    </tr>\n",
       "    <tr>\n",
       "      <th>2</th>\n",
       "      <td>2020-06-18 06:45:00</td>\n",
       "      <td>/content/bkk_radar_images_1/</td>\n",
       "      <td>1592462768.png</td>\n",
       "    </tr>\n",
       "    <tr>\n",
       "      <th>3</th>\n",
       "      <td>2020-06-18 06:50:00</td>\n",
       "      <td>/content/bkk_radar_images_1/</td>\n",
       "      <td>1592463068.png</td>\n",
       "    </tr>\n",
       "    <tr>\n",
       "      <th>4</th>\n",
       "      <td>2020-06-18 06:55:00</td>\n",
       "      <td>/content/bkk_radar_images_1/</td>\n",
       "      <td>1592463277.png</td>\n",
       "    </tr>\n",
       "  </tbody>\n",
       "</table>\n",
       "</div>"
      ],
      "text/plain": [
       "              DateTime                    FolderPath        FileName\n",
       "0  2020-06-18 06:30:00  /content/bkk_radar_images_1/  1592461954.png\n",
       "1  2020-06-18 06:35:00  /content/bkk_radar_images_1/  1592462136.png\n",
       "2  2020-06-18 06:45:00  /content/bkk_radar_images_1/  1592462768.png\n",
       "3  2020-06-18 06:50:00  /content/bkk_radar_images_1/  1592463068.png\n",
       "4  2020-06-18 06:55:00  /content/bkk_radar_images_1/  1592463277.png"
      ]
     },
     "execution_count": 26,
     "metadata": {},
     "output_type": "execute_result"
    }
   ],
   "source": [
    "df = pd.read_csv('mycsv2 (1)_edited.csv').drop('Unnamed: 0', axis=1)\n",
    "df.head()"
   ]
  },
  {
   "cell_type": "code",
   "execution_count": 55,
   "metadata": {},
   "outputs": [
    {
     "data": {
      "text/plain": [
       "['2020-06-18 06:30:00',\n",
       " '2020-06-18 06:35:00',\n",
       " '2020-06-18 06:45:00',\n",
       " '2020-06-18 06:50:00',\n",
       " '2020-06-18 06:55:00']"
      ]
     },
     "execution_count": 55,
     "metadata": {},
     "output_type": "execute_result"
    }
   ],
   "source": [
    "lt_date = df['DateTime'].to_list()\n",
    "lt_date[:5]"
   ]
  },
  {
   "cell_type": "code",
   "execution_count": 56,
   "metadata": {},
   "outputs": [
    {
     "data": {
      "text/plain": [
       "datetime.datetime(2020, 6, 18, 6, 30)"
      ]
     },
     "metadata": {},
     "output_type": "display_data"
    },
    {
     "data": {
      "text/plain": [
       "datetime.datetime(2021, 6, 28, 21, 20)"
      ]
     },
     "metadata": {},
     "output_type": "display_data"
    }
   ],
   "source": [
    "start_date = datetime.strptime(lt_date[0], '%Y-%m-%d %H:%M:%S')\n",
    "time_df = timedelta(minutes=5)\n",
    "end_date = datetime.strptime(lt_date[-1], '%Y-%m-%d %H:%M:%S')\n",
    "\n",
    "display(start_date, end_date)"
   ]
  },
  {
   "cell_type": "code",
   "execution_count": 57,
   "metadata": {},
   "outputs": [
    {
     "data": {
      "text/plain": [
       "22790"
      ]
     },
     "execution_count": 57,
     "metadata": {},
     "output_type": "execute_result"
    }
   ],
   "source": [
    "missing_date = []\n",
    "\n",
    "while start_date != end_date:\n",
    "    date = start_date.strftime(\"%Y-%m-%d %H:%M:%S\")\n",
    "    if date not in lt_date:\n",
    "        missing_date.append(date)\n",
    "    start_date += time_df\n",
    "\n",
    "len(missing_date)"
   ]
  },
  {
   "cell_type": "code",
   "execution_count": 58,
   "metadata": {},
   "outputs": [
    {
     "data": {
      "text/plain": [
       "['2020-06-18 06:40:00',\n",
       " '2020-06-18 07:15:00',\n",
       " '2020-06-18 07:35:00',\n",
       " '2020-06-18 07:50:00',\n",
       " '2020-06-18 08:30:00']"
      ]
     },
     "execution_count": 58,
     "metadata": {},
     "output_type": "execute_result"
    }
   ],
   "source": [
    "missing_date[:5]"
   ]
  },
  {
   "cell_type": "code",
   "execution_count": 60,
   "metadata": {},
   "outputs": [
    {
     "data": {
      "text/html": [
       "<div>\n",
       "<style scoped>\n",
       "    .dataframe tbody tr th:only-of-type {\n",
       "        vertical-align: middle;\n",
       "    }\n",
       "\n",
       "    .dataframe tbody tr th {\n",
       "        vertical-align: top;\n",
       "    }\n",
       "\n",
       "    .dataframe thead th {\n",
       "        text-align: right;\n",
       "    }\n",
       "</style>\n",
       "<table border=\"1\" class=\"dataframe\">\n",
       "  <thead>\n",
       "    <tr style=\"text-align: right;\">\n",
       "      <th></th>\n",
       "      <th>DateTime</th>\n",
       "    </tr>\n",
       "  </thead>\n",
       "  <tbody>\n",
       "    <tr>\n",
       "      <th>0</th>\n",
       "      <td>2020-06-18 06:40:00</td>\n",
       "    </tr>\n",
       "    <tr>\n",
       "      <th>1</th>\n",
       "      <td>2020-06-18 07:15:00</td>\n",
       "    </tr>\n",
       "    <tr>\n",
       "      <th>2</th>\n",
       "      <td>2020-06-18 07:35:00</td>\n",
       "    </tr>\n",
       "    <tr>\n",
       "      <th>3</th>\n",
       "      <td>2020-06-18 07:50:00</td>\n",
       "    </tr>\n",
       "    <tr>\n",
       "      <th>4</th>\n",
       "      <td>2020-06-18 08:30:00</td>\n",
       "    </tr>\n",
       "  </tbody>\n",
       "</table>\n",
       "</div>"
      ],
      "text/plain": [
       "              DateTime\n",
       "0  2020-06-18 06:40:00\n",
       "1  2020-06-18 07:15:00\n",
       "2  2020-06-18 07:35:00\n",
       "3  2020-06-18 07:50:00\n",
       "4  2020-06-18 08:30:00"
      ]
     },
     "execution_count": 60,
     "metadata": {},
     "output_type": "execute_result"
    }
   ],
   "source": [
    "missing_df = pd.DataFrame(missing_date, columns=['DateTime'])\n",
    "missing_df.head()"
   ]
  },
  {
   "cell_type": "code",
   "execution_count": 68,
   "metadata": {},
   "outputs": [
    {
     "data": {
      "text/plain": [
       "0    22790\n",
       "Name: DateTime, dtype: int64"
      ]
     },
     "execution_count": 68,
     "metadata": {},
     "output_type": "execute_result"
    }
   ],
   "source": [
    "# compare the date between the original dataframe and the missing dataframe\n",
    "\n",
    "missing_df.DateTime.isin(df.DateTime).astype(int).value_counts()"
   ]
  },
  {
   "cell_type": "code",
   "execution_count": 61,
   "metadata": {},
   "outputs": [],
   "source": [
    "missing_df.to_csv('missing.csv', index=True)"
   ]
  }
 ],
 "metadata": {
  "interpreter": {
   "hash": "71e433656371535755cabbec00064b73a547bb67bc2e95cb896a20ca764ef73b"
  },
  "kernelspec": {
   "display_name": "Python 3.7 (torch)",
   "language": "python",
   "name": "python3"
  },
  "language_info": {
   "codemirror_mode": {
    "name": "ipython",
    "version": 3
   },
   "file_extension": ".py",
   "mimetype": "text/x-python",
   "name": "python",
   "nbconvert_exporter": "python",
   "pygments_lexer": "ipython3",
   "version": "3.9.7"
  },
  "orig_nbformat": 4
 },
 "nbformat": 4,
 "nbformat_minor": 2
}

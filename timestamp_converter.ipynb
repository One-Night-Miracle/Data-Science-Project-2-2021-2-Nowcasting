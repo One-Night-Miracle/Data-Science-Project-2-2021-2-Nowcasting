{
 "cells": [
  {
   "cell_type": "code",
   "execution_count": 5,
   "metadata": {},
   "outputs": [],
   "source": [
    "import pandas as pd\n",
    "from datetime import datetime"
   ]
  },
  {
   "cell_type": "code",
   "execution_count": 11,
   "metadata": {},
   "outputs": [
    {
     "data": {
      "text/html": [
       "<div>\n",
       "<style scoped>\n",
       "    .dataframe tbody tr th:only-of-type {\n",
       "        vertical-align: middle;\n",
       "    }\n",
       "\n",
       "    .dataframe tbody tr th {\n",
       "        vertical-align: top;\n",
       "    }\n",
       "\n",
       "    .dataframe thead th {\n",
       "        text-align: right;\n",
       "    }\n",
       "</style>\n",
       "<table border=\"1\" class=\"dataframe\">\n",
       "  <thead>\n",
       "    <tr style=\"text-align: right;\">\n",
       "      <th></th>\n",
       "      <th>DateTime</th>\n",
       "      <th>FolderPath</th>\n",
       "      <th>FileName</th>\n",
       "    </tr>\n",
       "  </thead>\n",
       "  <tbody>\n",
       "    <tr>\n",
       "      <th>0</th>\n",
       "      <td>2020-06-18 06:32:34</td>\n",
       "      <td>/content/bkk_radar_images_1/</td>\n",
       "      <td>1592461954.png</td>\n",
       "    </tr>\n",
       "    <tr>\n",
       "      <th>1</th>\n",
       "      <td>2020-06-18 06:35:36</td>\n",
       "      <td>/content/bkk_radar_images_1/</td>\n",
       "      <td>1592462136.png</td>\n",
       "    </tr>\n",
       "    <tr>\n",
       "      <th>2</th>\n",
       "      <td>2020-06-18 06:46:08</td>\n",
       "      <td>/content/bkk_radar_images_1/</td>\n",
       "      <td>1592462768.png</td>\n",
       "    </tr>\n",
       "    <tr>\n",
       "      <th>3</th>\n",
       "      <td>2020-06-18 06:51:08</td>\n",
       "      <td>/content/bkk_radar_images_1/</td>\n",
       "      <td>1592463068.png</td>\n",
       "    </tr>\n",
       "    <tr>\n",
       "      <th>4</th>\n",
       "      <td>2020-06-18 06:54:37</td>\n",
       "      <td>/content/bkk_radar_images_1/</td>\n",
       "      <td>1592463277.png</td>\n",
       "    </tr>\n",
       "  </tbody>\n",
       "</table>\n",
       "</div>"
      ],
      "text/plain": [
       "              DateTime                    FolderPath        FileName\n",
       "0  2020-06-18 06:32:34  /content/bkk_radar_images_1/  1592461954.png\n",
       "1  2020-06-18 06:35:36  /content/bkk_radar_images_1/  1592462136.png\n",
       "2  2020-06-18 06:46:08  /content/bkk_radar_images_1/  1592462768.png\n",
       "3  2020-06-18 06:51:08  /content/bkk_radar_images_1/  1592463068.png\n",
       "4  2020-06-18 06:54:37  /content/bkk_radar_images_1/  1592463277.png"
      ]
     },
     "execution_count": 11,
     "metadata": {},
     "output_type": "execute_result"
    }
   ],
   "source": [
    "file_name = 'mycsv2 (1)'\n",
    "file_path = './'\n",
    "time_df = pd.read_csv(f'{file_path}{file_name}.csv')\n",
    "\n",
    "time_df.drop('Unnamed: 0', axis=1, inplace=True)\n",
    "time_df.head()"
   ]
  },
  {
   "cell_type": "code",
   "execution_count": 12,
   "metadata": {},
   "outputs": [
    {
     "name": "stdout",
     "output_type": "stream",
     "text": [
      "<class 'pandas.core.frame.DataFrame'>\n",
      "RangeIndex: 86083 entries, 0 to 86082\n",
      "Data columns (total 3 columns):\n",
      " #   Column      Non-Null Count  Dtype \n",
      "---  ------      --------------  ----- \n",
      " 0   DateTime    86083 non-null  object\n",
      " 1   FolderPath  86083 non-null  object\n",
      " 2   FileName    86083 non-null  object\n",
      "dtypes: object(3)\n",
      "memory usage: 2.0+ MB\n"
     ]
    }
   ],
   "source": [
    "time_df.info()"
   ]
  },
  {
   "cell_type": "code",
   "execution_count": 13,
   "metadata": {},
   "outputs": [],
   "source": [
    "def dateTimeObj_converter(date): \n",
    "    # Converting string to datetime object\n",
    "    # Arguments: date (string)\n",
    "\n",
    "    date_obj = datetime.strptime(date, '%Y-%m-%d %H:%M:%S')\n",
    "    date_obj = date_obj.replace(second=0)\n",
    "    return date_obj"
   ]
  },
  {
   "cell_type": "code",
   "execution_count": 14,
   "metadata": {},
   "outputs": [],
   "source": [
    "time_df_tmp = time_df.copy()\n",
    "\n",
    "time_df_tmp['DateTime'] = time_df_tmp['DateTime'].apply(dateTimeObj_converter)\n",
    "\n",
    "# Round the time to the nearest 5 minutes\n",
    "time_df_tmp['DateTime'] = time_df_tmp['DateTime'].dt.round('5min')\n",
    "\n",
    "# Drop duplicates\n",
    "time_df_tmp.drop_duplicates(subset=['DateTime'], inplace=True)\n",
    "\n",
    "time_df_tmp.to_csv(f'{file_path}{file_name}_edited.csv', index=True)"
   ]
  },
  {
   "cell_type": "code",
   "execution_count": 15,
   "metadata": {},
   "outputs": [
    {
     "name": "stdout",
     "output_type": "stream",
     "text": [
      "<class 'pandas.core.frame.DataFrame'>\n",
      "Int64Index: 85389 entries, 0 to 86082\n",
      "Data columns (total 3 columns):\n",
      " #   Column      Non-Null Count  Dtype         \n",
      "---  ------      --------------  -----         \n",
      " 0   DateTime    85389 non-null  datetime64[ns]\n",
      " 1   FolderPath  85389 non-null  object        \n",
      " 2   FileName    85389 non-null  object        \n",
      "dtypes: datetime64[ns](1), object(2)\n",
      "memory usage: 2.6+ MB\n"
     ]
    }
   ],
   "source": [
    "time_df_tmp.info()"
   ]
  }
 ],
 "metadata": {
  "kernelspec": {
   "display_name": "Python 3.7 (torch)",
   "language": "python",
   "name": "torch"
  },
  "language_info": {
   "codemirror_mode": {
    "name": "ipython",
    "version": 3
   },
   "file_extension": ".py",
   "mimetype": "text/x-python",
   "name": "python",
   "nbconvert_exporter": "python",
   "pygments_lexer": "ipython3",
   "version": "3.7.13"
  },
  "orig_nbformat": 4
 },
 "nbformat": 4,
 "nbformat_minor": 2
}

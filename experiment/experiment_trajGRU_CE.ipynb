{
 "cells": [
  {
   "cell_type": "code",
   "execution_count": 1,
   "metadata": {},
   "outputs": [],
   "source": [
    "import torch\n",
    "from torch import nn\n",
    "from torch.optim import lr_scheduler\n",
    "import pandas as pd\n",
    "import numpy as np\n",
    "\n",
    "import os, sys\n",
    "sys.path.insert(0, os.path.realpath(os.path.pardir))\n",
    "\n",
    "from utils.config import cfg\n",
    "from utils.blocks.forecaster import Forecaster\n",
    "from utils.blocks.encoder import Encoder\n",
    "from utils.tools.ordered_easydict import OrderedDict\n",
    "from utils.blocks.module import EF\n",
    "from utils.loss import WeightedCrossEntropyLoss\n",
    "from utils.blocks.trajGRU import TrajGRU\n",
    "from utils.blocks.module import Predictor\n",
    "from utils.train_and_test import train_and_test\n",
    "from net_params import encoder_params, forecaster_params\n",
    "from utils.utils import *\n",
    "from utils.blocks.probToPixel import ProbToPixel"
   ]
  },
  {
   "cell_type": "code",
   "execution_count": 2,
   "metadata": {},
   "outputs": [],
   "source": [
    "batch_size = 2\n",
    "max_iterations = 5000\n",
    "test_iteration_interval = 100\n",
    "test_and_save_checkpoint_iterations = 100\n",
    "\n",
    "LR = 1e-5\n",
    "\n",
    "encoder = Encoder(encoder_params[0], encoder_params[1]).to(cfg.GLOBAL.DEVICE)\n",
    "\n",
    "forecaster = Forecaster(forecaster_params[0], forecaster_params[1]).to(cfg.GLOBAL.DEVICE)\n",
    "\n",
    "\n",
    "encoder_forecaster = EF(encoder, forecaster).to(cfg.GLOBAL.DEVICE)\n",
    "\n",
    "thresholds = cfg.EVALUATION.THRESHOLDS\n",
    "# encoder_forecaster.forecaster.stage1.conv3_3 = nn.Conv2d(8, len(thresholds)+1, kernel_size=(1, 1), stride=(1, 1)).to(cfg.GLOBAL.DEVICE)\n",
    "\n",
    "\n",
    "thresholds = dBZ_to_rainfall(thresholds)\n",
    "weights = np.ones_like(thresholds)\n",
    "balancing_weights = cfg.EVALUATION.BALANCING_WEIGHTS\n",
    "for i, threshold in enumerate(cfg.EVALUATION.THRESHOLDS):\n",
    "    weights = weights + (balancing_weights[i + 1] - balancing_weights[i]) * (thresholds >= threshold)\n",
    "weights = weights + 1\n",
    "weights = np.array([1] + weights.tolist())\n",
    "weights = torch.from_numpy(weights).to(cfg.GLOBAL.DEVICE).float()\n",
    "criterion = WeightedCrossEntropyLoss(thresholds, weights).to(cfg.GLOBAL.DEVICE)\n",
    "\n",
    "ts = rainfall_to_dBZ(thresholds).tolist()\n",
    "middle_value_dbz = np.array([-10.0] + [(x+y)/2 for x, y in zip(ts, ts[1:]+[60.0])])\n",
    "middle_value = dBZ_to_pixel(middle_value_dbz).astype(np.float32)\n",
    "probToPixel = ProbToPixel(middle_value, requires_grad=False)\n",
    "\n",
    "optimizer = torch.optim.Adam(encoder_forecaster.parameters(), lr=LR)\n",
    "exp_lr_scheduler = lr_scheduler.StepLR(optimizer, step_size=2000, gamma=0.7)\n",
    "\n",
    "folder_name = 'trajGRU_CE'"
   ]
  },
  {
   "cell_type": "code",
   "execution_count": 3,
   "metadata": {},
   "outputs": [
    {
     "name": "stdout",
     "output_type": "stream",
     "text": [
      "torch.Size([20, 4, 1, 480, 480])\n"
     ]
    }
   ],
   "source": [
    "data = torch.randn(5, 4, 1, 480, 480)\n",
    "output = encoder_forecaster(data)\n",
    "print(output.size())"
   ]
  },
  {
   "cell_type": "code",
   "execution_count": 4,
   "metadata": {},
   "outputs": [
    {
     "data": {
      "text/plain": [
       "EF(\n",
       "  (encoder): Encoder(\n",
       "    (rnn1): TrajGRU(\n",
       "      (i2h): Conv2d(8, 192, kernel_size=(3, 3), stride=(1, 1), padding=(1, 1))\n",
       "      (i2f_conv1): Conv2d(8, 32, kernel_size=(5, 5), stride=(1, 1), padding=(2, 2))\n",
       "      (h2f_conv1): Conv2d(64, 32, kernel_size=(5, 5), stride=(1, 1), padding=(2, 2))\n",
       "      (flows_conv): Conv2d(32, 26, kernel_size=(5, 5), stride=(1, 1), padding=(2, 2))\n",
       "      (ret): Conv2d(832, 192, kernel_size=(1, 1), stride=(1, 1))\n",
       "    )\n",
       "    (stage1): Sequential(\n",
       "      (conv1_leaky_1): Conv2d(1, 8, kernel_size=(7, 7), stride=(5, 5), padding=(1, 1))\n",
       "      (leaky_conv1_leaky_1): LeakyReLU(negative_slope=0.2, inplace=True)\n",
       "    )\n",
       "    (rnn2): TrajGRU(\n",
       "      (i2h): Conv2d(192, 576, kernel_size=(3, 3), stride=(1, 1), padding=(1, 1))\n",
       "      (i2f_conv1): Conv2d(192, 32, kernel_size=(5, 5), stride=(1, 1), padding=(2, 2))\n",
       "      (h2f_conv1): Conv2d(192, 32, kernel_size=(5, 5), stride=(1, 1), padding=(2, 2))\n",
       "      (flows_conv): Conv2d(32, 26, kernel_size=(5, 5), stride=(1, 1), padding=(2, 2))\n",
       "      (ret): Conv2d(2496, 576, kernel_size=(1, 1), stride=(1, 1))\n",
       "    )\n",
       "    (stage2): Sequential(\n",
       "      (conv2_leaky_1): Conv2d(64, 192, kernel_size=(5, 5), stride=(3, 3), padding=(1, 1))\n",
       "      (leaky_conv2_leaky_1): LeakyReLU(negative_slope=0.2, inplace=True)\n",
       "    )\n",
       "    (rnn3): TrajGRU(\n",
       "      (i2h): Conv2d(192, 576, kernel_size=(3, 3), stride=(1, 1), padding=(1, 1))\n",
       "      (i2f_conv1): Conv2d(192, 32, kernel_size=(5, 5), stride=(1, 1), padding=(2, 2))\n",
       "      (h2f_conv1): Conv2d(192, 32, kernel_size=(5, 5), stride=(1, 1), padding=(2, 2))\n",
       "      (flows_conv): Conv2d(32, 18, kernel_size=(5, 5), stride=(1, 1), padding=(2, 2))\n",
       "      (ret): Conv2d(1728, 576, kernel_size=(1, 1), stride=(1, 1))\n",
       "    )\n",
       "    (stage3): Sequential(\n",
       "      (conv3_leaky_1): Conv2d(192, 192, kernel_size=(3, 3), stride=(2, 2), padding=(1, 1))\n",
       "      (leaky_conv3_leaky_1): LeakyReLU(negative_slope=0.2, inplace=True)\n",
       "    )\n",
       "  )\n",
       "  (forecaster): Forecaster(\n",
       "    (rnn3): TrajGRU(\n",
       "      (i2h): Conv2d(192, 576, kernel_size=(3, 3), stride=(1, 1), padding=(1, 1))\n",
       "      (i2f_conv1): Conv2d(192, 32, kernel_size=(5, 5), stride=(1, 1), padding=(2, 2))\n",
       "      (h2f_conv1): Conv2d(192, 32, kernel_size=(5, 5), stride=(1, 1), padding=(2, 2))\n",
       "      (flows_conv): Conv2d(32, 26, kernel_size=(5, 5), stride=(1, 1), padding=(2, 2))\n",
       "      (ret): Conv2d(2496, 576, kernel_size=(1, 1), stride=(1, 1))\n",
       "    )\n",
       "    (stage3): Sequential(\n",
       "      (deconv1_leaky_1): ConvTranspose2d(192, 192, kernel_size=(4, 4), stride=(2, 2), padding=(1, 1))\n",
       "      (leaky_deconv1_leaky_1): LeakyReLU(negative_slope=0.2, inplace=True)\n",
       "    )\n",
       "    (rnn2): TrajGRU(\n",
       "      (i2h): Conv2d(192, 576, kernel_size=(3, 3), stride=(1, 1), padding=(1, 1))\n",
       "      (i2f_conv1): Conv2d(192, 32, kernel_size=(5, 5), stride=(1, 1), padding=(2, 2))\n",
       "      (h2f_conv1): Conv2d(192, 32, kernel_size=(5, 5), stride=(1, 1), padding=(2, 2))\n",
       "      (flows_conv): Conv2d(32, 26, kernel_size=(5, 5), stride=(1, 1), padding=(2, 2))\n",
       "      (ret): Conv2d(2496, 576, kernel_size=(1, 1), stride=(1, 1))\n",
       "    )\n",
       "    (stage2): Sequential(\n",
       "      (deconv2_leaky_1): ConvTranspose2d(192, 64, kernel_size=(5, 5), stride=(3, 3), padding=(1, 1))\n",
       "      (leaky_deconv2_leaky_1): LeakyReLU(negative_slope=0.2, inplace=True)\n",
       "    )\n",
       "    (rnn1): TrajGRU(\n",
       "      (i2h): Conv2d(64, 192, kernel_size=(3, 3), stride=(1, 1), padding=(1, 1))\n",
       "      (i2f_conv1): Conv2d(64, 32, kernel_size=(5, 5), stride=(1, 1), padding=(2, 2))\n",
       "      (h2f_conv1): Conv2d(64, 32, kernel_size=(5, 5), stride=(1, 1), padding=(2, 2))\n",
       "      (flows_conv): Conv2d(32, 18, kernel_size=(5, 5), stride=(1, 1), padding=(2, 2))\n",
       "      (ret): Conv2d(576, 192, kernel_size=(1, 1), stride=(1, 1))\n",
       "    )\n",
       "    (stage1): Sequential(\n",
       "      (deconv3_leaky_1): ConvTranspose2d(64, 8, kernel_size=(7, 7), stride=(5, 5), padding=(1, 1))\n",
       "      (leaky_deconv3_leaky_1): LeakyReLU(negative_slope=0.2, inplace=True)\n",
       "      (conv3_leaky_2): Conv2d(8, 8, kernel_size=(3, 3), stride=(1, 1), padding=(1, 1))\n",
       "      (leaky_conv3_leaky_2): LeakyReLU(negative_slope=0.2, inplace=True)\n",
       "      (conv3_3): Conv2d(8, 1, kernel_size=(1, 1), stride=(1, 1))\n",
       "    )\n",
       "  )\n",
       ")"
      ]
     },
     "execution_count": 4,
     "metadata": {},
     "output_type": "execute_result"
    }
   ],
   "source": [
    "encoder_forecaster"
   ]
  },
  {
   "cell_type": "code",
   "execution_count": null,
   "metadata": {},
   "outputs": [],
   "source": [
    "train_and_test(encoder_forecaster, optimizer, criterion, exp_lr_scheduler, batch_size, max_iterations, test_iteration_interval, test_and_save_checkpoint_iterations, folder_name, probToPixel)"
   ]
  },
  {
   "cell_type": "code",
   "execution_count": null,
   "metadata": {},
   "outputs": [],
   "source": [
    "# from utils.tools.evaluation import *\n",
    "# from utils.tools.dataloader import BKKIterator\n",
    "# import copy\n",
    "# import time\n",
    "# import pickle\n",
    "\n",
    "# IN_LEN = cfg.BENCHMARK.IN_LEN\n",
    "# OUT_LEN = cfg.BENCHMARK.OUT_LEN\n",
    "# name = 'conv2d'"
   ]
  },
  {
   "cell_type": "code",
   "execution_count": null,
   "metadata": {},
   "outputs": [],
   "source": [
    "# with torch.no_grad():\n",
    "#     is_deeplearning_model = (torch.nn.Module in model.__class__.__bases__)\n",
    "#     if is_deeplearning_model:\n",
    "#         model.eval()\n",
    "#     evaluator = Evaluation(seq_len=OUT_LEN, use_central=False)\n",
    "#     bkk_iter = BKKIterator(pd_path=cfg.ONM_PD.RAINY_TEST,\n",
    "#                                     sample_mode=\"sequent\",\n",
    "#                                     seq_len=IN_LEN + OUT_LEN,\n",
    "#                                     stride=cfg.BENCHMARK.STRIDE)\n",
    "#     model_run_avarage_time = dict()\n",
    "#     model_run_avarage_time[name] = 0.0\n",
    "#     valid_time = 0\n",
    "#     while not bkk_iter.use_up:\n",
    "#         valid_batch, valid_mask, sample_datetimes, _ = bkk_iter.sample(batch_size=1)\n",
    "#         if valid_batch.shape[1] == 0:\n",
    "#             break\n",
    "#         if not cfg.EVALUATION.VALID_DATA_USE_UP and valid_time > cfg.EVALUATION.VALID_TIME:\n",
    "#             break\n",
    "\n",
    "#         valid_batch = valid_batch.astype(np.float32) / 255.0\n",
    "#         valid_data = valid_batch[:IN_LEN, ...]\n",
    "#         valid_label = valid_batch[IN_LEN:IN_LEN + OUT_LEN, ...]\n",
    "#         mask = valid_mask[IN_LEN:IN_LEN + OUT_LEN, ...].astype(int)\n",
    "\n",
    "#         if is_deeplearning_model:\n",
    "#             valid_data = torch.from_numpy(valid_data).to(cfg.GLOBAL.DEVICE)\n",
    "\n",
    "#         start = time.time()\n",
    "#         output = model(valid_data)\n",
    "#         model_run_avarage_time[name] += time.time() - start\n",
    "\n",
    "#         if is_deeplearning_model:\n",
    "#             output = output.cpu().numpy()\n",
    "\n",
    "#         output = np.clip(output, 0.0, 1.0)\n",
    "\n",
    "#         evaluator.update(valid_label, output, mask)\n",
    "\n",
    "#         valid_time += 1\n",
    "#     model_run_avarage_time[name] /= valid_time\n",
    "#     evaluator.save_pkl(os.path.join(cfg.BENCHMARK.STAT_PATH, name + '.pkl'))"
   ]
  },
  {
   "cell_type": "code",
   "execution_count": null,
   "metadata": {},
   "outputs": [],
   "source": [
    "# with open(os.path.join(cfg.BENCHMARK.STAT_PATH, 'model_run_avarage_time.pkl'), 'wb') as f:\n",
    "#     pickle.dump(model_run_avarage_time, f)"
   ]
  },
  {
   "cell_type": "code",
   "execution_count": null,
   "metadata": {},
   "outputs": [],
   "source": [
    "# for p in os.listdir(os.path.abspath(cfg.BENCHMARK.STAT_PATH))[:1]:\n",
    "#     e = pickle.load(open(os.path.join(cfg.BENCHMARK.STAT_PATH, p), 'rb'))\n",
    "#     _, _, csi, hss, _, mse, mae, balanced_mse, balanced_mae, _ = e.calculate_stat()\n",
    "#     print(p.split('.')[0])\n",
    "#     for i, thresh in enumerate(cfg.EVALUATION.THRESHOLDS):\n",
    "#         print('thresh %.1f csi: average %.4f, last frame %.4f; hss: average %.4f, last frame %.4f;'\n",
    "#               % (thresh, csi[:, i].mean(), csi[-1, i], hss[:, i].mean(), hss[-1, i]))\n",
    "\n",
    "#     print(('mse: average %.2f, last frame %.2f\\n' +\n",
    "#         'mae: average %.2f, last frame %.2f\\n'+\n",
    "#         'bmse: average %.2f, last frame %.2f\\n' +\n",
    "#         'bmae: average %.2f, last frame %.2f\\n') % (mse.mean(), mse[-1], mae.mean(), mae[-1],\n",
    "#               balanced_mse.mean(), balanced_mse[-1], balanced_mae.mean(), balanced_mae[-1]))"
   ]
  },
  {
   "cell_type": "code",
   "execution_count": null,
   "metadata": {},
   "outputs": [],
   "source": []
  }
 ],
 "metadata": {
  "interpreter": {
   "hash": "879523fdd1caa97c1e3934ebf830ce8085ad945f90cf4d177a36bfe08fdbb668"
  },
  "kernelspec": {
   "display_name": "Python 3.8.13 ('torch')",
   "language": "python",
   "name": "python3"
  },
  "language_info": {
   "codemirror_mode": {
    "name": "ipython",
    "version": 3
   },
   "file_extension": ".py",
   "mimetype": "text/x-python",
   "name": "python",
   "nbconvert_exporter": "python",
   "pygments_lexer": "ipython3",
   "version": "3.8.13"
  },
  "orig_nbformat": 4
 },
 "nbformat": 4,
 "nbformat_minor": 2
}

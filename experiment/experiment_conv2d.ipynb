{
  "cells": [
    {
      "cell_type": "code",
      "execution_count": 89,
      "metadata": {
        "id": "FZVonPYSkReX"
      },
      "outputs": [],
      "source": [
        "import torch\n",
        "from torch.optim import lr_scheduler\n",
        "import pandas as pd\n",
        "import numpy as np\n",
        "\n",
        "import os, sys\n",
        "sys.path.insert(0, '/content/Data-Science-Project-2-2021-2-Nowcasting/')\n",
        "\n",
        "from utils.config import cfg\n",
        "from utils.blocks.forecaster import Forecaster\n",
        "from utils.blocks.encoder import Encoder\n",
        "from utils.tools.ordered_easydict import OrderedDict\n",
        "from utils.blocks.module import EF\n",
        "from utils.loss import Weighted_mse_mae\n",
        "from utils.train_and_test import train_and_test\n",
        "from experiment.net_params import conv2d_params\n",
        "from utils.blocks.module import Predictor\n",
        "\n",
        "if not os.path.exists(cfg.GLOBAL.MODEL_SAVE_DIR):\n",
        "    os.makedirs(cfg.GLOBAL.MODEL_SAVE_DIR)"
      ]
    },
    {
      "cell_type": "markdown",
      "metadata": {
        "id": "BWmWJacio2jl"
      },
      "source": [
        "## Train-Valid-Test Split"
      ]
    },
    {
      "cell_type": "code",
      "execution_count": 90,
      "metadata": {
        "id": "mKbkYBq1litw"
      },
      "outputs": [],
      "source": [
        "from utils.tools.train_test_split import *\n",
        "\n",
        "train_test_split(cfg.ONM_PD.FOLDER_ALL, ratio=(0.8,0.05,0.15))"
      ]
    },
    {
      "cell_type": "markdown",
      "metadata": {
        "id": "AcaH-rRGpCbU"
      },
      "source": [
        "## Experiment Conv2d"
      ]
    },
    {
      "cell_type": "code",
      "execution_count": 91,
      "metadata": {
        "id": "IQWB0ZEHpEYy"
      },
      "outputs": [],
      "source": [
        "batch_size = cfg.GLOBAL.BATCH_SIZE\n",
        "max_iterations = 10000\n",
        "test_iteration_interval = 1000\n",
        "test_and_save_checkpoint_iterations = 1000\n",
        "\n",
        "LR = 1e-4\n",
        "\n",
        "criterion = Weighted_mse_mae().to(cfg.GLOBAL.DEVICE)\n",
        "\n",
        "model = Predictor(conv2d_params).to(cfg.GLOBAL.DEVICE)\n",
        "\n",
        "optimizer = torch.optim.Adam(model.parameters(), lr=LR, weight_decay=1e-6)\n",
        "exp_lr_scheduler = lr_scheduler.StepLR(optimizer, step_size=2000, gamma=0.7)\n",
        "folder_name = \"conv2d\""
      ]
    },
    {
      "cell_type": "markdown",
      "metadata": {
        "id": "moPX6jTbq-9G"
      },
      "source": [
        "### Verifying model network"
      ]
    },
    {
      "cell_type": "code",
      "execution_count": 92,
      "metadata": {
        "colab": {
          "base_uri": "https://localhost:8080/"
        },
        "id": "GpyEPZn3prae",
        "outputId": "b0351df3-6ccc-44ba-f43c-75945bf23f18"
      },
      "outputs": [
        {
          "data": {
            "text/plain": [
              "Predictor(\n",
              "  (model): Sequential(\n",
              "    (conv1_relu_1): Conv2d(5, 64, kernel_size=(7, 7), stride=(5, 5), padding=(1, 1))\n",
              "    (relu_conv1_relu_1): ReLU(inplace=True)\n",
              "    (conv2_relu_1): Conv2d(64, 192, kernel_size=(5, 5), stride=(3, 3), padding=(1, 1))\n",
              "    (relu_conv2_relu_1): ReLU(inplace=True)\n",
              "    (conv3_relu_1): Conv2d(192, 192, kernel_size=(3, 3), stride=(2, 2), padding=(1, 1))\n",
              "    (relu_conv3_relu_1): ReLU(inplace=True)\n",
              "    (deconv1_relu_1): ConvTranspose2d(192, 192, kernel_size=(4, 4), stride=(2, 2), padding=(1, 1))\n",
              "    (relu_deconv1_relu_1): ReLU(inplace=True)\n",
              "    (deconv2_relu_1): ConvTranspose2d(192, 64, kernel_size=(5, 5), stride=(3, 3), padding=(1, 1))\n",
              "    (relu_deconv2_relu_1): ReLU(inplace=True)\n",
              "    (deconv3_relu_1): ConvTranspose2d(64, 64, kernel_size=(7, 7), stride=(5, 5), padding=(1, 1))\n",
              "    (relu_deconv3_relu_1): ReLU(inplace=True)\n",
              "    (conv3_relu_2): Conv2d(64, 20, kernel_size=(3, 3), stride=(1, 1), padding=(1, 1))\n",
              "    (relu_conv3_relu_2): ReLU(inplace=True)\n",
              "    (conv3_3): Conv2d(20, 20, kernel_size=(1, 1), stride=(1, 1))\n",
              "  )\n",
              ")"
            ]
          },
          "execution_count": 92,
          "metadata": {},
          "output_type": "execute_result"
        }
      ],
      "source": [
        "model"
      ]
    },
    {
      "cell_type": "markdown",
      "metadata": {
        "id": "PS2fi4Mcq43_"
      },
      "source": [
        "### Verifying input/output shape"
      ]
    },
    {
      "cell_type": "code",
      "execution_count": 93,
      "metadata": {
        "colab": {
          "base_uri": "https://localhost:8080/"
        },
        "id": "k-hgEIBDpJyV",
        "outputId": "29509c08-08a7-454f-e532-9ce4ccc3aa42"
      },
      "outputs": [
        {
          "name": "stdout",
          "output_type": "stream",
          "text": [
            "torch.Size([20, 4, 1, 480, 480])\n"
          ]
        }
      ],
      "source": [
        "data = torch.randn(5, 4, 1, 480, 480)\n",
        "output = model(data.cuda())\n",
        "print(output.size())"
      ]
    },
    {
      "cell_type": "markdown",
      "metadata": {
        "id": "sq3W5PttMEV-"
      },
      "source": [
        "### Train and Test"
      ]
    },
    {
      "cell_type": "code",
      "execution_count": null,
      "metadata": {
        "colab": {
          "base_uri": "https://localhost:8080/"
        },
        "id": "EXcuogZ-rBuH",
        "outputId": "80c3dae3-31ba-485a-b381-ceecc419fd15"
      },
      "outputs": [
        {
          "name": "stderr",
          "output_type": "stream",
          "text": [
            "  0%|          | 0/20000 [00:00<?, ?it/s]/usr/local/lib/python3.7/dist-packages/torch/optim/lr_scheduler.py:136: UserWarning: Detected call of `lr_scheduler.step()` before `optimizer.step()`. In PyTorch 1.1.0 and later, you should call them in the opposite order: `optimizer.step()` before `lr_scheduler.step()`.  Failure to do this will result in PyTorch skipping the first value of the learning rate schedule. See more details at https://pytorch.org/docs/stable/optim.html#how-to-adjust-learning-rate\n",
            "  \"https://pytorch.org/docs/stable/optim.html#how-to-adjust-learning-rate\", UserWarning)\n",
            " 21%|██▏       | 4293/20000 [1:11:23<2:17:53,  1.90it/s]"
          ]
        }
      ],
      "source": [
        "train_and_test(model, optimizer, criterion, exp_lr_scheduler, batch_size, max_iterations, test_iteration_interval, test_and_save_checkpoint_iterations, folder_name)"
      ]
    }
  ],
  "metadata": {
    "accelerator": "GPU",
    "colab": {
      "collapsed_sections": [],
      "name": "experiment_conv2d.ipynb",
      "provenance": []
    },
    "interpreter": {
      "hash": "eb1796cbf25d2108f32d5db083036b25e583e4721264bccb55031d3096240637"
    },
    "kernelspec": {
      "display_name": "Python 3.8.13 ('torch')",
      "language": "python",
      "name": "python3"
    },
    "language_info": {
      "name": "python",
      "version": "3.8.13"
    }
  },
  "nbformat": 4,
  "nbformat_minor": 0
}

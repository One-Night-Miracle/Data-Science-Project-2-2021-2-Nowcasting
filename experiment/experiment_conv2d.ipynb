{
 "cells": [
  {
   "cell_type": "code",
   "execution_count": 1,
   "metadata": {},
   "outputs": [],
   "source": [
    "import torch\n",
    "from torch.optim import lr_scheduler\n",
    "import pandas as pd"
   ]
  },
  {
   "cell_type": "code",
   "execution_count": 2,
   "metadata": {},
   "outputs": [],
   "source": [
    "import os, sys\n",
    "sys.path.insert(0, os.path.realpath(os.path.pardir))\n",
    "\n",
    "from utils.config import cfg\n",
    "from utils.blocks.forecaster import Forecaster\n",
    "from utils.blocks.encoder import Encoder\n",
    "from utils.tools.ordered_easydict import OrderedDict\n",
    "from utils.blocks.module import EF\n",
    "from utils.loss import Weighted_mse_mae\n",
    "from utils.train_and_test import train_and_test\n",
    "from utils.net_params import conv2d_params\n",
    "from utils.blocks.module import Predictor"
   ]
  },
  {
   "cell_type": "code",
   "execution_count": 3,
   "metadata": {},
   "outputs": [],
   "source": [
    "batch_size = cfg.GLOBAL.BATCH_SIZE\n",
    "max_iterations = 10 #80000\n",
    "test_iteration_interval = 5 #10000\n",
    "test_and_save_checkpoint_iterations = 5 #10000\n",
    "\n",
    "LR = 1e-4\n",
    "\n",
    "criterion = Weighted_mse_mae().to(cfg.GLOBAL.DEVICE)\n",
    "\n",
    "model = Predictor(conv2d_params).to(cfg.GLOBAL.DEVICE)\n",
    "# data = torch.randn(5, 4, 1, 2034, 2048)\n",
    "# output = model(data)\n",
    "# print(output.size())\n",
    "\n",
    "optimizer = torch.optim.Adam(model.parameters(), lr=LR, weight_decay=1e-6)\n",
    "exp_lr_scheduler = lr_scheduler.StepLR(optimizer, step_size=20000, gamma=0.7)\n",
    "folder_name = \"convLSTM\""
   ]
  },
  {
   "cell_type": "code",
   "execution_count": 4,
   "metadata": {},
   "outputs": [
    {
     "name": "stderr",
     "output_type": "stream",
     "text": [
      "c:\\Users\\FACT-PC\\anaconda3\\envs\\torch\\lib\\site-packages\\torch\\nn\\functional.py:3631: UserWarning: Default upsampling behavior when mode=bilinear is changed to align_corners=False since 0.4.0. Please specify align_corners=True if the old behavior is desired. See the documentation of nn.Upsample for details.\n",
      "  warnings.warn(\n"
     ]
    },
    {
     "name": "stdout",
     "output_type": "stream",
     "text": [
      "torch.Size([20, 4, 1, 2034, 2048])\n"
     ]
    }
   ],
   "source": [
    "data = torch.randn(5, 4, 1, 2034, 2048)\n",
    "output = model(data)\n",
    "print(output.size())"
   ]
  },
  {
   "cell_type": "code",
   "execution_count": 5,
   "metadata": {},
   "outputs": [
    {
     "data": {
      "text/plain": [
       "Predictor(\n",
       "  (model): Sequential(\n",
       "    (conv1_relu_1): Conv2d(5, 64, kernel_size=(7, 7), stride=(5, 5), padding=(7, 1))\n",
       "    (relu_conv1_relu_1): ReLU(inplace=True)\n",
       "    (conv2_relu_1): Conv2d(64, 192, kernel_size=(7, 7), stride=(5, 5), padding=(1, 1))\n",
       "    (relu_conv2_relu_1): ReLU(inplace=True)\n",
       "    (conv3_relu_1): Conv2d(192, 576, kernel_size=(5, 5), stride=(3, 3), padding=(1, 1))\n",
       "    (relu_conv3_relu_1): ReLU(inplace=True)\n",
       "    (conv4_relu_1): Conv2d(576, 1728, kernel_size=(3, 3), stride=(2, 2), padding=(1, 1))\n",
       "    (relu_conv4_relu_1): ReLU(inplace=True)\n",
       "    (conv5_relu_1): Conv2d(1728, 1728, kernel_size=(3, 3), stride=(2, 2), padding=(1, 1))\n",
       "    (relu_conv5_relu_1): ReLU(inplace=True)\n",
       "    (deconv1_relu_1): ConvTranspose2d(1728, 1728, kernel_size=(4, 4), stride=(2, 2), padding=(1, 1))\n",
       "    (relu_deconv1_relu_1): ReLU(inplace=True)\n",
       "    (deconv2_relu_1): ConvTranspose2d(1728, 576, kernel_size=(5, 5), stride=(3, 3), padding=(1, 1))\n",
       "    (relu_deconv2_relu_1): ReLU(inplace=True)\n",
       "    (deconv3_relu_1): ConvTranspose2d(576, 196, kernel_size=(7, 7), stride=(5, 5), padding=(1, 1))\n",
       "    (relu_deconv3_relu_1): ReLU(inplace=True)\n",
       "    (deconv4_relu_1): ConvTranspose2d(196, 64, kernel_size=(7, 7), stride=(5, 5), padding=(1, 1))\n",
       "    (relu_deconv4_relu_1): ReLU(inplace=True)\n",
       "    (conv3_relu_2): Conv2d(64, 20, kernel_size=(3, 3), stride=(1, 1), padding=(1, 1))\n",
       "    (relu_conv3_relu_2): ReLU(inplace=True)\n",
       "    (conv3_3): Conv2d(20, 20, kernel_size=(1, 1), stride=(1, 1))\n",
       "  )\n",
       "  (interpolate): Interpolate()\n",
       ")"
      ]
     },
     "execution_count": 5,
     "metadata": {},
     "output_type": "execute_result"
    }
   ],
   "source": [
    "model"
   ]
  },
  {
   "cell_type": "code",
   "execution_count": null,
   "metadata": {},
   "outputs": [],
   "source": [
    "train_and_test(model, optimizer, criterion, exp_lr_scheduler, batch_size, max_iterations, test_iteration_interval, test_and_save_checkpoint_iterations, folder_name)"
   ]
  }
 ],
 "metadata": {
  "interpreter": {
   "hash": "eb1796cbf25d2108f32d5db083036b25e583e4721264bccb55031d3096240637"
  },
  "kernelspec": {
   "display_name": "Python 3.8.13 ('torch')",
   "language": "python",
   "name": "python3"
  },
  "language_info": {
   "codemirror_mode": {
    "name": "ipython",
    "version": 3
   },
   "file_extension": ".py",
   "mimetype": "text/x-python",
   "name": "python",
   "nbconvert_exporter": "python",
   "pygments_lexer": "ipython3",
   "version": "3.8.13"
  },
  "orig_nbformat": 4
 },
 "nbformat": 4,
 "nbformat_minor": 2
}

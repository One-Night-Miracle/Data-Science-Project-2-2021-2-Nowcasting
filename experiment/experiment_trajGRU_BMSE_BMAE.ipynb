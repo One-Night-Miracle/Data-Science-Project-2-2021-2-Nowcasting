{
 "cells": [
  {
   "cell_type": "code",
   "execution_count": 1,
   "metadata": {},
   "outputs": [],
   "source": [
    "import torch\n",
    "from torch.optim import lr_scheduler\n",
    "import pandas as pd"
   ]
  },
  {
   "cell_type": "code",
   "execution_count": 2,
   "metadata": {},
   "outputs": [],
   "source": [
    "import os, sys\n",
    "sys.path.insert(0, os.path.realpath(os.path.pardir))\n",
    "\n",
    "from utils.config import cfg\n",
    "from utils.blocks.forecaster import Forecaster\n",
    "from utils.blocks.encoder import Encoder\n",
    "from utils.tools.ordered_easydict import OrderedDict\n",
    "from utils.blocks.module import EF\n",
    "from utils.loss import Weighted_mse_mae\n",
    "from utils.train_and_test import train_and_test\n",
    "from net_params import conv2d_params\n",
    "from utils.blocks.module import Predictor"
   ]
  },
  {
   "cell_type": "code",
   "execution_count": 3,
   "metadata": {},
   "outputs": [],
   "source": [
    "batch_size = cfg.GLOBAL.BATCH_SIZE\n",
    "max_iterations = 10 #80000\n",
    "test_iteration_interval = 5 #10000\n",
    "test_and_save_checkpoint_iterations = 5 #10000\n",
    "\n",
    "LR = 1e-4\n",
    "\n",
    "criterion = Weighted_mse_mae().to(cfg.GLOBAL.DEVICE)\n",
    "\n",
    "model = Predictor(conv2d_params).to(cfg.GLOBAL.DEVICE)\n",
    "# data = torch.randn(5, 4, 1, 480, 480)\n",
    "# output = model(data)\n",
    "# print(output.size())\n",
    "\n",
    "optimizer = torch.optim.Adam(model.parameters(), lr=LR, weight_decay=1e-6)\n",
    "exp_lr_scheduler = lr_scheduler.StepLR(optimizer, step_size=2, gamma=0.7) #step_size=20000\n",
    "folder_name = \"trajGRU_BMSE_BMAE\""
   ]
  },
  {
   "cell_type": "code",
   "execution_count": 4,
   "metadata": {},
   "outputs": [
    {
     "name": "stdout",
     "output_type": "stream",
     "text": [
      "torch.Size([20, 4, 1, 480, 480])\n"
     ]
    }
   ],
   "source": [
    "data = torch.randn(5, 4, 1, 480, 480)\n",
    "output = model(data)\n",
    "print(output.size())"
   ]
  },
  {
   "cell_type": "code",
   "execution_count": 5,
   "metadata": {},
   "outputs": [
    {
     "data": {
      "text/plain": [
       "Predictor(\n",
       "  (model): Sequential(\n",
       "    (conv1_relu_1): Conv2d(5, 64, kernel_size=(7, 7), stride=(5, 5), padding=(1, 1))\n",
       "    (relu_conv1_relu_1): ReLU(inplace=True)\n",
       "    (conv2_relu_1): Conv2d(64, 192, kernel_size=(5, 5), stride=(3, 3), padding=(1, 1))\n",
       "    (relu_conv2_relu_1): ReLU(inplace=True)\n",
       "    (conv3_relu_1): Conv2d(192, 192, kernel_size=(3, 3), stride=(2, 2), padding=(1, 1))\n",
       "    (relu_conv3_relu_1): ReLU(inplace=True)\n",
       "    (deconv1_relu_1): ConvTranspose2d(192, 192, kernel_size=(4, 4), stride=(2, 2), padding=(1, 1))\n",
       "    (relu_deconv1_relu_1): ReLU(inplace=True)\n",
       "    (deconv2_relu_1): ConvTranspose2d(192, 64, kernel_size=(5, 5), stride=(3, 3), padding=(1, 1))\n",
       "    (relu_deconv2_relu_1): ReLU(inplace=True)\n",
       "    (deconv3_relu_1): ConvTranspose2d(64, 64, kernel_size=(7, 7), stride=(5, 5), padding=(1, 1))\n",
       "    (relu_deconv3_relu_1): ReLU(inplace=True)\n",
       "    (conv3_relu_2): Conv2d(64, 20, kernel_size=(3, 3), stride=(1, 1), padding=(1, 1))\n",
       "    (relu_conv3_relu_2): ReLU(inplace=True)\n",
       "    (conv3_3): Conv2d(20, 20, kernel_size=(1, 1), stride=(1, 1))\n",
       "  )\n",
       ")"
      ]
     },
     "execution_count": 5,
     "metadata": {},
     "output_type": "execute_result"
    }
   ],
   "source": [
    "model"
   ]
  },
  {
   "cell_type": "code",
   "execution_count": 6,
   "metadata": {},
   "outputs": [
    {
     "name": "stderr",
     "output_type": "stream",
     "text": [
      "  0%|          | 0/10 [00:00<?, ?it/s]c:\\Users\\FACT-PC\\anaconda3\\envs\\torch\\lib\\site-packages\\torch\\optim\\lr_scheduler.py:129: UserWarning: Detected call of `lr_scheduler.step()` before `optimizer.step()`. In PyTorch 1.1.0 and later, you should call them in the opposite order: `optimizer.step()` before `lr_scheduler.step()`.  Failure to do this will result in PyTorch skipping the first value of the learning rate schedule. See more details at https://pytorch.org/docs/stable/optim.html#how-to-adjust-learning-rate\n",
      "  warnings.warn(\"Detected call of `lr_scheduler.step()` before `optimizer.step()`. \"\n",
      "100%|██████████| 10/10 [03:19<00:00, 19.98s/it]\n"
     ]
    }
   ],
   "source": [
    "train_and_test(model, optimizer, criterion, exp_lr_scheduler, batch_size, max_iterations, test_iteration_interval, test_and_save_checkpoint_iterations, folder_name)"
   ]
  },
  {
   "cell_type": "code",
   "execution_count": 9,
   "metadata": {},
   "outputs": [],
   "source": [
    "from utils.tools.evaluation import *\n",
    "from utils.tools.dataloader import BKKIterator\n",
    "import copy\n",
    "import time\n",
    "import pickle\n",
    "\n",
    "IN_LEN = cfg.BENCHMARK.IN_LEN\n",
    "OUT_LEN = cfg.BENCHMARK.OUT_LEN\n",
    "name = 'conv2d'"
   ]
  },
  {
   "cell_type": "code",
   "execution_count": 10,
   "metadata": {},
   "outputs": [],
   "source": [
    "with torch.no_grad():\n",
    "    is_deeplearning_model = (torch.nn.Module in model.__class__.__bases__)\n",
    "    if is_deeplearning_model:\n",
    "        model.eval()\n",
    "    evaluator = Evaluation(seq_len=OUT_LEN, use_central=False)\n",
    "    bkk_iter = BKKIterator(pd_path=cfg.ONM_PD.RAINY_TEST,\n",
    "                                    sample_mode=\"sequent\",\n",
    "                                    seq_len=IN_LEN + OUT_LEN,\n",
    "                                    stride=cfg.BENCHMARK.STRIDE)\n",
    "    model_run_avarage_time = dict()\n",
    "    model_run_avarage_time[name] = 0.0\n",
    "    valid_time = 0\n",
    "    while not bkk_iter.use_up:\n",
    "        valid_batch, valid_mask, sample_datetimes, _ = bkk_iter.sample(batch_size=1)\n",
    "        if valid_batch.shape[1] == 0:\n",
    "            break\n",
    "        if not cfg.EVALUATION.VALID_DATA_USE_UP and valid_time > cfg.EVALUATION.VALID_TIME:\n",
    "            break\n",
    "\n",
    "        valid_batch = valid_batch.astype(np.float32) / 255.0\n",
    "        valid_data = valid_batch[:IN_LEN, ...]\n",
    "        valid_label = valid_batch[IN_LEN:IN_LEN + OUT_LEN, ...]\n",
    "        mask = valid_mask[IN_LEN:IN_LEN + OUT_LEN, ...].astype(int)\n",
    "\n",
    "        if is_deeplearning_model:\n",
    "            valid_data = torch.from_numpy(valid_data).to(cfg.GLOBAL.DEVICE)\n",
    "\n",
    "        start = time.time()\n",
    "        output = model(valid_data)\n",
    "        model_run_avarage_time[name] += time.time() - start\n",
    "\n",
    "        if is_deeplearning_model:\n",
    "            output = output.cpu().numpy()\n",
    "\n",
    "        output = np.clip(output, 0.0, 1.0)\n",
    "\n",
    "        evaluator.update(valid_label, output, mask)\n",
    "\n",
    "        valid_time += 1\n",
    "    model_run_avarage_time[name] /= valid_time\n",
    "    evaluator.save_pkl(os.path.join(cfg.BENCHMARK.STAT_PATH, name + '.pkl'))"
   ]
  },
  {
   "cell_type": "code",
   "execution_count": 11,
   "metadata": {},
   "outputs": [],
   "source": [
    "with open(os.path.join(cfg.BENCHMARK.STAT_PATH, 'model_run_avarage_time.pkl'), 'wb') as f:\n",
    "    pickle.dump(model_run_avarage_time, f)"
   ]
  },
  {
   "cell_type": "code",
   "execution_count": 16,
   "metadata": {},
   "outputs": [
    {
     "name": "stdout",
     "output_type": "stream",
     "text": [
      "conv2d\n",
      "thresh 0.0 csi: average 0.3333, last frame 0.3333; hss: average 0.0000, last frame 0.0000;\n",
      "thresh 5.5 csi: average 0.3333, last frame 0.3333; hss: average 0.0000, last frame 0.0000;\n",
      "thresh 10.0 csi: average 0.3333, last frame 0.3333; hss: average 0.0000, last frame 0.0000;\n",
      "thresh 15.0 csi: average 0.3333, last frame 0.3333; hss: average 0.0000, last frame 0.0000;\n",
      "thresh 20.0 csi: average 0.3333, last frame 0.3333; hss: average 0.0000, last frame 0.0000;\n",
      "thresh 25.0 csi: average 0.3333, last frame 0.3333; hss: average 0.0000, last frame 0.0000;\n",
      "thresh 30.0 csi: average 0.3333, last frame 0.3333; hss: average 0.0000, last frame 0.0000;\n",
      "thresh 35.0 csi: average 0.3333, last frame 0.3333; hss: average 0.0000, last frame 0.0000;\n",
      "thresh 40.0 csi: average 0.3333, last frame 0.3333; hss: average 0.0000, last frame 0.0000;\n",
      "thresh 45.0 csi: average 0.3333, last frame 0.3333; hss: average 0.0000, last frame 0.0000;\n",
      "thresh 50.0 csi: average 0.3333, last frame 0.3333; hss: average 0.0000, last frame 0.0000;\n",
      "thresh 55.0 csi: average 0.3333, last frame 0.3333; hss: average 0.0000, last frame 0.0000;\n",
      "thresh 60.0 csi: average 0.3333, last frame 0.3333; hss: average 0.0000, last frame 0.0000;\n",
      "thresh 65.0 csi: average 0.3333, last frame 0.3333; hss: average 0.0000, last frame 0.0000;\n",
      "thresh 70.0 csi: average 0.3333, last frame 0.3333; hss: average 0.0000, last frame 0.0000;\n",
      "thresh 75.0 csi: average 0.3333, last frame 0.3333; hss: average 0.0000, last frame 0.0000;\n",
      "mse: average 0.00, last frame 0.00\n",
      "mae: average 0.00, last frame 0.00\n",
      "bmse: average 0.00, last frame 0.00\n",
      "bmae: average 0.00, last frame 0.00\n",
      "\n"
     ]
    }
   ],
   "source": [
    "for p in os.listdir(os.path.abspath(cfg.BENCHMARK.STAT_PATH))[:1]:\n",
    "    e = pickle.load(open(os.path.join(cfg.BENCHMARK.STAT_PATH, p), 'rb'))\n",
    "    _, _, csi, hss, _, mse, mae, balanced_mse, balanced_mae, _ = e.calculate_stat()\n",
    "    print(p.split('.')[0])\n",
    "    for i, thresh in enumerate(cfg.EVALUATION.THRESHOLDS):\n",
    "        print('thresh %.1f csi: average %.4f, last frame %.4f; hss: average %.4f, last frame %.4f;'\n",
    "              % (thresh, csi[:, i].mean(), csi[-1, i], hss[:, i].mean(), hss[-1, i]))\n",
    "\n",
    "    print(('mse: average %.2f, last frame %.2f\\n' +\n",
    "        'mae: average %.2f, last frame %.2f\\n'+\n",
    "        'bmse: average %.2f, last frame %.2f\\n' +\n",
    "        'bmae: average %.2f, last frame %.2f\\n') % (mse.mean(), mse[-1], mae.mean(), mae[-1],\n",
    "              balanced_mse.mean(), balanced_mse[-1], balanced_mae.mean(), balanced_mae[-1]))"
   ]
  },
  {
   "cell_type": "code",
   "execution_count": null,
   "metadata": {},
   "outputs": [],
   "source": []
  }
 ],
 "metadata": {
  "interpreter": {
   "hash": "eb1796cbf25d2108f32d5db083036b25e583e4721264bccb55031d3096240637"
  },
  "kernelspec": {
   "display_name": "Python 3.8.13 ('torch')",
   "language": "python",
   "name": "python3"
  },
  "language_info": {
   "codemirror_mode": {
    "name": "ipython",
    "version": 3
   },
   "file_extension": ".py",
   "mimetype": "text/x-python",
   "name": "python",
   "nbconvert_exporter": "python",
   "pygments_lexer": "ipython3",
   "version": "3.8.13"
  },
  "orig_nbformat": 4
 },
 "nbformat": 4,
 "nbformat_minor": 2
}

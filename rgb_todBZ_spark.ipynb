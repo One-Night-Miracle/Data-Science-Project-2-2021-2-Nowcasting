{
 "cells": [
  {
   "cell_type": "code",
   "execution_count": 1,
   "metadata": {},
   "outputs": [],
   "source": [
    "import numpy as np\n",
    " \n",
    "from pyspark import SparkContext\n",
    "from pyspark import SparkConf"
   ]
  },
  {
   "cell_type": "code",
   "execution_count": 2,
   "metadata": {},
   "outputs": [],
   "source": [
    "import findspark\n",
    "findspark.init()"
   ]
  },
  {
   "cell_type": "code",
   "execution_count": 3,
   "metadata": {},
   "outputs": [],
   "source": [
    "cluster_url = 'local'"
   ]
  },
  {
   "cell_type": "code",
   "execution_count": 4,
   "metadata": {},
   "outputs": [],
   "source": [
    "from pyspark.sql import SparkSession"
   ]
  },
  {
   "cell_type": "code",
   "execution_count": 5,
   "metadata": {},
   "outputs": [],
   "source": [
    "spark = SparkSession.builder\\\n",
    "        .master(cluster_url)\\\n",
    "        .appName('SparkSQL')\\\n",
    "        .getOrCreate()"
   ]
  },
  {
   "cell_type": "code",
   "execution_count": null,
   "metadata": {},
   "outputs": [],
   "source": [
    "def radar_colormap():\n",
    "    nws_reflectivity_colors = np.array([\n",
    "    (165, 151, 95), # ND\n",
    "    (0, 255, 128), # 5.5\n",
    "    (0, 255, 0), # 10\n",
    "    (0, 175, 0), # 15\n",
    "    (0, 150, 50), # 20\n",
    "    (255, 255, 0), # 25\n",
    "    (255, 200, 0), # 30\n",
    "    (255, 170, 0), # 35\n",
    "    (255, 85, 0), # 40\n",
    "    (255, 0, 0), # 45\n",
    "    (255, 0, 100), # 50\n",
    "    (255, 0, 255), # 55\n",
    "    (255, 128, 255), # 60\n",
    "    (255, 200, 255), # 65\n",
    "    (255, 225, 255), # 70\n",
    "    (255, 255, 255) # 75\n",
    "    ])\n",
    "    return nws_reflectivity_colors\n",
    "\n",
    "dBZmap = np([0,5.5,10,15,20,25,30,35,40,45,50,55,60,65,70,75])\n",
    "dBZmap = dBZmap*255/75"
   ]
  }
 ],
 "metadata": {
  "interpreter": {
   "hash": "27c854e86747fc6ab049c5ee8b4a3668d55fbeb90dba6fe5839ca0b5ee911c7b"
  },
  "kernelspec": {
   "display_name": "Python 3.7.13 ('torch')",
   "language": "python",
   "name": "python3"
  },
  "language_info": {
   "codemirror_mode": {
    "name": "ipython",
    "version": 3
   },
   "file_extension": ".py",
   "mimetype": "text/x-python",
   "name": "python",
   "nbconvert_exporter": "python",
   "pygments_lexer": "ipython3",
   "version": "3.7.13"
  },
  "orig_nbformat": 4
 },
 "nbformat": 4,
 "nbformat_minor": 2
}
